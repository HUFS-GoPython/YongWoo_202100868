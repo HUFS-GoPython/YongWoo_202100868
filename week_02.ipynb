{
 "cells": [
  {
   "cell_type": "markdown",
   "id": "c4d1a484-4e02-454c-82fc-0f11103ade5e",
   "metadata": {
    "tags": []
   },
   "source": [
    "# chapter 2 : Variable\n",
    " - integer\n",
    " - float\n",
    " - string\n",
    " - boolean\n",
    " "
   ]
  },
  {
   "cell_type": "code",
   "execution_count": 72,
   "id": "af08a48e-94ed-4403-8ba9-e0ea29cfc337",
   "metadata": {},
   "outputs": [
    {
     "data": {
      "text/plain": [
       "1"
      ]
     },
     "execution_count": 72,
     "metadata": {},
     "output_type": "execute_result"
    }
   ],
   "source": [
    "# 여러 이름 동시에 할당\n",
    "one = un = uno = 1 #할당 순서는 뒤에서부터!!\n",
    "\n",
    "#각종 변수명, 연산자 등 함께 쓸 때 띄어쓰기 신경쓰기\n",
    "\n",
    "one"
   ]
  },
  {
   "cell_type": "code",
   "execution_count": 73,
   "id": "4512ff2b-7416-4b5f-8f80-e05087d6f0cb",
   "metadata": {},
   "outputs": [
    {
     "name": "stdout",
     "output_type": "stream",
     "text": [
      "11 1\n"
     ]
    }
   ],
   "source": [
    "#one의 값을 바꾸면 다른 un,uno의 값은 바뀔까?\n",
    "\n",
    "one = 11\n",
    "\n",
    "print(one,uno)\n",
    "\n",
    "#불변객체이기 때문에 바뀌지 않음"
   ]
  },
  {
   "cell_type": "code",
   "execution_count": 74,
   "id": "65463583-bcb0-431f-8553-37aec3b82be6",
   "metadata": {},
   "outputs": [
    {
     "data": {
      "text/plain": [
       "(140660716006000, 140660716005680)"
      ]
     },
     "execution_count": 74,
     "metadata": {},
     "output_type": "execute_result"
    }
   ],
   "source": [
    "id(one),id(uno)\n",
    "\n",
    "#id 값을 확인해봐도 둘의 주소는 같지 않음"
   ]
  },
  {
   "cell_type": "code",
   "execution_count": 75,
   "id": "852fcafd-7f9c-4acd-9e38-a8ccf0774c90",
   "metadata": {},
   "outputs": [
    {
     "data": {
      "text/plain": [
       "([2, 4, 6], [2, 4, 6])"
      ]
     },
     "execution_count": 75,
     "metadata": {},
     "output_type": "execute_result"
    }
   ],
   "source": [
    "#리스트의 경우에는 어떨까?\n",
    "\n",
    "list1 = [2, 4, 6]\n",
    "list2 = list1\n",
    "\n",
    "list1, list2"
   ]
  },
  {
   "cell_type": "code",
   "execution_count": 76,
   "id": "a6ca9b8a-33b4-4251-acd5-b53dc434ddd3",
   "metadata": {},
   "outputs": [
    {
     "data": {
      "text/plain": [
       "(140660196732416, 140660196732416)"
      ]
     },
     "execution_count": 76,
     "metadata": {},
     "output_type": "execute_result"
    }
   ],
   "source": [
    "id(list1),id(list2)\n",
    "\n",
    "#두 리스트의 id값을 확인하면 같은 것을 확인할 수 있음"
   ]
  },
  {
   "cell_type": "code",
   "execution_count": 77,
   "id": "b643decf-40e1-4326-a7e7-864dd95055ac",
   "metadata": {},
   "outputs": [
    {
     "data": {
      "text/plain": [
       "([9, 4, 6], [9, 4, 6])"
      ]
     },
     "execution_count": 77,
     "metadata": {},
     "output_type": "execute_result"
    }
   ],
   "source": [
    "#리스트의 값을 변경하고 두 리스트의 값을 확인해보자\n",
    "\n",
    "list1[0] = 9\n",
    "\n",
    "list1, list2\n",
    "\n",
    "#리스트는 대표적인 가변객체이기 때문"
   ]
  },
  {
   "cell_type": "code",
   "execution_count": 78,
   "id": "2bfd54c2-d3c3-41f4-ac6b-ab26d3d639c0",
   "metadata": {},
   "outputs": [
    {
     "data": {
      "text/plain": [
       "(140660196732416, 140660196732416)"
      ]
     },
     "execution_count": 78,
     "metadata": {},
     "output_type": "execute_result"
    }
   ],
   "source": [
    "id(list1),id(list2)\n",
    "\n",
    "#id 또한 그대로같은 것을 확인가능!"
   ]
  },
  {
   "cell_type": "markdown",
   "id": "5c1ebc43-a8f2-4693-82d5-9387be02ea27",
   "metadata": {
    "jp-MarkdownHeadingCollapsed": true,
    "tags": []
   },
   "source": [
    "## 좋은 변수명 만들기\n",
    "- 간결하고 명확하게\n",
    "- 의미를 담도록\n",
    "a, b, c ...\n",
    "- 코드에는 의미, 주석에는 의도가 담긴다\n",
    "    - 예:the number of students--> n < the_number_of_students < num_students\n",
    "    \n",
    "    - 카멜 표기법: numStudents (표기한 모습이 낙타의 등과 같아 카멜표기법이라 부름)"
   ]
  },
  {
   "cell_type": "markdown",
   "id": "17e05fe8-36d2-40f7-993d-5015c92e4f08",
   "metadata": {},
   "source": [
    "## 자료형 변환, 형 변환\n",
    "- str(),int(),float(),bool() 을 통해 형 변환 가능"
   ]
  },
  {
   "cell_type": "code",
   "execution_count": 79,
   "id": "5fc08759-2746-4c02-8dba-471a256c3348",
   "metadata": {},
   "outputs": [
    {
     "data": {
      "text/plain": [
       "True"
      ]
     },
     "execution_count": 79,
     "metadata": {},
     "output_type": "execute_result"
    }
   ],
   "source": [
    "a = 10\n",
    "\n",
    "#str\n",
    "str(a)\n",
    "\n",
    "\n",
    "#float\n",
    "float(a)\n",
    "\n",
    "\n",
    "#bool\n",
    "bool(a) #True 와 False 총 두가지 값만 가지기 때문에 어떤 값이 False인지 잘 알아두기"
   ]
  },
  {
   "cell_type": "markdown",
   "id": "affda6a0-b99d-4b8f-98f7-0902f732af86",
   "metadata": {},
   "source": [
    "### 형 변환 시 주의할 점\n",
    "#### 주의 1. float -> int"
   ]
  },
  {
   "cell_type": "code",
   "execution_count": 80,
   "id": "eb38f435-b8fb-45ce-9896-b9bf1572cce0",
   "metadata": {},
   "outputs": [
    {
     "data": {
      "text/plain": [
       "11"
      ]
     },
     "execution_count": 80,
     "metadata": {},
     "output_type": "execute_result"
    }
   ],
   "source": [
    "x = 11.42 #소수점 내림\n",
    "int(x)"
   ]
  },
  {
   "cell_type": "code",
   "execution_count": 81,
   "id": "f2c030b4-2e95-49a1-bea4-c5f22422a5e2",
   "metadata": {},
   "outputs": [
    {
     "name": "stdout",
     "output_type": "stream",
     "text": [
      "31\n",
      "30\n"
     ]
    }
   ],
   "source": [
    "y=19.8\n",
    "\n",
    "print(int(x + y)) #x와 y를 더한 값을 정수형으로 변환\n",
    "print(int(x) + int(y)) #x와 y를 각각 정수형으로 변환 후 덧셈 연산"
   ]
  },
  {
   "cell_type": "markdown",
   "id": "6919a848-2a7f-4840-88a3-af6dc25239f1",
   "metadata": {
    "tags": []
   },
   "source": [
    "#### 주의 2. str -> int/float"
   ]
  },
  {
   "cell_type": "code",
   "execution_count": 82,
   "id": "4911e602-a59b-4830-bf5c-919ecdb09e95",
   "metadata": {},
   "outputs": [
    {
     "data": {
      "text/plain": [
       "(15, 15.0)"
      ]
     },
     "execution_count": 82,
     "metadata": {},
     "output_type": "execute_result"
    }
   ],
   "source": [
    "i = '15'\n",
    "int(i),float(i)\n",
    "\n",
    "#정상적으로 작동함을 확인가능"
   ]
  },
  {
   "cell_type": "code",
   "execution_count": 83,
   "id": "6af6674e-5ccc-4f34-b2ef-9497f790d1ba",
   "metadata": {
    "tags": []
   },
   "outputs": [
    {
     "ename": "ValueError",
     "evalue": "invalid literal for int() with base 10: '20.1'",
     "output_type": "error",
     "traceback": [
      "\u001b[0;31m---------------------------------------------------------------------------\u001b[0m",
      "\u001b[0;31mValueError\u001b[0m                                Traceback (most recent call last)",
      "\u001b[0;32m/var/folders/qx/y52kw8zx5ll231l0nftlfwm80000gn/T/ipykernel_97938/3333555676.py\u001b[0m in \u001b[0;36m<module>\u001b[0;34m\u001b[0m\n\u001b[1;32m      1\u001b[0m \u001b[0mj\u001b[0m \u001b[0;34m=\u001b[0m \u001b[0;34m'20.1'\u001b[0m\u001b[0;34m\u001b[0m\u001b[0;34m\u001b[0m\u001b[0m\n\u001b[0;32m----> 2\u001b[0;31m \u001b[0mint\u001b[0m\u001b[0;34m(\u001b[0m\u001b[0mj\u001b[0m\u001b[0;34m)\u001b[0m \u001b[0;31m#20.1은 정수형으로 변환할 수 없으므로 오류가 발생한다\u001b[0m\u001b[0;34m\u001b[0m\u001b[0;34m\u001b[0m\u001b[0m\n\u001b[0m",
      "\u001b[0;31mValueError\u001b[0m: invalid literal for int() with base 10: '20.1'"
     ]
    }
   ],
   "source": [
    "j = '20.1'\n",
    "int(j) #20.1은 정수형으로 변환할 수 없으므로 오류가 발생한다"
   ]
  },
  {
   "cell_type": "markdown",
   "id": "3e17eeb0-5554-4cc3-8b44-65e756ca86a1",
   "metadata": {
    "tags": []
   },
   "source": [
    "## print() 관련된 꿀팁들"
   ]
  },
  {
   "cell_type": "code",
   "execution_count": 84,
   "id": "7f052c87-ffec-4282-965b-8a2016b98610",
   "metadata": {},
   "outputs": [
    {
     "name": "stdout",
     "output_type": "stream",
     "text": [
      "peachgrapeapple\n",
      "peach grape apple\n"
     ]
    }
   ],
   "source": [
    "peach = 'peach'\n",
    "grape = 'grape'\n",
    "apple = 'apple'\n",
    "\n",
    "print(peach + grape + apple) #공백 없음, \\n 있음\n",
    "print(peach, grape, apple) #공백 있음, \\n 있음"
   ]
  },
  {
   "cell_type": "code",
   "execution_count": 85,
   "id": "3f82f79d-320f-4773-8976-b683d71def00",
   "metadata": {},
   "outputs": [
    {
     "name": "stdout",
     "output_type": "stream",
     "text": [
      "peach grape apple\n",
      "peach:grape:apple\n",
      "\n",
      "EOF\n"
     ]
    }
   ],
   "source": [
    "print(peach, grape, apple, sep = ' ', end = '\\n') #기본 default\n",
    "print(peach, grape, apple, sep = ':', end = '\\n\\n')\n",
    "print(\"EOF\")"
   ]
  },
  {
   "cell_type": "code",
   "execution_count": 86,
   "id": "05453235-1bf4-4db7-9bec-ff9d3017ca7c",
   "metadata": {
    "tags": []
   },
   "outputs": [
    {
     "name": "stdout",
     "output_type": "stream",
     "text": [
      "My favorite fruit is  peach .\n",
      "My favorite fruit is peach.\n"
     ]
    }
   ],
   "source": [
    "print(\"My favorite fruit is \",peach, '.') #지양해야 할 방식\n",
    "\n",
    "print(f'My favorite fruit is {peach}.') #f 스트링 (편하다!)"
   ]
  },
  {
   "cell_type": "code",
   "execution_count": 87,
   "id": "7584c985-f8b9-41c6-8fb2-0d9d25580c9a",
   "metadata": {},
   "outputs": [
    {
     "name": "stdout",
     "output_type": "stream",
     "text": [
      "pink purple red\n"
     ]
    }
   ],
   "source": [
    "#코드 줄이 짧을 때에는 ';'(세미콜론)을 이용해 한 줄로 만들 수 있음\n",
    "\n",
    "peach = 'pink' ; grape = 'purple' ; apple = 'red' \n",
    "\n",
    "print(peach, grape, apple)"
   ]
  },
  {
   "cell_type": "markdown",
   "id": "a2a1b966-40c4-4d66-831e-89606a1e8f37",
   "metadata": {
    "tags": []
   },
   "source": [
    "## input() 함수\n",
    "\n",
    "- 콘솔에서 사용자가 입력한 값을 받을 수 있는 함수\n",
    "- 입력된 값은 모두 문자열로 인식되어진다\n",
    "- 입력받은 값을 변수에 저장할 것!\n",
    "- !주의! = 알맞은 자료형으로 변환하여 사용할 것 (ex. int(input(...)), float(input(...)))"
   ]
  },
  {
   "cell_type": "code",
   "execution_count": 88,
   "id": "c585bce3-4079-445d-86a7-d67c43655ca4",
   "metadata": {},
   "outputs": [
    {
     "name": "stdin",
     "output_type": "stream",
     "text": [
      "helloo Hi\n"
     ]
    },
    {
     "data": {
      "text/plain": [
       "'Hi'"
      ]
     },
     "execution_count": 88,
     "metadata": {},
     "output_type": "execute_result"
    }
   ],
   "source": [
    "input(\"helloo\")"
   ]
  },
  {
   "cell_type": "code",
   "execution_count": 89,
   "id": "1498f2e3-7633-4ea0-af4e-ae1989f7a315",
   "metadata": {},
   "outputs": [
    {
     "name": "stdin",
     "output_type": "stream",
     "text": [
      "How old are you? 21\n",
      "How old are you? 21\n"
     ]
    },
    {
     "data": {
      "text/plain": [
       "21"
      ]
     },
     "execution_count": 89,
     "metadata": {},
     "output_type": "execute_result"
    }
   ],
   "source": [
    "input(\"How old are you?\") #입력받은 값을 문자열로 취급\n",
    "int(input(\"How old are you?\")) #입력받은 값을 정수형으로 변환"
   ]
  },
  {
   "cell_type": "code",
   "execution_count": 90,
   "id": "f1f0b191-a8d0-4a6f-bc25-cb9490a39e4e",
   "metadata": {},
   "outputs": [
    {
     "name": "stdin",
     "output_type": "stream",
     "text": [
      "나이가 어떻게 되세요? 21\n"
     ]
    },
    {
     "data": {
      "text/plain": [
       "21"
      ]
     },
     "execution_count": 90,
     "metadata": {},
     "output_type": "execute_result"
    }
   ],
   "source": [
    "#input 할 때 변수에 값을 할당하기\n",
    "#1. \n",
    "age = int(input(\"나이가 어떻게 되세요?\"))\n",
    "\n",
    "age"
   ]
  },
  {
   "cell_type": "code",
   "execution_count": 91,
   "id": "da4adcf0-b5c7-420b-b389-8b11d6b9c325",
   "metadata": {},
   "outputs": [
    {
     "name": "stdout",
     "output_type": "stream",
     "text": [
      "나이가 어떻게 되세요?\n"
     ]
    },
    {
     "name": "stdin",
     "output_type": "stream",
     "text": [
      " 21\n"
     ]
    }
   ],
   "source": [
    "#2. \n",
    "print(\"나이가 어떻게 되세요?\")\n",
    "age = int(input())"
   ]
  },
  {
   "cell_type": "code",
   "execution_count": 92,
   "id": "bd73deff-b3b2-41a6-8e54-1eee08704fd4",
   "metadata": {},
   "outputs": [
    {
     "data": {
      "text/plain": [
       "21"
      ]
     },
     "execution_count": 92,
     "metadata": {},
     "output_type": "execute_result"
    }
   ],
   "source": [
    "age"
   ]
  },
  {
   "cell_type": "markdown",
   "id": "191ac4f4-186c-4fdd-9751-1ba109f977a3",
   "metadata": {},
   "source": [
    "### quiz 1\n",
    "- 섭씨온도를 입력받아 화씨온도로 변환하기\n",
    "- 화씨 = 섭씨 * 1.8 = 32"
   ]
  },
  {
   "cell_type": "code",
   "execution_count": 94,
   "id": "52aceb86-182c-4745-9db4-015dd7fa7f7e",
   "metadata": {},
   "outputs": [
    {
     "name": "stdin",
     "output_type": "stream",
     "text": [
      "섭씨 온도는 ? 15\n"
     ]
    },
    {
     "name": "stdout",
     "output_type": "stream",
     "text": [
      "화씨 온도는 59.0\n"
     ]
    }
   ],
   "source": [
    "#quiz 1\n",
    "\n",
    "temp_celsius = float(input(\"섭씨 온도는 ?\"))\n",
    "temp_fahrenheit = temp_celsius * 1.8 + 32\n",
    "print(f\"화씨 온도는 {temp_fahrenheit}\")"
   ]
  },
  {
   "cell_type": "markdown",
   "id": "a1121b3a-5385-48c6-9d88-65ae6c758be0",
   "metadata": {},
   "source": [
    "### quiz 2\n",
    "- 택배 정보를 입력받고 총 합계 계산하기\n",
    "- 출력값:\n",
    "    - '==택배 정보=='\n",
    "    - 수취인 성명: \n",
    "    - 수취인 주소:\n",
    "    - 배송비 : 3000원\n",
    "    - 물건비용 : 원\n",
    "    - 총 합계 : 원\n",
    "- 물건비용: 무게(g) * 5\n",
    "- 합계 = 배송비 + 물건비용"
   ]
  },
  {
   "cell_type": "code",
   "execution_count": 95,
   "id": "e3ecd374-d743-433c-80d7-4d8c0d8a173a",
   "metadata": {},
   "outputs": [
    {
     "name": "stdin",
     "output_type": "stream",
     "text": [
      "당신의 이름을 입력하세요:  김용우\n",
      "당신의 주소를 입력하세요:  서울특별시 동대문구 이문로 107\n",
      "물건의 무게를 입력하세요:  150\n"
     ]
    },
    {
     "name": "stdout",
     "output_type": "stream",
     "text": [
      "\n",
      "==택배 정보==\n",
      "수취인 성명:김용우\n",
      "수취인 주소:서울특별시 동대문구 이문로 107\n",
      "배송비:3000원\n",
      "물건 비용:750.0원\n",
      "총 합계:3750.0원\n"
     ]
    }
   ],
   "source": [
    "#quiz 2\n",
    "\n",
    "name = input(\"당신의 이름을 입력하세요: \")\n",
    "addres = input(\"당신의 주소를 입력하세요: \")\n",
    "weight = float(input(\"물건의 무게를 입력하세요: \"))\n",
    "shipping_fee = 3000\n",
    "\n",
    "print()\n",
    "print(\"==택배 정보==\")\n",
    "print(f\"수취인 성명:{name}\")\n",
    "print(f\"수취인 주소:{addres}\")\n",
    "print(f\"배송비:{shipping_fee}원\")\n",
    "print(f\"물건 비용:{weight * 5}원\")\n",
    "print(f\"총 합계:{shipping_fee + weight * 5}원\")\n"
   ]
  },
  {
   "cell_type": "markdown",
   "id": "58a05eaf-5ba9-48e9-ab20-7487579fe773",
   "metadata": {},
   "source": [
    "# chapter 3: Numbers\n"
   ]
  },
  {
   "cell_type": "markdown",
   "id": "176b326e-0cb6-44f8-ba7f-4c04f916460c",
   "metadata": {
    "tags": []
   },
   "source": [
    "### boolean\n",
    "- 형 변환 시 True or False 를 잘 기억할 것\n",
    "    - '',0,None...\n",
    "- 조건식에서 자주 쓰임 ex.만약 True(or False)라면 ... "
   ]
  },
  {
   "cell_type": "code",
   "execution_count": 96,
   "id": "5438b010-dcf7-49b3-bf0b-1da82d437150",
   "metadata": {},
   "outputs": [
    {
     "data": {
      "text/plain": [
       "True"
      ]
     },
     "execution_count": 96,
     "metadata": {},
     "output_type": "execute_result"
    }
   ],
   "source": [
    "bool(1)"
   ]
  },
  {
   "cell_type": "code",
   "execution_count": 97,
   "id": "b82babea-5566-41f3-9a39-ce3a94bfce63",
   "metadata": {},
   "outputs": [
    {
     "data": {
      "text/plain": [
       "False"
      ]
     },
     "execution_count": 97,
     "metadata": {},
     "output_type": "execute_result"
    }
   ],
   "source": [
    "bool(None)"
   ]
  },
  {
   "cell_type": "markdown",
   "id": "e5aef99c-581b-42a7-b3fa-7f183251b6be",
   "metadata": {},
   "source": [
    "### integer\n",
    "- 소수점 없음\n",
    "- default는 양수, 음수는 앞에 -를 붙임\n",
    "- 숫자 앞에 0은 붙일 수 없음. ex)05(x)\n",
    "    - 예외: 진수표현 0b..0x...0o...\n",
    "- 리터럴: 4\n",
    "- 공백은 무시\n",
    "- 10,000원 = 10, 000원 두개로 인식\n",
    "    - 언더바(_)이용해서 해결\n",
    "    - 10_000"
   ]
  },
  {
   "cell_type": "code",
   "execution_count": 98,
   "id": "32966d2f-5a5e-4dbd-86ed-d840112ff340",
   "metadata": {},
   "outputs": [
    {
     "data": {
      "text/plain": [
       "-100"
      ]
     },
     "execution_count": 98,
     "metadata": {},
     "output_type": "execute_result"
    }
   ],
   "source": [
    "# 음수표현 \n",
    "\n",
    "minus = -172\n",
    "\n",
    "minus + 72"
   ]
  },
  {
   "cell_type": "code",
   "execution_count": 99,
   "id": "5fdd1d76-1317-4bc7-88d2-6cb77f6200c9",
   "metadata": {},
   "outputs": [
    {
     "ename": "SyntaxError",
     "evalue": "leading zeros in decimal integer literals are not permitted; use an 0o prefix for octal integers (1722350857.py, line 3)",
     "output_type": "error",
     "traceback": [
      "\u001b[0;36m  File \u001b[0;32m\"/var/folders/qx/y52kw8zx5ll231l0nftlfwm80000gn/T/ipykernel_97938/1722350857.py\"\u001b[0;36m, line \u001b[0;32m3\u001b[0m\n\u001b[0;31m    no_zero = 00124\u001b[0m\n\u001b[0m                  ^\u001b[0m\n\u001b[0;31mSyntaxError\u001b[0m\u001b[0;31m:\u001b[0m leading zeros in decimal integer literals are not permitted; use an 0o prefix for octal integers\n"
     ]
    }
   ],
   "source": [
    "#정수 앞에 0을 쓸 수 없음\n",
    "\n",
    "no_zero = 00124\n",
    "\n",
    "no_zero"
   ]
  },
  {
   "cell_type": "code",
   "execution_count": 100,
   "id": "9adfd709-6ddb-4aae-b94b-6231e8e02726",
   "metadata": {},
   "outputs": [
    {
     "data": {
      "text/plain": [
       "-16"
      ]
     },
     "execution_count": 100,
     "metadata": {},
     "output_type": "execute_result"
    }
   ],
   "source": [
    "#공백은 무시\n",
    "\n",
    "no_space = 12 + 4          - 32\n",
    "\n",
    "no_space"
   ]
  },
  {
   "cell_type": "code",
   "execution_count": 101,
   "id": "e3aa6fa4-032a-4e53-8842-759a0d110128",
   "metadata": {},
   "outputs": [
    {
     "data": {
      "text/plain": [
       "10000"
      ]
     },
     "execution_count": 101,
     "metadata": {},
     "output_type": "execute_result"
    }
   ],
   "source": [
    "#언더바 사용법\n",
    "\n",
    "underbar = 10_000\n",
    "\n",
    "underbar"
   ]
  },
  {
   "cell_type": "markdown",
   "id": "d4b2162e-08f6-4817-a386-d26b967461e5",
   "metadata": {},
   "source": [
    "### 연산\n",
    "- 연산자 | operator : +, - , * ...\n",
    "- 피연산자 | operand : 연산을 당하는 숫자 등 ...\n",
    "- 수식 | expression"
   ]
  },
  {
   "cell_type": "code",
   "execution_count": 102,
   "id": "23cf25d3-0e06-412f-9453-7f23267b6ea8",
   "metadata": {},
   "outputs": [
    {
     "data": {
      "text/plain": [
       "512"
      ]
     },
     "execution_count": 102,
     "metadata": {},
     "output_type": "execute_result"
    }
   ],
   "source": [
    "x = 8\n",
    "y = 3\n",
    "\n",
    "x + y\n",
    "x - y\n",
    "x * y\n",
    "x / y\n",
    "\n",
    "x ** y #거듭제곱 표현"
   ]
  },
  {
   "cell_type": "code",
   "execution_count": 103,
   "id": "f94aae1f-7516-4adf-a3e8-19a6adf5f885",
   "metadata": {},
   "outputs": [
    {
     "data": {
      "text/plain": [
       "(2, 2, 2.6666666666666665)"
      ]
     },
     "execution_count": 103,
     "metadata": {},
     "output_type": "execute_result"
    }
   ],
   "source": [
    "# 나눗셈에서 주의할 사항\n",
    "\n",
    "#1. 0으로 나눌 수 없음 (위의 사례에서 y는 0이 될 수 없음)\n",
    "#2. 몫, 나머지 표현\n",
    "x // y, x % y, x / y"
   ]
  },
  {
   "cell_type": "code",
   "execution_count": 104,
   "id": "883af4ec-eec0-4261-9821-4343484d4064",
   "metadata": {},
   "outputs": [
    {
     "data": {
      "text/plain": [
       "(2, 2)"
      ]
     },
     "execution_count": 104,
     "metadata": {},
     "output_type": "execute_result"
    }
   ],
   "source": [
    "#divmod() --> 몫 과 나머지를 튜플 형태로 반환\n",
    "divmod(x, y)"
   ]
  },
  {
   "cell_type": "markdown",
   "id": "f33d709d-316e-4f8d-a912-c30e40717207",
   "metadata": {
    "tags": []
   },
   "source": [
    "### 복합대입연산자 | compound assignment operator\n"
   ]
  },
  {
   "cell_type": "code",
   "execution_count": 105,
   "id": "b7a78549-5efb-402b-b914-308aea5512ad",
   "metadata": {},
   "outputs": [
    {
     "name": "stdout",
     "output_type": "stream",
     "text": [
      "3\n"
     ]
    }
   ],
   "source": [
    "a = 7\n",
    "a = a - 4\n",
    "print(a)"
   ]
  },
  {
   "cell_type": "code",
   "execution_count": 106,
   "id": "07efe24a-6acf-40af-8b39-2445c0112803",
   "metadata": {},
   "outputs": [],
   "source": [
    "a = a - 4\n",
    "\n",
    "#1. a - 3 을 계산한다\n",
    "#2. 임시변수 temp에 a - 3을 할당\n",
    "#3. 마지막으로 a = a - 3\n",
    "#이 과정을 간단히 다음과 같이 표기 가능\n",
    "\n",
    "a -= 4"
   ]
  },
  {
   "cell_type": "code",
   "execution_count": 107,
   "id": "b095f7ab-506b-4ea6-ac07-514100c7037b",
   "metadata": {},
   "outputs": [],
   "source": [
    "#-= 외에도 다음 복합대입연산자 존재\n",
    "\n",
    "a += 4\n",
    "a -= 4\n",
    "a *= 4\n",
    "a /= 4"
   ]
  },
  {
   "cell_type": "code",
   "execution_count": 108,
   "id": "36a16770-145c-4049-9dc6-72957cbce949",
   "metadata": {},
   "outputs": [
    {
     "ename": "NameError",
     "evalue": "name 'u' is not defined",
     "output_type": "error",
     "traceback": [
      "\u001b[0;31m---------------------------------------------------------------------------\u001b[0m",
      "\u001b[0;31mNameError\u001b[0m                                 Traceback (most recent call last)",
      "\u001b[0;32m/var/folders/qx/y52kw8zx5ll231l0nftlfwm80000gn/T/ipykernel_97938/157786470.py\u001b[0m in \u001b[0;36m<module>\u001b[0;34m\u001b[0m\n\u001b[0;32m----> 1\u001b[0;31m \u001b[0mu\u001b[0m \u001b[0;34m=\u001b[0m \u001b[0mu\u001b[0m \u001b[0;34m+\u001b[0m \u001b[0;36m1\u001b[0m\u001b[0;34m\u001b[0m\u001b[0;34m\u001b[0m\u001b[0m\n\u001b[0m\u001b[1;32m      2\u001b[0m \u001b[0;31m# u + 1 을 u에 대입하는 과정이므로 u가 먼저 초기화되지 않으면 오류가 발생한다.\u001b[0m\u001b[0;34m\u001b[0m\u001b[0;34m\u001b[0m\u001b[0m\n\u001b[1;32m      3\u001b[0m \u001b[0;31m# 값을 잘 초기화시킬 것!!!\u001b[0m\u001b[0;34m\u001b[0m\u001b[0;34m\u001b[0m\u001b[0m\n",
      "\u001b[0;31mNameError\u001b[0m: name 'u' is not defined"
     ]
    }
   ],
   "source": [
    "u = u + 1\n",
    "# u + 1 을 u에 대입하는 과정이므로 u가 먼저 초기화되지 않으면 오류가 발생한다.\n",
    "# 값을 잘 초기화시킬 것!!!"
   ]
  },
  {
   "cell_type": "markdown",
   "id": "e9073414-efad-4cbe-8139-5cd4ecc0bd5a",
   "metadata": {},
   "source": [
    "#### quiz 3. \n",
    "- 정수를 입력받고 3의배수인지 확인\n",
    "- 홀수인지 확인"
   ]
  },
  {
   "cell_type": "code",
   "execution_count": 1,
   "id": "5bfc6167-a447-4dea-8217-b677ca4934a7",
   "metadata": {},
   "outputs": [
    {
     "name": "stdin",
     "output_type": "stream",
     "text": [
      "정수를 입력하세요:  21\n"
     ]
    },
    {
     "name": "stdout",
     "output_type": "stream",
     "text": [
      "True\n",
      "True\n"
     ]
    }
   ],
   "source": [
    "#quiz 3\n",
    "\n",
    "num = int(input(\"정수를 입력하세요: \"))\n",
    "print(num % 3 == 0)\n",
    "print(num % 2 == 1)"
   ]
  },
  {
   "cell_type": "markdown",
   "id": "b0a2052c-58a3-4c08-91e4-664f223fccb1",
   "metadata": {},
   "source": [
    "### 지수 표현\n",
    "- e, E 둘다 가능\n",
    "- 앞 부분은 float, int 형\n",
    "- 뒷 부분은 int 자료형만\n",
    "    - e 기준 뒷 부분 양수일 경우 0 앞으로\n",
    "    - e 기준 뒷 부분 음수일 경우 0 뒤로 (소수점)"
   ]
  },
  {
   "cell_type": "code",
   "execution_count": 2,
   "id": "962740b0-a0a8-4419-bc43-c3a4ff7aaaaa",
   "metadata": {},
   "outputs": [
    {
     "data": {
      "text/plain": [
       "300000000.0"
      ]
     },
     "execution_count": 2,
     "metadata": {},
     "output_type": "execute_result"
    }
   ],
   "source": [
    "3.0e8 #float 형"
   ]
  },
  {
   "cell_type": "code",
   "execution_count": 9,
   "id": "5128aeea-16bc-4851-ac7f-5921676d906f",
   "metadata": {},
   "outputs": [
    {
     "data": {
      "text/plain": [
       "0.000789"
      ]
     },
     "execution_count": 9,
     "metadata": {},
     "output_type": "execute_result"
    }
   ],
   "source": [
    "#0.000789를 표현해보자!\n",
    "7.89e-4\n",
    "789e-6\n",
    "\n",
    "#0.00789e-1 같이 사용하지 않음"
   ]
  },
  {
   "cell_type": "markdown",
   "id": "7cfd22c6-4bfe-44cc-acaa-cfdcd9ce01cc",
   "metadata": {},
   "source": [
    "### if, 조건문\n",
    "- code structure\n",
    "\n",
    "### 코드 짜는 법\n",
    "- 주석 다는 법\n",
    "    - 설명하는 부분\n",
    "    - 목적 의도를 표현\n",
    "    - '#' hash, sharp ...\n",
    "    - 시작된 부분부터 그 라인 끝까지가 주석\n",
    "    - 문자열 안에 들어있는 #는 문자로 인식\n",
    "    - \"\"\" \"\"\"\n",
    "- 라인 유지하기 \n",
    "    - 들여쓰기 , 공백 4개 , 탭 1개\n",
    "    - 한 줄에 최대 80개\n",
    "    - 백 슬래시로 끊어 쓸 수 있음"
   ]
  },
  {
   "cell_type": "code",
   "execution_count": 10,
   "id": "2d49b48a-d9df-498e-b840-057e0ae8985a",
   "metadata": {},
   "outputs": [],
   "source": [
    "a = 3 #라인 끝\n",
    "b = 5"
   ]
  },
  {
   "cell_type": "code",
   "execution_count": 12,
   "id": "c0ff818e-f31b-4fbd-87d7-89ea248752e2",
   "metadata": {},
   "outputs": [
    {
     "name": "stdout",
     "output_type": "stream",
     "text": [
      "hey ###\n"
     ]
    },
    {
     "data": {
      "text/plain": [
       "'\\n주석\\n주석\\n주석\\n'"
      ]
     },
     "execution_count": 12,
     "metadata": {},
     "output_type": "execute_result"
    }
   ],
   "source": [
    "example = 'hey ###'\n",
    "print(example)\n",
    "\n",
    "\"\"\"\n",
    "주석\n",
    "주석\n",
    "주석\n",
    "\"\"\"\n",
    "\n",
    "#코드에서 볼 수 있지만 결과에 영향을 미치지 않음"
   ]
  },
  {
   "cell_type": "markdown",
   "id": "1c5132d0-e48d-4f3f-862b-dba2f0bf8462",
   "metadata": {},
   "source": [
    "- 조건 1개  \n",
    "if:  \n",
    "&nbsp;&nbsp;&nbsp;&nbsp;<실행할 코드>"
   ]
  },
  {
   "cell_type": "code",
   "execution_count": 13,
   "id": "b5d2e68a-0e68-4575-a4ec-1d51154eef1e",
   "metadata": {},
   "outputs": [
    {
     "name": "stdout",
     "output_type": "stream",
     "text": [
      "YAY!\n"
     ]
    }
   ],
   "source": [
    "if 100 != 79:\n",
    "    print(\"YAY!\")"
   ]
  },
  {
   "cell_type": "markdown",
   "id": "ee27d63e-4399-43e7-b93b-67b29b20213c",
   "metadata": {},
   "source": [
    "- 조건 2개  \n",
    "if:  \n",
    "    &nbsp;&nbsp;&nbsp;&nbsp;<실행할 코드1>  \n",
    "else:  \n",
    "    &nbsp;&nbsp;&nbsp;&nbsp;<실행할 코드2>"
   ]
  },
  {
   "cell_type": "code",
   "execution_count": 15,
   "id": "ce4c7600-0ee9-4b6a-85e5-5f8e85da8806",
   "metadata": {},
   "outputs": [
    {
     "name": "stdout",
     "output_type": "stream",
     "text": [
      "HEY\n"
     ]
    }
   ],
   "source": [
    "if 100 == 79:\n",
    "    print(\"YAY\")\n",
    "else:\n",
    "    print(\"HEY\")"
   ]
  },
  {
   "cell_type": "markdown",
   "id": "ce21aeeb-b07f-4a10-babd-98c31cc689de",
   "metadata": {},
   "source": [
    "#### 조건 3개 이상\n",
    "if:  \n",
    "&nbsp;&nbsp;&nbsp;&nbsp;<실행할 코드1>  \n",
    "elif:  \n",
    "&nbsp;&nbsp;&nbsp;&nbsp;<실행할 코드2>  \n",
    "...else:  \n",
    "&nbsp;&nbsp;&nbsp;&nbsp;<실행할 코드3>\n"
   ]
  },
  {
   "cell_type": "code",
   "execution_count": 16,
   "id": "0f6159a7-9783-4803-bcb8-e29e74768e65",
   "metadata": {},
   "outputs": [
    {
     "name": "stdout",
     "output_type": "stream",
     "text": [
      "YES\n"
     ]
    }
   ],
   "source": [
    "if 100 == 79:\n",
    "    print(\"YAY\")\n",
    "elif 100 == 69:\n",
    "    print(\"HEY\")\n",
    "else:\n",
    "    print(\"YES\")"
   ]
  },
  {
   "cell_type": "markdown",
   "id": "1dc086fa-36ea-4a3a-8742-d3f7b9a0bca8",
   "metadata": {},
   "source": [
    "### 비교 연산자\n",
    "- x < y, x <= y\n",
    "- x > y, x >= y\n",
    "- x == y(값을 비교)\n",
    "- x != y(값을 비교)\n",
    "- x is y(값, 메모리 주소를 비교)\n",
    "- x is not y(값, 메모리 주소를 비교)"
   ]
  },
  {
   "cell_type": "markdown",
   "id": "b819e7cd-52bc-4c00-b63e-adc937461133",
   "metadata": {},
   "source": [
    "#### quiz 4\n",
    "- 학점 부여하기\n",
    "- 학점을 입력\n",
    "    - 90점 이상 A\n",
    "    - 80 B\n",
    "    - 70 C\n",
    "    - 그 외 D\n",
    "- 변수 설정에 유의할 것\n",
    "- print 예쁘게 해보기"
   ]
  },
  {
   "cell_type": "code",
   "execution_count": 22,
   "id": "98639663-ce78-4c98-affe-341dabec9940",
   "metadata": {},
   "outputs": [
    {
     "name": "stdin",
     "output_type": "stream",
     "text": [
      "학점을 입력하세요:  85\n"
     ]
    },
    {
     "name": "stdout",
     "output_type": "stream",
     "text": [
      "85점은 B입니다.\n"
     ]
    }
   ],
   "source": [
    "#quiz 4\n",
    "\n",
    "score = int(input(\"학점을 입력하세요: \"))\n",
    "\n",
    "if score >= 90:\n",
    "    print(f\"{score}점은 A입니다.\")\n",
    "elif score >= 80:\n",
    "    print(f\"{score}점은 B입니다.\")\n",
    "elif score >= 70:\n",
    "    print(f\"{score}점은 C입니다.\")\n",
    "else:\n",
    "    print(f\"{score}점은 D입니다.\")\n",
    "\n",
    "#print를 한번에 할 수도 있음!! grade = 이런식으로 받아서 마지막에만 출력"
   ]
  },
  {
   "cell_type": "markdown",
   "id": "f631a57c-3938-4831-8f2b-88678a717d71",
   "metadata": {},
   "source": [
    "#### quiz 5\n",
    "- 아이디와 비번을 입력받아 둘다 일치할 시 로그인\n",
    "- 아이디, 비번은 각자 지정\n",
    "- 일치하지 않을 시 창의적으로 출력"
   ]
  },
  {
   "cell_type": "code",
   "execution_count": 21,
   "id": "06c67680-8456-4d0e-9a38-52a3e8e54a8a",
   "metadata": {
    "tags": []
   },
   "outputs": [
    {
     "name": "stdin",
     "output_type": "stream",
     "text": [
      "아이디를 입력하세요:  yongwoo\n",
      "비밀번호를 입력하세요:  a1221\n"
     ]
    },
    {
     "name": "stdout",
     "output_type": "stream",
     "text": [
      "\n",
      "yongwoo님 반갑습니다!\n"
     ]
    }
   ],
   "source": [
    "#quiz 5\n",
    "\n",
    "user_id = 'yongwoo'\n",
    "user_pwd = 'a1221'\n",
    "\n",
    "input_id = input(\"아이디를 입력하세요: \")\n",
    "input_pwd = input(\"비밀번호를 입력하세요: \")\n",
    "\n",
    "print()\n",
    "\n",
    "if user_id == input_id and user_pwd == input_pwd:\n",
    "    print(f\"{user_id}님 반갑습니다!\")\n",
    "else:\n",
    "    print(f\"아이디 또는 비밀번호가 일치하지 않습니다.\")"
   ]
  },
  {
   "cell_type": "markdown",
   "id": "071d6b8f-b45c-427f-97c7-f616003d2508",
   "metadata": {},
   "source": [
    "### 논리연산자\n",
    "- 여러 조건식 비교할 때 사용\n",
    "- 예: 10 < x < 20\n",
    "    - 위 표현은 파이썬에서만 가능\n",
    "    - (x > 10) 혹은 (x < 20)\n",
    "- and(&): 둘다 참일때만 True\n",
    "- or(|): 둘 중 하나만 참이여도 True\n",
    "- not: True -> False, False -> True"
   ]
  },
  {
   "cell_type": "markdown",
   "id": "4abff208-144a-4a42-9b78-518d61299a27",
   "metadata": {},
   "source": [
    "#### quiz 5\n",
    "- quiz 1 확장판\n",
    "- 결석횟수를 받아서 점수가 80점 이상이고 결석횟수 두번 이상이면 F, 나머지는 그대로\n",
    "- 두 방법으로 해보기\n",
    "    - 논리연산자\n",
    "    - if 2번 크게 사용"
   ]
  },
  {
   "cell_type": "code",
   "execution_count": 23,
   "id": "4393876b-0fad-41df-94fc-1898659d33d4",
   "metadata": {},
   "outputs": [
    {
     "name": "stdin",
     "output_type": "stream",
     "text": [
      "학점을 입력하세요:  85\n",
      "결석횟수를 입력하세요:  3\n"
     ]
    },
    {
     "name": "stdout",
     "output_type": "stream",
     "text": [
      "당신의 점수는 85, 결석횟수 3이므로 학점은 F입니다.\n"
     ]
    }
   ],
   "source": [
    "# quiz 5\n",
    "# verson1 논리연산자\n",
    "\n",
    "score = int(input(\"학점을 입력하세요: \"))\n",
    "absence = int(input(\"결석횟수를 입력하세요: \"))\n",
    "grade = ''\n",
    "\n",
    "if score >= 80 and absence >= 2:\n",
    "    grade = 'F'\n",
    "elif score >= 90 and absence < 2:\n",
    "    grade = 'A'\n",
    "elif score >= 80 and absence < 2:\n",
    "    grade = 'B'\n",
    "elif score > 70:\n",
    "    grade = 'C'\n",
    "else:\n",
    "    grade = 'D'\n",
    "    \n",
    "print(f\"당신의 점수는 {score}, 결석횟수 {absence}이므로 학점은 {grade}입니다.\")"
   ]
  },
  {
   "cell_type": "code",
   "execution_count": 25,
   "id": "a2835724-840b-456c-863e-3e6601810b63",
   "metadata": {},
   "outputs": [
    {
     "name": "stdin",
     "output_type": "stream",
     "text": [
      "학점을 입력하세요:  85\n",
      "결석횟수를 입력하세요:  3\n"
     ]
    },
    {
     "name": "stdout",
     "output_type": "stream",
     "text": [
      "당신의 점수는 85, 결석횟수 3이므로 학점은 F입니다.\n"
     ]
    }
   ],
   "source": [
    "# quiz 5\n",
    "# version2 if 크게 2번 사용\n",
    "\n",
    "score = int(input(\"학점을 입력하세요: \"))\n",
    "absence = int(input(\"결석횟수를 입력하세요: \"))\n",
    "grade = ''\n",
    "\n",
    "\n",
    "if score >= 90:\n",
    "    grade = 'A'\n",
    "elif score >= 80:\n",
    "    grade = 'B'\n",
    "elif score > 70:\n",
    "    grade = 'C'\n",
    "else:\n",
    "    grade = 'D'\n",
    "\n",
    "if absence >= 2 and score >= 80:\n",
    "    grade = 'F'\n",
    "    \n",
    "print(f\"당신의 점수는 {score}, 결석횟수 {absence}이므로 학점은 {grade}입니다.\")"
   ]
  }
 ],
 "metadata": {
  "kernelspec": {
   "display_name": "Python 3 (ipykernel)",
   "language": "python",
   "name": "python3"
  },
  "language_info": {
   "codemirror_mode": {
    "name": "ipython",
    "version": 3
   },
   "file_extension": ".py",
   "mimetype": "text/x-python",
   "name": "python",
   "nbconvert_exporter": "python",
   "pygments_lexer": "ipython3",
   "version": "3.9.7"
  }
 },
 "nbformat": 4,
 "nbformat_minor": 5
}
