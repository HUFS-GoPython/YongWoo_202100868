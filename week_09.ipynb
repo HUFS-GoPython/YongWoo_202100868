{
 "cells": [
  {
   "cell_type": "markdown",
   "id": "b9f4a804",
   "metadata": {},
   "source": [
    "## Dictionary\n",
    "- 영어 사전\n",
    "    - 단어: 뜻 \n",
    "    - 키: 값\n",
    "    - 순서가 없음\n",
    "    - '키로 값을 찾는다'\n",
    "        - 키는 중복이 안되는 고유한 값\n",
    "    - 가변: 수정, 삭제, 추가 가능\n",
    "    - 타입 : dict\n",
    "    - 형변환: 'dict()'\n",
    "    - 중괄호 사용: {}, 콤마로 구분함\n",
    "    - 값에 다양한 자료구조가 올 수 있음\n",
    "        - a: 1, a:[1, 2, 3, 4]"
   ]
  },
  {
   "cell_type": "code",
   "execution_count": 1,
   "id": "07af52a2",
   "metadata": {},
   "outputs": [
    {
     "data": {
      "text/plain": [
       "1"
      ]
     },
     "execution_count": 1,
     "metadata": {},
     "output_type": "execute_result"
    }
   ],
   "source": [
    "a = [1,2,3]\n",
    "a[0]"
   ]
  },
  {
   "cell_type": "code",
   "execution_count": 6,
   "id": "484cba28",
   "metadata": {},
   "outputs": [
    {
     "data": {
      "text/plain": [
       "set"
      ]
     },
     "execution_count": 6,
     "metadata": {},
     "output_type": "execute_result"
    }
   ],
   "source": [
    "empty = dict()\n",
    "empty = {} #set 이 아닌 dict\n",
    "#set 또한 {} 사용\n",
    "empty = set()\n",
    "type(empty)"
   ]
  },
  {
   "cell_type": "code",
   "execution_count": 7,
   "id": "15aed85d",
   "metadata": {},
   "outputs": [
    {
     "data": {
      "text/plain": [
       "{1: 'apple', 2: 'banana', 3: 'kiwi'}"
      ]
     },
     "execution_count": 7,
     "metadata": {},
     "output_type": "execute_result"
    }
   ],
   "source": [
    "a = {1,2,3} #set\n",
    "a = {1:'apple', 2:'banana', 3:'kiwi'} #dict\n",
    "a"
   ]
  },
  {
   "cell_type": "code",
   "execution_count": 9,
   "id": "61cb29a3",
   "metadata": {},
   "outputs": [
    {
     "data": {
      "text/plain": [
       "{'apple': 'a', 'banana': 'b', 'kiwi': 'c'}"
      ]
     },
     "execution_count": 9,
     "metadata": {},
     "output_type": "execute_result"
    }
   ],
   "source": [
    "b = {'','','','','',''} #dictionary 편하게 만들기\n",
    "b = dict(apple = 'a', banana = 'b', kiwi = 'c')\n",
    "b"
   ]
  },
  {
   "cell_type": "code",
   "execution_count": 20,
   "id": "90249e34",
   "metadata": {
    "scrolled": true
   },
   "outputs": [
    {
     "data": {
      "text/plain": [
       "{202201: ['james', '경제학과'],\n",
       " 202203: ['laura', '스페인어과'],\n",
       " 202202: ['louis', '컴공과']}"
      ]
     },
     "execution_count": 20,
     "metadata": {},
     "output_type": "execute_result"
    }
   ],
   "source": [
    "#출석부로 딕셔너리 만들기\n",
    "#이름, 학번, 학과\n",
    "#james 202201 경제학과\n",
    "#laura 202202 스페인어과\n",
    "#louis 202202 컴공과\n",
    "info = {202201:['james', '경제학과'], 202203:['laura', '스페인어과'], 202202:['louis','컴공과']}\n",
    "info\n",
    "# 고유한 값을 가지는 학번을 키로 딕셔너리 생성!"
   ]
  },
  {
   "cell_type": "markdown",
   "id": "0ba4975a",
   "metadata": {},
   "source": [
    "### 형 변환"
   ]
  },
  {
   "cell_type": "code",
   "execution_count": 21,
   "id": "c9c43eeb",
   "metadata": {},
   "outputs": [
    {
     "data": {
      "text/plain": [
       "{1: 2, 2: 3, 3: 4}"
      ]
     },
     "execution_count": 21,
     "metadata": {},
     "output_type": "execute_result"
    }
   ],
   "source": [
    "# dict() 이용해서 형변환 두개 짝지어서 있을 때 가능\n",
    "ex1 = [[1, 2], [2, 3], [3, 4]]\n",
    "dict(ex1)"
   ]
  },
  {
   "cell_type": "code",
   "execution_count": 22,
   "id": "73e6ad03",
   "metadata": {},
   "outputs": [
    {
     "data": {
      "text/plain": [
       "{1: 2, 2: 3}"
      ]
     },
     "execution_count": 22,
     "metadata": {},
     "output_type": "execute_result"
    }
   ],
   "source": [
    "# 튜플도 가능\n",
    "ex2 = [(1, 2), (2, 3), (2, 3)]\n",
    "dict(ex2)"
   ]
  },
  {
   "cell_type": "code",
   "execution_count": 23,
   "id": "c2e79413",
   "metadata": {},
   "outputs": [
    {
     "data": {
      "text/plain": [
       "{'a': 'b', 'b': 'c', 'c': 'd'}"
      ]
     },
     "execution_count": 23,
     "metadata": {},
     "output_type": "execute_result"
    }
   ],
   "source": [
    "ex3 = ['ab', 'bc', 'cd']\n",
    "dict(ex3)\n",
    "#두글자 넘을 시 오류"
   ]
  },
  {
   "cell_type": "markdown",
   "id": "527b674e",
   "metadata": {},
   "source": [
    "### 항목 조회 & 변경"
   ]
  },
  {
   "cell_type": "code",
   "execution_count": 3,
   "id": "cb34ce77",
   "metadata": {},
   "outputs": [],
   "source": [
    "pythons = {#성: 이름\n",
    "    'Chapman':'Graham',\n",
    "    'Cleese': 'John',\n",
    "    'Idle': 'Eric',\n",
    "    'Jones': 'Terry',\n",
    "    'Palin': 'Michael'\n",
    "}"
   ]
  },
  {
   "cell_type": "code",
   "execution_count": 25,
   "id": "3aa12876",
   "metadata": {},
   "outputs": [
    {
     "data": {
      "text/plain": [
       "'Eric'"
      ]
     },
     "execution_count": 25,
     "metadata": {},
     "output_type": "execute_result"
    }
   ],
   "source": [
    "pythons['Idle'] # 키를 가지고 밸류를 찾을 수 있음"
   ]
  },
  {
   "cell_type": "code",
   "execution_count": 29,
   "id": "fa4dc9f5",
   "metadata": {},
   "outputs": [],
   "source": [
    "pythons['Hwa'] = 'Chloe' #추가"
   ]
  },
  {
   "cell_type": "code",
   "execution_count": 30,
   "id": "eb250977",
   "metadata": {},
   "outputs": [
    {
     "data": {
      "text/plain": [
       "{'Chapman': 'Graham',\n",
       " 'Cleese': 'John',\n",
       " 'Idle': 'James',\n",
       " 'Jones': 'Terry',\n",
       " 'Palin': 'Michael',\n",
       " 'Hwa': 'Chloe'}"
      ]
     },
     "execution_count": 30,
     "metadata": {},
     "output_type": "execute_result"
    }
   ],
   "source": [
    "pythons['Idle'] = 'James' #변경\n",
    "pythons"
   ]
  },
  {
   "cell_type": "code",
   "execution_count": 31,
   "id": "c32fc5d3",
   "metadata": {},
   "outputs": [
    {
     "data": {
      "text/plain": [
       "True"
      ]
     },
     "execution_count": 31,
     "metadata": {},
     "output_type": "execute_result"
    }
   ],
   "source": [
    "# 예외 없이\n",
    "'Hwa' in pythons"
   ]
  },
  {
   "cell_type": "code",
   "execution_count": 34,
   "id": "1e9e654b",
   "metadata": {},
   "outputs": [
    {
     "data": {
      "text/plain": [
       "0"
      ]
     },
     "execution_count": 34,
     "metadata": {},
     "output_type": "execute_result"
    }
   ],
   "source": [
    "#get()\n",
    "pythons.get('Lee',0) #없을 시 None 반환 반환값 설정가능"
   ]
  },
  {
   "cell_type": "markdown",
   "id": "f3893567",
   "metadata": {},
   "source": [
    "### 전체 조회\n",
    "- keys()\n",
    "- values()\n",
    "- items()"
   ]
  },
  {
   "cell_type": "code",
   "execution_count": 39,
   "id": "e0c522f2",
   "metadata": {},
   "outputs": [
    {
     "data": {
      "text/plain": [
       "['Chapman', 'Cleese', 'Idle', 'Jones', 'Palin', 'Hwa']"
      ]
     },
     "execution_count": 39,
     "metadata": {},
     "output_type": "execute_result"
    }
   ],
   "source": [
    "pythons.keys() #사용하기 위해서는 리스트로 형 변환할 것\n",
    "list(pythons.keys())"
   ]
  },
  {
   "cell_type": "code",
   "execution_count": 37,
   "id": "16b48bd3",
   "metadata": {},
   "outputs": [
    {
     "data": {
      "text/plain": [
       "dict_values(['Graham', 'John', 'James', 'Terry', 'Michael', 'Chloe'])"
      ]
     },
     "execution_count": 37,
     "metadata": {},
     "output_type": "execute_result"
    }
   ],
   "source": [
    "pythons.values()"
   ]
  },
  {
   "cell_type": "code",
   "execution_count": 38,
   "id": "9561b2c4",
   "metadata": {},
   "outputs": [
    {
     "data": {
      "text/plain": [
       "dict_items([('Chapman', 'Graham'), ('Cleese', 'John'), ('Idle', 'James'), ('Jones', 'Terry'), ('Palin', 'Michael'), ('Hwa', 'Chloe')])"
      ]
     },
     "execution_count": 38,
     "metadata": {},
     "output_type": "execute_result"
    }
   ],
   "source": [
    "pythons.items() #키와 값이 튜플형태로 <= 순회할때 씀"
   ]
  },
  {
   "cell_type": "code",
   "execution_count": 41,
   "id": "096b74ae",
   "metadata": {},
   "outputs": [
    {
     "name": "stdout",
     "output_type": "stream",
     "text": [
      "Chapman = Graham\n",
      "Cleese = John\n",
      "Idle = James\n",
      "Jones = Terry\n",
      "Palin = Michael\n",
      "Hwa = Chloe\n"
     ]
    }
   ],
   "source": [
    "for k, v in pythons.items(): #list comprehension\n",
    "    print(f'{k} = {v}')"
   ]
  },
  {
   "cell_type": "code",
   "execution_count": 42,
   "id": "a9cbbc50",
   "metadata": {},
   "outputs": [
    {
     "data": {
      "text/plain": [
       "[('Chapman', 'Graham'),\n",
       " ('Cleese', 'John'),\n",
       " ('Idle', 'James'),\n",
       " ('Jones', 'Terry'),\n",
       " ('Palin', 'Michael'),\n",
       " ('Hwa', 'Chloe')]"
      ]
     },
     "execution_count": 42,
     "metadata": {},
     "output_type": "execute_result"
    }
   ],
   "source": [
    "[(k,v) for k, v in pythons.items()]"
   ]
  },
  {
   "cell_type": "code",
   "execution_count": 46,
   "id": "8ca4a833",
   "metadata": {},
   "outputs": [
    {
     "data": {
      "text/plain": [
       "['Graham', 'John', 'James', 'Terry', 'Michael', 'Chloe']"
      ]
     },
     "execution_count": 46,
     "metadata": {},
     "output_type": "execute_result"
    }
   ],
   "source": [
    "[k[1] for k in pythons.items()] #0 은 키값, 1은 밸류값"
   ]
  },
  {
   "cell_type": "code",
   "execution_count": 48,
   "id": "ba219682",
   "metadata": {},
   "outputs": [
    {
     "data": {
      "text/plain": [
       "['Chapman', 'Cleese', 'Idle', 'Jones', 'Palin', 'Hwa']"
      ]
     },
     "execution_count": 48,
     "metadata": {},
     "output_type": "execute_result"
    }
   ],
   "source": [
    "[k for k in pythons] #아무것도 없으면 keys"
   ]
  },
  {
   "cell_type": "code",
   "execution_count": 51,
   "id": "e0b40443",
   "metadata": {},
   "outputs": [
    {
     "data": {
      "text/plain": [
       "{'cat': 4, 'snake': 0, 'monkey': 2, 'ant': 4, 'spider': 8}"
      ]
     },
     "execution_count": 51,
     "metadata": {},
     "output_type": "execute_result"
    }
   ],
   "source": [
    "animal = 'cat snake monkey ant spider'.split()\n",
    "legs = 4, 0, 2, 4, 8\n",
    "num_leg = {}\n",
    "for k in range(len(animal)):\n",
    "    num_leg[animal[k]] = legs[k]\n",
    "num_leg"
   ]
  },
  {
   "cell_type": "code",
   "execution_count": 57,
   "id": "d914b2af",
   "metadata": {},
   "outputs": [
    {
     "data": {
      "text/plain": [
       "[('C', 6), ('C', 4), ('I', 5), ('J', 5), ('P', 7), ('H', 5)]"
      ]
     },
     "execution_count": 57,
     "metadata": {},
     "output_type": "execute_result"
    }
   ],
   "source": [
    "# pythons 에서 성, 이름, 성은 첫글자만, 이름은 글자 개수로 이뤄진 튜플 리스트로 반환\n",
    "new_pythons = []\n",
    "for k in pythons.keys():\n",
    "    new_pythons.append((k[0],len(pythons[k])))\n",
    "new_pythons\n"
   ]
  },
  {
   "cell_type": "code",
   "execution_count": 58,
   "id": "02dea703",
   "metadata": {},
   "outputs": [
    {
     "data": {
      "text/plain": [
       "[('C', 6), ('C', 4), ('I', 5), ('J', 5), ('P', 7), ('H', 5)]"
      ]
     },
     "execution_count": 58,
     "metadata": {},
     "output_type": "execute_result"
    }
   ],
   "source": [
    "#itmes() 돌아라\n",
    "[(k[0],len(v)) for k, v in pythons.items()]"
   ]
  },
  {
   "cell_type": "markdown",
   "id": "92d66f26",
   "metadata": {},
   "source": [
    "### 값 수정, 삭제, 복제, 비교"
   ]
  },
  {
   "cell_type": "code",
   "execution_count": 59,
   "id": "974d0a10",
   "metadata": {},
   "outputs": [
    {
     "data": {
      "text/plain": [
       "{'Chapman': 'Graham',\n",
       " 'Cleese': 'John',\n",
       " 'Idle': 'James',\n",
       " 'Jones': 'Terry',\n",
       " 'Palin': 'Michael',\n",
       " 'Hwa': 'Chloe'}"
      ]
     },
     "execution_count": 59,
     "metadata": {},
     "output_type": "execute_result"
    }
   ],
   "source": [
    "pythons"
   ]
  },
  {
   "cell_type": "code",
   "execution_count": 60,
   "id": "2094dbe1",
   "metadata": {},
   "outputs": [
    {
     "data": {
      "text/plain": [
       "{'Marx': 'Groucho', 'Howard': 'Moe'}"
      ]
     },
     "execution_count": 60,
     "metadata": {},
     "output_type": "execute_result"
    }
   ],
   "source": [
    "others = {\n",
    "    'Marx' : 'Groucho',\n",
    "    'Howard': 'Moe'\n",
    "}\n",
    "others"
   ]
  },
  {
   "cell_type": "code",
   "execution_count": 62,
   "id": "7bd960f2",
   "metadata": {},
   "outputs": [
    {
     "data": {
      "text/plain": [
       "{'Chapman': 'Graham',\n",
       " 'Cleese': 'John',\n",
       " 'Idle': 'James',\n",
       " 'Jones': 'Terry',\n",
       " 'Palin': 'Michael',\n",
       " 'Hwa': 'Chloe',\n",
       " 'Marx': 'Groucho',\n",
       " 'Howard': 'Moe'}"
      ]
     },
     "execution_count": 62,
     "metadata": {},
     "output_type": "execute_result"
    }
   ],
   "source": [
    "#update 이용하기\n",
    "pythons.update(others)\n",
    "pythons"
   ]
  },
  {
   "cell_type": "code",
   "execution_count": 63,
   "id": "651ca368",
   "metadata": {},
   "outputs": [
    {
     "data": {
      "text/plain": [
       "{'Marx': 'Groucho',\n",
       " 'Howard': 'Moe',\n",
       " 'Chapman': 'Graham',\n",
       " 'Cleese': 'John',\n",
       " 'Idle': 'James',\n",
       " 'Jones': 'Terry',\n",
       " 'Palin': 'Michael',\n",
       " 'Hwa': 'Chloe'}"
      ]
     },
     "execution_count": 63,
     "metadata": {},
     "output_type": "execute_result"
    }
   ],
   "source": [
    "#py 3\n",
    "{**others, **pythons}"
   ]
  },
  {
   "cell_type": "code",
   "execution_count": 65,
   "id": "02faf6ed",
   "metadata": {},
   "outputs": [
    {
     "data": {
      "text/plain": [
       "{'Chapman': 'Graham',\n",
       " 'Cleese': 'John',\n",
       " 'Idle': 'James',\n",
       " 'Jones': 'Terry',\n",
       " 'Palin': 'Michael',\n",
       " 'Marx': 'Groucho',\n",
       " 'Howard': 'Moe'}"
      ]
     },
     "execution_count": 65,
     "metadata": {},
     "output_type": "execute_result"
    }
   ],
   "source": [
    "#삭제\n",
    "del pythons['Hwa']\n",
    "pythons"
   ]
  },
  {
   "cell_type": "code",
   "execution_count": 66,
   "id": "97159723",
   "metadata": {},
   "outputs": [
    {
     "ename": "KeyError",
     "evalue": "'Lee'",
     "output_type": "error",
     "traceback": [
      "\u001b[0;31m---------------------------------------------------------------------------\u001b[0m",
      "\u001b[0;31mKeyError\u001b[0m                                  Traceback (most recent call last)",
      "\u001b[0;32m/var/folders/qx/y52kw8zx5ll231l0nftlfwm80000gn/T/ipykernel_57974/2522327117.py\u001b[0m in \u001b[0;36m<module>\u001b[0;34m\u001b[0m\n\u001b[0;32m----> 1\u001b[0;31m \u001b[0;32mdel\u001b[0m \u001b[0mpythons\u001b[0m\u001b[0;34m[\u001b[0m\u001b[0;34m'Lee'\u001b[0m\u001b[0;34m]\u001b[0m\u001b[0;34m\u001b[0m\u001b[0;34m\u001b[0m\u001b[0m\n\u001b[0m",
      "\u001b[0;31mKeyError\u001b[0m: 'Lee'"
     ]
    }
   ],
   "source": [
    "del pythons['Lee']\n",
    "#없는거 삭제할 시 오류 발생"
   ]
  },
  {
   "cell_type": "code",
   "execution_count": 67,
   "id": "acaf29f4",
   "metadata": {},
   "outputs": [
    {
     "data": {
      "text/plain": [
       "'Groucho'"
      ]
     },
     "execution_count": 67,
     "metadata": {},
     "output_type": "execute_result"
    }
   ],
   "source": [
    "pythons.pop('Marx')\n",
    "#pop 사용하기"
   ]
  },
  {
   "cell_type": "code",
   "execution_count": 69,
   "id": "beba6906",
   "metadata": {},
   "outputs": [
    {
     "data": {
      "text/plain": [
       "0"
      ]
     },
     "execution_count": 69,
     "metadata": {},
     "output_type": "execute_result"
    }
   ],
   "source": [
    "pythons.pop('Lee',0) #없으면 예외는 발생, 반환 값 지정 가능"
   ]
  },
  {
   "cell_type": "code",
   "execution_count": 70,
   "id": "c79ff0cb",
   "metadata": {},
   "outputs": [
    {
     "data": {
      "text/plain": [
       "{}"
      ]
     },
     "execution_count": 70,
     "metadata": {},
     "output_type": "execute_result"
    }
   ],
   "source": [
    "#전체 삭제\n",
    "pythons.clear()\n",
    "pythons={}\n",
    "pythons"
   ]
  },
  {
   "cell_type": "markdown",
   "id": "690f895c",
   "metadata": {},
   "source": [
    "### 복제\n",
    "- 할당: b = a\n",
    "- 얕은 복사: c = a.copy()\n",
    "- 깊은 복사: deepcopy"
   ]
  },
  {
   "cell_type": "code",
   "execution_count": 71,
   "id": "a45e3c56",
   "metadata": {},
   "outputs": [
    {
     "data": {
      "text/plain": [
       "({1: 45, 2: 2, 3: 3}, {1: 45, 2: 2, 3: 3})"
      ]
     },
     "execution_count": 71,
     "metadata": {},
     "output_type": "execute_result"
    }
   ],
   "source": [
    "# 리스트와 비슷한 논리로 바뀜\n",
    "a = {1:1, 2:2, 3:3}\n",
    "b = a\n",
    "a[1] = 45\n",
    "a, b"
   ]
  },
  {
   "cell_type": "code",
   "execution_count": 72,
   "id": "ddcd5e36",
   "metadata": {},
   "outputs": [
    {
     "data": {
      "text/plain": [
       "({1: 45, 2: 22, 3: 3}, {1: 45, 2: 2, 3: 3})"
      ]
     },
     "execution_count": 72,
     "metadata": {},
     "output_type": "execute_result"
    }
   ],
   "source": [
    "#얕은 복사\n",
    "c = a.copy()\n",
    "a[2] = 22\n",
    "a, c"
   ]
  },
  {
   "cell_type": "code",
   "execution_count": 73,
   "id": "8d4341dd",
   "metadata": {},
   "outputs": [
    {
     "data": {
      "text/plain": [
       "({1: [100, 2, 3], 2: [2, 3, 4]}, {1: [100, 2, 3], 2: [2, 3, 4]})"
      ]
     },
     "execution_count": 73,
     "metadata": {},
     "output_type": "execute_result"
    }
   ],
   "source": [
    "# 값이 가변객체일 시 얕은 복사로 해결 불가능\n",
    "a = {1: [1, 2, 3], 2: [2, 3, 4]}\n",
    "d = a.copy()\n",
    "a[1][0] = 100\n",
    "a, d"
   ]
  },
  {
   "cell_type": "code",
   "execution_count": 74,
   "id": "22d666b9",
   "metadata": {},
   "outputs": [
    {
     "data": {
      "text/plain": [
       "({1: [100, 999, 3], 2: [2, 3, 4]}, {1: [100, 2, 3], 2: [2, 3, 4]})"
      ]
     },
     "execution_count": 74,
     "metadata": {},
     "output_type": "execute_result"
    }
   ],
   "source": [
    "#깊은 복사\n",
    "import copy\n",
    "e = copy.deepcopy(a)\n",
    "a[1][1] = 999\n",
    "a, e"
   ]
  },
  {
   "cell_type": "markdown",
   "id": "bc474425",
   "metadata": {},
   "source": [
    "#### 비교\n",
    "- 같다, 다르다 만 된다"
   ]
  },
  {
   "cell_type": "code",
   "execution_count": 75,
   "id": "ba1767b3",
   "metadata": {},
   "outputs": [
    {
     "data": {
      "text/plain": [
       "False"
      ]
     },
     "execution_count": 75,
     "metadata": {},
     "output_type": "execute_result"
    }
   ],
   "source": [
    "a == b"
   ]
  },
  {
   "cell_type": "markdown",
   "id": "5bfda12a",
   "metadata": {},
   "source": [
    "### EX\n",
    "1. 두 리스트로 하나의 딕셔너리 생성\n",
    "2. 명왕성:pluto 추가하기\n",
    "3. '성'으로 끝나지 않는 키 삭제하기\n",
    "    del (x)\n",
    "4. sorted 이용해서 값 정렬하기 i)key, ii)value"
   ]
  },
  {
   "cell_type": "code",
   "execution_count": 77,
   "id": "809ff4ba",
   "metadata": {},
   "outputs": [],
   "source": [
    "solar_kor = '태양 수성 금성 지구 화성 목성 토성 천왕성 해왕성'.split()\n",
    "solar_eng = 'sun mercury venus earth mars jupiter saturn uranus neptune'.split()"
   ]
  },
  {
   "cell_type": "code",
   "execution_count": 93,
   "id": "9059d715",
   "metadata": {},
   "outputs": [
    {
     "data": {
      "text/plain": [
       "[('목성', 'jupiter'),\n",
       " ('화성', 'mars'),\n",
       " ('수성', 'mercury'),\n",
       " ('해왕성', 'neptune'),\n",
       " ('명왕성', 'pluto'),\n",
       " ('토성', 'saturn'),\n",
       " ('천왕성', 'uranus'),\n",
       " ('금성', 'venus')]"
      ]
     },
     "execution_count": 93,
     "metadata": {},
     "output_type": "execute_result"
    }
   ],
   "source": [
    "solar_dict = dict(zip(solar_kor,solar_eng))\n",
    "solar_dict['명왕성'] = 'pluto'\n",
    "for i in list(solar_dict.keys()):\n",
    "    if not i.endswith('성'):\n",
    "        del solar_dict[i]\n",
    "solar_dict = sorted(solar_dict.items())\n",
    "solar_dict = sorted(solar_dict, key = lambda x:x[1])\n",
    "solar_dict"
   ]
  },
  {
   "cell_type": "code",
   "execution_count": 100,
   "id": "8eab05a3",
   "metadata": {},
   "outputs": [
    {
     "data": {
      "text/plain": [
       "{'수성': 'mercury',\n",
       " '금성': 'venus',\n",
       " '화성': 'mars',\n",
       " '목성': 'jupiter',\n",
       " '토성': 'saturn',\n",
       " '천왕성': 'uranus',\n",
       " '해왕성': 'neptune',\n",
       " '명왕성': 'pluto'}"
      ]
     },
     "execution_count": 100,
     "metadata": {},
     "output_type": "execute_result"
    }
   ],
   "source": [
    "system = {}\n",
    "for k, v in zip(solar_kor, solar_eng):\n",
    "    system[k] = v\n",
    "system['명왕성'] = 'pluto'\n",
    "\n",
    "{k: v for k,v in system.items() if k.endswith('성')}"
   ]
  },
  {
   "cell_type": "markdown",
   "id": "cb9bd1ef",
   "metadata": {},
   "source": [
    "### 컴프리헨션"
   ]
  },
  {
   "cell_type": "code",
   "execution_count": 95,
   "id": "424ba603",
   "metadata": {},
   "outputs": [
    {
     "data": {
      "text/plain": [
       "{'a': 1, 'p': 2, 'l': 1, 'e': 1}"
      ]
     },
     "execution_count": 95,
     "metadata": {},
     "output_type": "execute_result"
    }
   ],
   "source": [
    "#리스트 컴프리헨션 후 형변환 할 시 비효율적\n",
    "letter = 'apple'\n",
    "#ex) a:1, p:2 ~~\n",
    "{ch: letter.count(ch) for ch in letter}"
   ]
  },
  {
   "cell_type": "code",
   "execution_count": 96,
   "id": "07120356",
   "metadata": {},
   "outputs": [
    {
     "data": {
      "text/plain": [
       "{'a': 2, 'e': 1, 'i': 1, 'o': 4}"
      ]
     },
     "execution_count": 96,
     "metadata": {},
     "output_type": "execute_result"
    }
   ],
   "source": [
    "#단어의 모음 세기\n",
    "vowels = 'aeiou'\n",
    "word = 'onomatopoeia'\n",
    "#word 순회\n",
    "#vowels 순회\n",
    "\n",
    "{v:word.count(v) for v in vowels if v in word}"
   ]
  },
  {
   "cell_type": "code",
   "execution_count": 99,
   "id": "e563fa63",
   "metadata": {},
   "outputs": [
    {
     "data": {
      "text/plain": [
       "{'a': 2, 'o': 4, 'e': 1, 'i': 1}"
      ]
     },
     "execution_count": 99,
     "metadata": {},
     "output_type": "execute_result"
    }
   ],
   "source": [
    "{w:word.count(w) for w in set(word) if w in vowels}"
   ]
  },
  {
   "cell_type": "markdown",
   "id": "abf5a1aa",
   "metadata": {},
   "source": [
    "### sorting"
   ]
  },
  {
   "cell_type": "code",
   "execution_count": 105,
   "id": "66919245",
   "metadata": {},
   "outputs": [
    {
     "data": {
      "text/plain": [
       "[('지구', 'earth'),\n",
       " ('목성', 'jupiter'),\n",
       " ('화성', 'mars'),\n",
       " ('수성', 'mercury'),\n",
       " ('해왕성', 'neptune'),\n",
       " ('명왕성', 'pluto'),\n",
       " ('토성', 'saturn'),\n",
       " ('태양', 'sun'),\n",
       " ('천왕성', 'uranus'),\n",
       " ('금성', 'venus')]"
      ]
     },
     "execution_count": 105,
     "metadata": {},
     "output_type": "execute_result"
    }
   ],
   "source": [
    "sorted(system.items(),key = fx)"
   ]
  },
  {
   "cell_type": "code",
   "execution_count": 104,
   "id": "8bf94f77",
   "metadata": {},
   "outputs": [],
   "source": [
    "def fx(x):\n",
    "    return x[1]"
   ]
  },
  {
   "cell_type": "code",
   "execution_count": 106,
   "id": "dc864ed2",
   "metadata": {},
   "outputs": [
    {
     "data": {
      "text/plain": [
       "[('지구', 'earth'),\n",
       " ('목성', 'jupiter'),\n",
       " ('화성', 'mars'),\n",
       " ('수성', 'mercury'),\n",
       " ('해왕성', 'neptune'),\n",
       " ('명왕성', 'pluto'),\n",
       " ('토성', 'saturn'),\n",
       " ('태양', 'sun'),\n",
       " ('천왕성', 'uranus'),\n",
       " ('금성', 'venus')]"
      ]
     },
     "execution_count": 106,
     "metadata": {},
     "output_type": "execute_result"
    }
   ],
   "source": [
    "sorted(system.items(),key = lambda x: x[1])"
   ]
  },
  {
   "cell_type": "markdown",
   "id": "5c3c9e97",
   "metadata": {},
   "source": [
    "### Set\n",
    "- 중복이 없다\n",
    "- 집합 -> 교집합, 합집합, 차집합, ...\n",
    "- bag. 인덱싱도 없다"
   ]
  },
  {
   "cell_type": "code",
   "execution_count": 107,
   "id": "32c85362",
   "metadata": {},
   "outputs": [
    {
     "data": {
      "text/plain": [
       "set()"
      ]
     },
     "execution_count": 107,
     "metadata": {},
     "output_type": "execute_result"
    }
   ],
   "source": [
    "empty = set()\n",
    "empty"
   ]
  },
  {
   "cell_type": "code",
   "execution_count": 108,
   "id": "db1bb780",
   "metadata": {},
   "outputs": [
    {
     "data": {
      "text/plain": [
       "{1, 2, 3}"
      ]
     },
     "execution_count": 108,
     "metadata": {},
     "output_type": "execute_result"
    }
   ],
   "source": [
    "a = {1, 2, 3}\n",
    "a"
   ]
  },
  {
   "cell_type": "code",
   "execution_count": 109,
   "id": "728810a5",
   "metadata": {},
   "outputs": [
    {
     "data": {
      "text/plain": [
       "{1, 2, 3}"
      ]
     },
     "execution_count": 109,
     "metadata": {},
     "output_type": "execute_result"
    }
   ],
   "source": [
    "a = set((1,2,3))\n",
    "a"
   ]
  },
  {
   "cell_type": "code",
   "execution_count": 111,
   "id": "5f719c3f",
   "metadata": {},
   "outputs": [
    {
     "data": {
      "text/plain": [
       "{1, 2, 3, 4}"
      ]
     },
     "execution_count": 111,
     "metadata": {},
     "output_type": "execute_result"
    }
   ],
   "source": [
    "# 추가\n",
    "a.add(4)\n",
    "a"
   ]
  },
  {
   "cell_type": "code",
   "execution_count": 112,
   "id": "8ef4bf4e",
   "metadata": {},
   "outputs": [
    {
     "data": {
      "text/plain": [
       "{1, 2, 3}"
      ]
     },
     "execution_count": 112,
     "metadata": {},
     "output_type": "execute_result"
    }
   ],
   "source": [
    "#삭제\n",
    "a.remove(4)\n",
    "a"
   ]
  },
  {
   "cell_type": "code",
   "execution_count": 121,
   "id": "bde7625a",
   "metadata": {},
   "outputs": [
    {
     "name": "stdout",
     "output_type": "stream",
     "text": [
      "martini\n",
      "black russian\n",
      "white russian\n",
      "screwdriver\n",
      "\n",
      "black russian\n",
      "screwdriver\n"
     ]
    }
   ],
   "source": [
    "drinks = {\n",
    "    'martini' : {'vodka', 'vermouth'}\n",
    "    , 'black russian': {'vodka', 'kahlua'},\n",
    "    'white russian': {'cream','kahlua','vodka'},\n",
    "    'manhattan': {'rye','vermouth','bitters'},\n",
    "    'screwdriver': {'orange juice', 'vodka'}\n",
    "}\n",
    "#vodka가 포함된 술 출력\n",
    "#vodka는 있지만 cream, vermouth 없는 술 출력\n",
    "for i in drinks:\n",
    "    if 'vodka' in drinks[i]:\n",
    "        print(i)\n",
    "print()\n",
    "for i in drinks:\n",
    "    if 'vodka' in drinks[i] and 'cream' not in drinks[i] and 'vermouth' not in drinks[i]:\n",
    "        print(i)"
   ]
  },
  {
   "cell_type": "code",
   "execution_count": 125,
   "id": "b8d6762f",
   "metadata": {},
   "outputs": [
    {
     "data": {
      "text/plain": [
       "({1}, {4})"
      ]
     },
     "execution_count": 125,
     "metadata": {},
     "output_type": "execute_result"
    }
   ],
   "source": [
    "a = {1, 2, 3}\n",
    "b = {2, 3, 4}\n",
    "# 교집합 | intersection\n",
    "a.intersection(b)\n",
    "a & b\n",
    "# 합집합 | union\n",
    "a.union(b)\n",
    "a | b\n",
    "# 차집합 | difference\n",
    "a.difference(b)\n",
    "a - b, b - a"
   ]
  },
  {
   "cell_type": "code",
   "execution_count": 133,
   "id": "8dbe016d",
   "metadata": {},
   "outputs": [
    {
     "name": "stdout",
     "output_type": "stream",
     "text": [
      "black russian\n",
      "screwdriver\n"
     ]
    }
   ],
   "source": [
    "for k, v in drinks.items():\n",
    "    if v & {'vodka'} and not {'cream','vermouth'} & v:\n",
    "        print(k)"
   ]
  },
  {
   "cell_type": "code",
   "execution_count": 134,
   "id": "a3651234",
   "metadata": {},
   "outputs": [
    {
     "data": {
      "text/plain": [
       "{0, 1, 2, 3, 4}"
      ]
     },
     "execution_count": 134,
     "metadata": {},
     "output_type": "execute_result"
    }
   ],
   "source": [
    "{s for s in range(5)}"
   ]
  },
  {
   "cell_type": "code",
   "execution_count": 135,
   "id": "d9f94be2",
   "metadata": {},
   "outputs": [
    {
     "data": {
      "text/plain": [
       "frozenset({1, 2})"
      ]
     },
     "execution_count": 135,
     "metadata": {},
     "output_type": "execute_result"
    }
   ],
   "source": [
    "#frozenset\n",
    "set([1,2])\n",
    "frozenset([1,2])"
   ]
  },
  {
   "cell_type": "markdown",
   "id": "7a591f3d",
   "metadata": {},
   "source": [
    "### 팀 프로젝트 \n",
    "- 퀴즈 대신 교수님이 내주신 테스크 해결\n",
    "- 정시에 수업 들어와서 짠 코드 설명"
   ]
  },
  {
   "cell_type": "code",
   "execution_count": 137,
   "id": "70f1d5ac",
   "metadata": {
    "scrolled": true
   },
   "outputs": [
    {
     "name": "stdout",
     "output_type": "stream",
     "text": [
      "Requirement already satisfied: pylint in /Users/gim-yong-u/opt/anaconda3/lib/python3.9/site-packages (2.9.6)\n",
      "Requirement already satisfied: toml>=0.7.1 in /Users/gim-yong-u/opt/anaconda3/lib/python3.9/site-packages (from pylint) (0.10.2)\n",
      "Requirement already satisfied: astroid<2.7,>=2.6.5 in /Users/gim-yong-u/opt/anaconda3/lib/python3.9/site-packages (from pylint) (2.6.6)\n",
      "Requirement already satisfied: isort<6,>=4.2.5 in /Users/gim-yong-u/opt/anaconda3/lib/python3.9/site-packages (from pylint) (5.9.3)\n",
      "Requirement already satisfied: mccabe<0.7,>=0.6 in /Users/gim-yong-u/opt/anaconda3/lib/python3.9/site-packages (from pylint) (0.6.1)\n",
      "Requirement already satisfied: lazy-object-proxy>=1.4.0 in /Users/gim-yong-u/opt/anaconda3/lib/python3.9/site-packages (from astroid<2.7,>=2.6.5->pylint) (1.6.0)\n",
      "Requirement already satisfied: wrapt<1.13,>=1.11 in /Users/gim-yong-u/opt/anaconda3/lib/python3.9/site-packages (from astroid<2.7,>=2.6.5->pylint) (1.12.1)\n",
      "Requirement already satisfied: setuptools>=20.0 in /Users/gim-yong-u/opt/anaconda3/lib/python3.9/site-packages (from astroid<2.7,>=2.6.5->pylint) (58.0.4)\n",
      "Note: you may need to restart the kernel to use updated packages.\n"
     ]
    }
   ],
   "source": [
    "#pip install pylint"
   ]
  },
  {
   "cell_type": "code",
   "execution_count": null,
   "id": "f34ae23f",
   "metadata": {},
   "outputs": [],
   "source": [
    "# !pylint example.py \n",
    "# !pip install pydocstyle\n",
    "# !pydocstyle example.py"
   ]
  }
 ],
 "metadata": {
  "kernelspec": {
   "display_name": "Python 3 (ipykernel)",
   "language": "python",
   "name": "python3"
  },
  "language_info": {
   "codemirror_mode": {
    "name": "ipython",
    "version": 3
   },
   "file_extension": ".py",
   "mimetype": "text/x-python",
   "name": "python",
   "nbconvert_exporter": "python",
   "pygments_lexer": "ipython3",
   "version": "3.9.7"
  }
 },
 "nbformat": 4,
 "nbformat_minor": 5
}
