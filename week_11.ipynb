{
 "cells": [
  {
   "cell_type": "markdown",
   "id": "ef0db8dd",
   "metadata": {},
   "source": [
    "### 객체 II\n",
    "- 상속(inheritance)\n",
    "- 재사용할 때, A vs B\n",
    "    - 'A의 대부분을 쓰고, 나머지를 추가, 변경하고 싶다'\n",
    "    - 부모의 모든 속성을 그대로 가져와서 쓰겠다.\n",
    "- 반복되는 부분을 가져오겠다, 물려받겠다.\n",
    "- A <- B\n",
    "    - \"부모, 슈퍼, 베이스\"\n",
    "    - \"자식, 서브, derived\"\n",
    "- 자식클래스는 부모클래스를 구체화 한다.\n",
    "- is-a 관계: Car is-a Vehicle (포함된다.)"
   ]
  },
  {
   "cell_type": "code",
   "execution_count": 1,
   "id": "f5f76ffb",
   "metadata": {},
   "outputs": [],
   "source": [
    "# parent, super\n",
    "class Vehicle:\n",
    "    def __init__(self, speed):\n",
    "        self.speed = speed\n",
    "        \n",
    "    def go(self):\n",
    "        print(f'{self.speed}의 속도로 달린다.')\n",
    "        \n",
    "#child, sub\n",
    "class Car(Vehicle):\n",
    "    pass"
   ]
  },
  {
   "cell_type": "code",
   "execution_count": 2,
   "id": "e7a58a4e",
   "metadata": {},
   "outputs": [
    {
     "ename": "TypeError",
     "evalue": "__init__() missing 1 required positional argument: 'speed'",
     "output_type": "error",
     "traceback": [
      "\u001b[0;31m---------------------------------------------------------------------------\u001b[0m",
      "\u001b[0;31mTypeError\u001b[0m                                 Traceback (most recent call last)",
      "Input \u001b[0;32mIn [2]\u001b[0m, in \u001b[0;36m<cell line: 2>\u001b[0;34m()\u001b[0m\n\u001b[1;32m      1\u001b[0m \u001b[38;5;66;03m# speed 지정해주지 않음\u001b[39;00m\n\u001b[0;32m----> 2\u001b[0m car \u001b[38;5;241m=\u001b[39m \u001b[43mCar\u001b[49m\u001b[43m(\u001b[49m\u001b[43m)\u001b[49m\n",
      "\u001b[0;31mTypeError\u001b[0m: __init__() missing 1 required positional argument: 'speed'"
     ]
    }
   ],
   "source": [
    "# speed 지정해주지 않음\n",
    "car = Car()"
   ]
  },
  {
   "cell_type": "code",
   "execution_count": 4,
   "id": "568ecc73",
   "metadata": {},
   "outputs": [
    {
     "name": "stdout",
     "output_type": "stream",
     "text": [
      "20km/h의 속도로 달린다.\n"
     ]
    }
   ],
   "source": [
    "# Vehicle 로부터 상속받음\n",
    "car = Car('20km/h')\n",
    "car.go()\n",
    "# 자식 클래스엔 go()가 없지만 상속받아서 사용 가능"
   ]
  },
  {
   "cell_type": "markdown",
   "id": "85acee6a",
   "metadata": {},
   "source": [
    "### 변수 추가, 변경"
   ]
  },
  {
   "cell_type": "code",
   "execution_count": 7,
   "id": "4e3b5470",
   "metadata": {},
   "outputs": [],
   "source": [
    "class Car(Vehicle): #child, sub\n",
    "    def __init__(self, speed, brand):\n",
    "        #speed from 부모\n",
    "        super().__init__(speed)\n",
    "        #brand from 자식\n",
    "        self.brand = brand"
   ]
  },
  {
   "cell_type": "code",
   "execution_count": 8,
   "id": "838973e8",
   "metadata": {},
   "outputs": [
    {
     "data": {
      "text/plain": [
       "'kia'"
      ]
     },
     "execution_count": 8,
     "metadata": {},
     "output_type": "execute_result"
    }
   ],
   "source": [
    "car2 = Car('20km/h', 'kia')\n",
    "car2.brand"
   ]
  },
  {
   "cell_type": "code",
   "execution_count": 9,
   "id": "9916c9e4",
   "metadata": {},
   "outputs": [
    {
     "ename": "AttributeError",
     "evalue": "'Vehicle' object has no attribute 'brand'",
     "output_type": "error",
     "traceback": [
      "\u001b[0;31m---------------------------------------------------------------------------\u001b[0m",
      "\u001b[0;31mAttributeError\u001b[0m                            Traceback (most recent call last)",
      "Input \u001b[0;32mIn [9]\u001b[0m, in \u001b[0;36m<cell line: 3>\u001b[0;34m()\u001b[0m\n\u001b[1;32m      1\u001b[0m \u001b[38;5;66;03m# 부모 = brand 존재 X\u001b[39;00m\n\u001b[1;32m      2\u001b[0m v \u001b[38;5;241m=\u001b[39m Vehicle(\u001b[38;5;124m'\u001b[39m\u001b[38;5;124m33km/h\u001b[39m\u001b[38;5;124m'\u001b[39m)\n\u001b[0;32m----> 3\u001b[0m \u001b[43mv\u001b[49m\u001b[38;5;241;43m.\u001b[39;49m\u001b[43mbrand\u001b[49m\n",
      "\u001b[0;31mAttributeError\u001b[0m: 'Vehicle' object has no attribute 'brand'"
     ]
    }
   ],
   "source": [
    "# 부모 = brand 존재 X\n",
    "v = Vehicle('33km/h')\n",
    "v.brand"
   ]
  },
  {
   "cell_type": "markdown",
   "id": "b4f1cb0d",
   "metadata": {},
   "source": [
    "### 메소드 추가, 변경\n",
    "- override하면 부모의 메소드가 잊힌다."
   ]
  },
  {
   "cell_type": "code",
   "execution_count": 10,
   "id": "54b15efe",
   "metadata": {},
   "outputs": [],
   "source": [
    "class Car(Vehicle): \n",
    "    def __init__(self, speed, brand):\n",
    "        super().__init__(speed)\n",
    "        self.brand = brand\n",
    "    #override(재정비)    \n",
    "    def go(self):\n",
    "        # 부모의 go 도 함께 가져가고 싶다면? 밑에 추가하기\n",
    "        super().go()\n",
    "        print(f'차종 {self.brand}의 속도 {self.speed}')\n",
    "        \n",
    "    # 메소드 추가\n",
    "    def stop():\n",
    "        pass"
   ]
  },
  {
   "cell_type": "code",
   "execution_count": 16,
   "id": "8920e161",
   "metadata": {},
   "outputs": [
    {
     "name": "stdout",
     "output_type": "stream",
     "text": [
      "33km/h의 속도로 달린다.\n",
      "차종 mini의 속도 33km/h\n"
     ]
    }
   ],
   "source": [
    "car3 = Car('33km/h', 'mini')\n",
    "car3.go()"
   ]
  },
  {
   "cell_type": "markdown",
   "id": "38f0066c",
   "metadata": {},
   "source": [
    "### 실습"
   ]
  },
  {
   "cell_type": "code",
   "execution_count": 11,
   "id": "9509a7dc",
   "metadata": {},
   "outputs": [],
   "source": [
    "# 잘못됨 저장되지 않고 프린트만 됨\n",
    "\n",
    "class Person:\n",
    "    def __init__(self, name):\n",
    "        self.name = name\n",
    "        \n",
    "class Doctor(Person):\n",
    "    def __init__(self, name):\n",
    "        super().__init__(name)\n",
    "    \n",
    "    def info(self):\n",
    "        print(f'Dr.{self.name}')\n",
    "\n",
    "class Male(Person):\n",
    "    def __init__(self, name):\n",
    "        super().__init__(name)\n",
    "    \n",
    "    def info(self):\n",
    "        print(f'Mr.{self.name}')\n",
    "\n",
    "class Female(Person):\n",
    "    def __init__(self, name):\n",
    "        super().__init__(name)\n",
    "    \n",
    "    def info(self):\n",
    "        print(f'Mrs.{self.name}')\n",
    "\n"
   ]
  },
  {
   "cell_type": "code",
   "execution_count": 12,
   "id": "1a0208f2",
   "metadata": {},
   "outputs": [],
   "source": [
    "# 맞게 하기\n",
    "class Person:\n",
    "    def __init__(self, name):\n",
    "        self.name = name\n",
    "\n",
    "class Doctor(Person):\n",
    "    def __init__(self, name):\n",
    "        super().__init__(f'Dr.{name}')\n",
    "\n",
    "class Male(Person):\n",
    "    def __init__(self, name):\n",
    "        super().__init__(f'Mr.{name}')\n",
    "\n",
    "class Female(Person):\n",
    "    def __init__(self, name):\n",
    "        super().__init__(f'Mrs.{name}')"
   ]
  },
  {
   "cell_type": "code",
   "execution_count": 14,
   "id": "d95ce43e",
   "metadata": {},
   "outputs": [
    {
     "data": {
      "text/plain": [
       "'Dr.pablo'"
      ]
     },
     "execution_count": 14,
     "metadata": {},
     "output_type": "execute_result"
    }
   ],
   "source": [
    "doctor = Doctor('pablo')\n",
    "doctor.name"
   ]
  },
  {
   "cell_type": "markdown",
   "id": "6e304b60",
   "metadata": {},
   "source": [
    "### 다중상속\n",
    "- 여러번 상속을 받을 수도 있는데 그 중 누구와 더 가까운가..\n",
    "- method resolution order (MRO)\n",
    "- Animal <- Horse\n",
    "        <- Donkey\n",
    "                <- Mule(Donkey > Horse)\n",
    "                <- Hinny(Horse > Donkey)"
   ]
  },
  {
   "cell_type": "code",
   "execution_count": 15,
   "id": "a36cd147",
   "metadata": {},
   "outputs": [],
   "source": [
    "class Animal: #조부모\n",
    "    def says(self):\n",
    "        return '동물이 운다.'\n",
    "    \n",
    "class Horse(Animal):# 부모\n",
    "    def says(self):\n",
    "        return '히히힝'\n",
    "\n",
    "class Donkey(Animal):# 부모\n",
    "    def says(self):\n",
    "        return '히이호'\n",
    "    \n",
    "class Mule(Donkey, Horse): #자식 Donkey에 더 가까움\n",
    "    pass\n",
    "\n",
    "class Hinny(Horse, Donkey): #자식 Horse 에 더 가까움\n",
    "    pass"
   ]
  },
  {
   "cell_type": "code",
   "execution_count": 17,
   "id": "c8507310",
   "metadata": {},
   "outputs": [
    {
     "data": {
      "text/plain": [
       "'히이호'"
      ]
     },
     "execution_count": 17,
     "metadata": {},
     "output_type": "execute_result"
    }
   ],
   "source": [
    "m = Mule()\n",
    "m.says() #Donkey에 더 가까우므로 Donkey처럼 말한다"
   ]
  },
  {
   "cell_type": "code",
   "execution_count": 16,
   "id": "08f488a8",
   "metadata": {},
   "outputs": [
    {
     "data": {
      "text/plain": [
       "'히히힝'"
      ]
     },
     "execution_count": 16,
     "metadata": {},
     "output_type": "execute_result"
    }
   ],
   "source": [
    "Hinny().says() # 그 반대"
   ]
  },
  {
   "cell_type": "code",
   "execution_count": 18,
   "id": "16dc04fe",
   "metadata": {},
   "outputs": [
    {
     "data": {
      "text/plain": [
       "[__main__.Mule, __main__.Donkey, __main__.Horse, __main__.Animal, object]"
      ]
     },
     "execution_count": 18,
     "metadata": {},
     "output_type": "execute_result"
    }
   ],
   "source": [
    "Mule.mro() #순서 출력"
   ]
  },
  {
   "cell_type": "markdown",
   "id": "fe5c32f2",
   "metadata": {},
   "source": [
    "### 다형성\n",
    "- 형태는 다른데 기능은 똑같음\n",
    "- 같은 메소드 가지고 있으면 기능 수행"
   ]
  },
  {
   "cell_type": "code",
   "execution_count": 25,
   "id": "e7d54258",
   "metadata": {},
   "outputs": [
    {
     "name": "stdout",
     "output_type": "stream",
     "text": [
      "히이호\n",
      "히이호\n",
      "동물이 운다.\n"
     ]
    }
   ],
   "source": [
    "for animal in [Mule(),Donkey(), Animal()]:\n",
    "    print(animal.says())"
   ]
  },
  {
   "cell_type": "markdown",
   "id": "1231c015",
   "metadata": {},
   "source": [
    "### 메서드 타입\n",
    "- 인스턴스 메서드\n",
    "    - self가 1번 인자\n",
    "    - 객체 생성 -> 사용 가능\n",
    "- 클래스 메서드\n",
    "    - 객체 생성하지 않아도 사용 가능\n",
    "    - 클래스에 접근하는 메서드\n",
    "    - @classmethod\n",
    "    - 예약어 : cls\n",
    "    - 함수가 첫 인자\n",
    "    - class Person, cls -> Person\n",
    "- 정적 메서드\n",
    "    - 객체 생성하지 않고 접근 가능\n",
    "    - 클래스랑 전혀 상관이 없기 때문에 접근 가능한 것\n",
    "    - 내용, 기능이 비슷해서 클래스 내에 묶어 둠\n",
    "- 추상 메서드\n",
    "    - 추상 클래스 : abstract 이름만 존재하는 클래스\n",
    "    - 설계도 역할: \n",
    "    - 상속하는 자식 클래스 -> 반드시 구현해야 하는 메소드르 정의한다"
   ]
  },
  {
   "cell_type": "code",
   "execution_count": 19,
   "id": "5350de42",
   "metadata": {},
   "outputs": [
    {
     "data": {
      "text/plain": [
       "'히이호'"
      ]
     },
     "execution_count": 19,
     "metadata": {},
     "output_type": "execute_result"
    }
   ],
   "source": [
    "# 인스턴스 메서드\n",
    "a = Mule() #인스턴스 생성\n",
    "a.says() #메서드 수행"
   ]
  },
  {
   "cell_type": "code",
   "execution_count": 20,
   "id": "be6a59b6",
   "metadata": {},
   "outputs": [
    {
     "ename": "TypeError",
     "evalue": "says() missing 1 required positional argument: 'self'",
     "output_type": "error",
     "traceback": [
      "\u001b[0;31m---------------------------------------------------------------------------\u001b[0m",
      "\u001b[0;31mTypeError\u001b[0m                                 Traceback (most recent call last)",
      "Input \u001b[0;32mIn [20]\u001b[0m, in \u001b[0;36m<cell line: 1>\u001b[0;34m()\u001b[0m\n\u001b[0;32m----> 1\u001b[0m \u001b[43mMule\u001b[49m\u001b[38;5;241;43m.\u001b[39;49m\u001b[43msays\u001b[49m\u001b[43m(\u001b[49m\u001b[43m)\u001b[49m\n",
      "\u001b[0;31mTypeError\u001b[0m: says() missing 1 required positional argument: 'self'"
     ]
    }
   ],
   "source": [
    "Mule.says() #self가 없으므로 바로 생성불가"
   ]
  },
  {
   "cell_type": "code",
   "execution_count": 33,
   "id": "67b569e4",
   "metadata": {},
   "outputs": [],
   "source": [
    "# 클래스메서드\n",
    "class A:\n",
    "    cnt = 0\n",
    "    \n",
    "    @classmethod\n",
    "    def move(cls):\n",
    "        return cls.cnt"
   ]
  },
  {
   "cell_type": "code",
   "execution_count": 34,
   "id": "5d41f31a",
   "metadata": {},
   "outputs": [
    {
     "data": {
      "text/plain": [
       "0"
      ]
     },
     "execution_count": 34,
     "metadata": {},
     "output_type": "execute_result"
    }
   ],
   "source": [
    "A().move() #바로 접근 가능 "
   ]
  },
  {
   "cell_type": "code",
   "execution_count": 35,
   "id": "0bc5ecca",
   "metadata": {},
   "outputs": [
    {
     "data": {
      "text/plain": [
       "0"
      ]
     },
     "execution_count": 35,
     "metadata": {},
     "output_type": "execute_result"
    }
   ],
   "source": [
    "A.move()"
   ]
  },
  {
   "cell_type": "code",
   "execution_count": 21,
   "id": "229df0d6",
   "metadata": {},
   "outputs": [
    {
     "data": {
      "text/plain": [
       "'kim'"
      ]
     },
     "execution_count": 21,
     "metadata": {},
     "output_type": "execute_result"
    }
   ],
   "source": [
    "class Person:\n",
    "    def __init__(self,name,age):\n",
    "        self.name = name\n",
    "        self.age = age\n",
    "   \n",
    "    @classmethod    \n",
    "    def tuple_object(cls, args):\n",
    "        return cls(args[0],args[1])\n",
    "\n",
    "name = 'kim'\n",
    "age = 24\n",
    "#p = Person(name, age)\n",
    "\n",
    "info = name, age\n",
    "p = Person.tuple_object(info)\n",
    "p.name"
   ]
  },
  {
   "cell_type": "code",
   "execution_count": 39,
   "id": "1832b37b",
   "metadata": {},
   "outputs": [
    {
     "data": {
      "text/plain": [
       "2"
      ]
     },
     "execution_count": 39,
     "metadata": {},
     "output_type": "execute_result"
    }
   ],
   "source": [
    "class A:\n",
    "    # 붕어빵 몇 개?\n",
    "    cnt = 0\n",
    "    \n",
    "    def __init__(self):\n",
    "        A.cnt += 1\n",
    "    \n",
    "    @classmethod\n",
    "    def count(cls):\n",
    "        return cls.cnt\n",
    "A()\n",
    "A()\n",
    "A.count()"
   ]
  },
  {
   "cell_type": "code",
   "execution_count": 40,
   "id": "0bf9f89a",
   "metadata": {},
   "outputs": [],
   "source": [
    "class Coyote:\n",
    "    @staticmethod\n",
    "    def says(): #self 없음 딕셔너리에 변수 저장하는 것 과 비슷\n",
    "        print('hi')"
   ]
  },
  {
   "cell_type": "code",
   "execution_count": 22,
   "id": "ed84de52",
   "metadata": {},
   "outputs": [],
   "source": [
    "from abc import *\n",
    "\n",
    "class Vehicle(metaclass = ABCMeta):\n",
    "    #추상클래스 설정하는 방법\n",
    "    speed = '속도'\n",
    "    \n",
    "    @abstractmethod #추상메서드 선언하면 상속받는 클래스에서 메서드 생성해야함\n",
    "    def go(self):\n",
    "        print('탈 것이 간다')\n",
    "class Car(Vehicle):\n",
    "    def go(self):\n",
    "        print('')"
   ]
  },
  {
   "cell_type": "code",
   "execution_count": 44,
   "id": "7cf214fa",
   "metadata": {},
   "outputs": [
    {
     "data": {
      "text/plain": [
       "<__main__.Car at 0x7f8478018670>"
      ]
     },
     "execution_count": 44,
     "metadata": {},
     "output_type": "execute_result"
    }
   ],
   "source": [
    "Car()"
   ]
  },
  {
   "cell_type": "code",
   "execution_count": null,
   "id": "7ecc953f",
   "metadata": {},
   "outputs": [],
   "source": []
  }
 ],
 "metadata": {
  "kernelspec": {
   "display_name": "Python 3 (ipykernel)",
   "language": "python",
   "name": "python3"
  },
  "language_info": {
   "codemirror_mode": {
    "name": "ipython",
    "version": 3
   },
   "file_extension": ".py",
   "mimetype": "text/x-python",
   "name": "python",
   "nbconvert_exporter": "python",
   "pygments_lexer": "ipython3",
   "version": "3.9.5"
  }
 },
 "nbformat": 4,
 "nbformat_minor": 5
}
