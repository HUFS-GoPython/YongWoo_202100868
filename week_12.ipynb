{
 "cells": [
  {
   "cell_type": "code",
   "execution_count": 2,
   "id": "410adeb7",
   "metadata": {},
   "outputs": [],
   "source": [
    "#Store, Item, Customer\n",
    "#팀 프로젝트에서 Store 에서 Customer, Item 상속하면 틀림 \n",
    "#상호작용은 필요하지만 상속하면 안됨\n",
    "\n",
    "#1. Abcustomer -> Customer(상속)\n",
    "#2. Person <- Customer(Person)"
   ]
  },
  {
   "cell_type": "code",
   "execution_count": null,
   "id": "fa6e2153",
   "metadata": {},
   "outputs": [],
   "source": [
    "class Customer(Person):\n",
    "    pass\n",
    "\n",
    "class Store:\n",
    "    def __init__(customer):\n",
    "        self.customer = customer\n",
    "        self.item = item\n",
    "        self.item_list = self.item.name, self.item.price\n",
    "        \n",
    "class Item:\n",
    "    name\n",
    "    cnt\n",
    "    price\n",
    "    pass\n",
    "\n",
    "class Seller"
   ]
  },
  {
   "cell_type": "markdown",
   "id": "e7296644",
   "metadata": {},
   "source": [
    "### 매직메소드\n",
    "- special method\n",
    "\n",
    "- str, repr"
   ]
  },
  {
   "cell_type": "code",
   "execution_count": 3,
   "id": "fc1f5717",
   "metadata": {},
   "outputs": [],
   "source": [
    "class Customer:\n",
    "    def __init__(self, name):\n",
    "        self.name = name\n",
    "        \n",
    "    def __str__(self):\n",
    "        #print() 함수로 나온 출력값을 변경하는 것 문자열로\n",
    "        #print()는 내부적으로 __str__ 메소드 호출\n",
    "        return f'my name is {self.name}'\n",
    "    \n",
    "    def __repr__(self):\n",
    "        #설정 안하면 __str__동일함\n",
    "        #확인 해본결과 따로 설정안하면 __str__이 우선순위 높음\n",
    "        #인스턴스를 출력하는 방식 => 사용자, 즉 인간이 이해하는 객체의 모습을 표현\n",
    "        return f'my name is {self.name}'\n",
    "c = Customer('kim')"
   ]
  },
  {
   "cell_type": "code",
   "execution_count": 3,
   "id": "d2e78ff4",
   "metadata": {},
   "outputs": [
    {
     "data": {
      "text/plain": [
       "<__main__.Customer at 0x7fabc86325e0>"
      ]
     },
     "execution_count": 3,
     "metadata": {},
     "output_type": "execute_result"
    }
   ],
   "source": [
    "c"
   ]
  },
  {
   "cell_type": "code",
   "execution_count": 5,
   "id": "d58dd1fd",
   "metadata": {},
   "outputs": [
    {
     "name": "stdout",
     "output_type": "stream",
     "text": [
      "my name is kim\n"
     ]
    }
   ],
   "source": [
    "print(c) #str 매직 메소드 호출"
   ]
  },
  {
   "cell_type": "markdown",
   "id": "7bd65d6a",
   "metadata": {},
   "source": [
    "### NamedTuple, DataClass\n",
    "- 객체보다 효율적임(간단한 속성만 가진 클래스일 경우 활용)\n",
    "- 딕셔너리의 키처럼 사용 가능하다\n",
    "- 불변객체"
   ]
  },
  {
   "cell_type": "code",
   "execution_count": 6,
   "id": "87422864",
   "metadata": {},
   "outputs": [
    {
     "data": {
      "text/plain": [
       "('lee', 44)"
      ]
     },
     "execution_count": 6,
     "metadata": {},
     "output_type": "execute_result"
    }
   ],
   "source": [
    "from collections import namedtuple\n",
    "\n",
    "Customer = namedtuple('Customer', 'name age') #['name', 'age']이런 식으로도 가능하다고 함\n",
    "a = Customer('lee', 44)\n",
    "a.name, a.age"
   ]
  },
  {
   "cell_type": "code",
   "execution_count": 7,
   "id": "0edc8098",
   "metadata": {},
   "outputs": [
    {
     "data": {
      "text/plain": [
       "('hong', 88)"
      ]
     },
     "execution_count": 7,
     "metadata": {},
     "output_type": "execute_result"
    }
   ],
   "source": [
    "from dataclasses import dataclass\n",
    "#3.7 이상에서만\n",
    "\n",
    "@dataclass\n",
    "class Customer2:\n",
    "    name: str\n",
    "    age: int\n",
    "\n",
    "b = Customer2('hong', 88)\n",
    "b.name, b.age"
   ]
  },
  {
   "cell_type": "markdown",
   "id": "66473547",
   "metadata": {},
   "source": [
    "### 함수 II\n",
    "- \\*, \\*\\*\n",
    "- 일급객체\n",
    "- 내부함수, 클로저\n",
    "- 익명함수\n",
    "- 제너레이터\n",
    "- 재귀함수  \n",
    "asterisk : *"
   ]
  },
  {
   "cell_type": "code",
   "execution_count": 8,
   "id": "c9e425c3",
   "metadata": {},
   "outputs": [
    {
     "name": "stdout",
     "output_type": "stream",
     "text": [
      "1 2 3 4 5\n"
     ]
    }
   ],
   "source": [
    "def print_arg(*args):#1. 여러개의 인자 -> 패킹\n",
    "    print(*args)#2. 언패킹\n",
    "    \n",
    "print_arg(1,2,3,4,5)"
   ]
  },
  {
   "cell_type": "code",
   "execution_count": 9,
   "id": "cca95c02",
   "metadata": {},
   "outputs": [
    {
     "name": "stdout",
     "output_type": "stream",
     "text": [
      "1 2\n",
      "optional\n",
      "1 2\n",
      "안녕하세요 hi こんこんばんは optional\n"
     ]
    }
   ],
   "source": [
    "def print_more(num1, num2, *args):\n",
    "    print(num1, num2)\n",
    "    print(*args, 'optional')\n",
    "    \n",
    "print_more(1,2)\n",
    "print_more(1,2,'안녕하세요', 'hi', 'こんこんばんは') # 여러개 받는다"
   ]
  },
  {
   "cell_type": "code",
   "execution_count": 11,
   "id": "3b00fb9c",
   "metadata": {},
   "outputs": [
    {
     "name": "stdout",
     "output_type": "stream",
     "text": [
      "0 1 2 3 4 5 6 7 8 9\n",
      "[0, 1, 2, 3, 4, 5, 6, 7, 8, 9]\n"
     ]
    }
   ],
   "source": [
    "empty = list(range(10))\n",
    "print(*empty) #각각 언패킹\n",
    "print(empty)"
   ]
  },
  {
   "cell_type": "code",
   "execution_count": 11,
   "id": "1398270b",
   "metadata": {},
   "outputs": [
    {
     "name": "stdout",
     "output_type": "stream",
     "text": [
      "(1, 3, 5)\n",
      "(2, 4, 6)\n"
     ]
    }
   ],
   "source": [
    "# 행렬, 테이블 데이터\n",
    "matrix = [\n",
    "    [1, 2],\n",
    "    [3, 4],\n",
    "    [5, 6]\n",
    "]\n",
    "# 1, 3, 5 / 2, 4, 6\n",
    "for item in zip(*matrix):\n",
    "    print(item)"
   ]
  },
  {
   "cell_type": "code",
   "execution_count": 12,
   "id": "45e708c8",
   "metadata": {},
   "outputs": [
    {
     "name": "stdout",
     "output_type": "stream",
     "text": [
      "(1, 3, 5)\n",
      "(2, 4, 6)\n"
     ]
    }
   ],
   "source": [
    "for item in zip([1, 2], [3, 4], [5, 6]):\n",
    "    print(item)"
   ]
  },
  {
   "cell_type": "code",
   "execution_count": 12,
   "id": "cdc27394",
   "metadata": {},
   "outputs": [
    {
     "name": "stdout",
     "output_type": "stream",
     "text": [
      "0\n",
      "1\n",
      "2\n",
      "3\n"
     ]
    }
   ],
   "source": [
    "#키워드 전용 인수 선언시 사용 \n",
    "# * = 인수의 끝과 전용인수의 시작을 선언한다.\n",
    "def print_data(data, *, start, end):\n",
    "    for item in data[start:end]:\n",
    "        print(item)\n",
    "        \n",
    "print_data(empty, start = 0, end = 4)"
   ]
  },
  {
   "cell_type": "markdown",
   "id": "1917bb6b",
   "metadata": {},
   "source": [
    "### kargs: **"
   ]
  },
  {
   "cell_type": "code",
   "execution_count": 15,
   "id": "c540eab0",
   "metadata": {},
   "outputs": [
    {
     "name": "stdout",
     "output_type": "stream",
     "text": [
      "{'wine': 'crianza', 'drink': 'water'}\n"
     ]
    }
   ],
   "source": [
    "def print_kargs(**kargs): # 키: 값 -> 딕셔너리로 반환\n",
    "    print(kargs)\n",
    "    #print(**kargs) #언패킹 안됨\n",
    "\n",
    "print_kargs(wine = 'crianza', drink = 'water')"
   ]
  },
  {
   "cell_type": "code",
   "execution_count": 16,
   "id": "b7abedec",
   "metadata": {},
   "outputs": [
    {
     "name": "stdout",
     "output_type": "stream",
     "text": [
      "{'wine': 'cabernet', 'drink': 'water'}\n",
      "{'wine': 'crianza', 'drink': 'water'}\n",
      "{'wine': 'shiraz', 'drink': 'water'}\n"
     ]
    }
   ],
   "source": [
    "for wine in ['cabernet', 'crianza', 'shiraz']:\n",
    "    print_kargs(wine = wine, drink = 'water')"
   ]
  },
  {
   "cell_type": "code",
   "execution_count": 17,
   "id": "8481305d",
   "metadata": {},
   "outputs": [
    {
     "name": "stdout",
     "output_type": "stream",
     "text": [
      "1 2\n",
      "18\n",
      "{'num': 4}\n"
     ]
    }
   ],
   "source": [
    "def print_all(num1, num2, *args, **kargs): #둘이 같이 사용\n",
    "    print(num1, num2)\n",
    "    print(sum(args))#각각\n",
    "    print(kargs)#각각\n",
    "\n",
    "print_all(1, 2, 3, 4, 5, 6, num = 4)"
   ]
  },
  {
   "cell_type": "code",
   "execution_count": 18,
   "id": "5b4ac843",
   "metadata": {},
   "outputs": [
    {
     "data": {
      "text/plain": [
       "{1: 'a', 2: 'c', 3: 'd'}"
      ]
     },
     "execution_count": 18,
     "metadata": {},
     "output_type": "execute_result"
    }
   ],
   "source": [
    "# 딕셔너리 조인할 수 있음\n",
    "a = {1: 'a', 2: 'b'}\n",
    "b = {2: 'c', 3: 'd'}\n",
    "c = {**a, **b}\n",
    "c"
   ]
  },
  {
   "cell_type": "code",
   "execution_count": null,
   "id": "34802015",
   "metadata": {},
   "outputs": [],
   "source": []
  }
 ],
 "metadata": {
  "kernelspec": {
   "display_name": "Python 3 (ipykernel)",
   "language": "python",
   "name": "python3"
  },
  "language_info": {
   "codemirror_mode": {
    "name": "ipython",
    "version": 3
   },
   "file_extension": ".py",
   "mimetype": "text/x-python",
   "name": "python",
   "nbconvert_exporter": "python",
   "pygments_lexer": "ipython3",
   "version": "3.9.5"
  }
 },
 "nbformat": 4,
 "nbformat_minor": 5
}
