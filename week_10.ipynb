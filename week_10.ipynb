{
 "cells": [
  {
   "cell_type": "markdown",
   "id": "2b22a8c7",
   "metadata": {},
   "source": [
    "### 객체와 클래스\n",
    "- object ??\n",
    "- 객체지향프로그래밍\n",
    "- 속성과 행동을 가지는 개념, 실존하는 물체?\n",
    "    - 예: 자동차, 강아지, 꽃 ...thing\n",
    "    - 속성: 브랜드, 색, 속도, 모델, .. (자동차)\n",
    "        - 이름, 종, 색, 무게, ..  (강아지)\n",
    "    - 행동: 가다, 서다, 회전, 주차, .. (자동차)\n",
    "        - 뛰다, 짖다, 자다, 핥다, .. (강아지)\n",
    "\n",
    "- 편의점 => \"고객이 편의점에서 과자를 샀다\"\n",
    "    => 고객 => 사람,       편의점, 과자 => 물건\n",
    "        - 이름, 돈          - 재고, 수익        -이름, 브랜드, 가격\n",
    "        - 물건 사다, 돈 내다   - 팔다, 수익 남기다, 물건 등록    - X\n",
    "    => 상호작용으로 코드를 구성하는 것"
   ]
  },
  {
   "cell_type": "markdown",
   "id": "75760b1e",
   "metadata": {},
   "source": [
    "- 첫 글자 대문자\n",
    "- nice car -> Nice_car (x)\n",
    "- camel 표기법(낙타 등 처럼) NiceCar (O)\n",
    "\n",
    "- 정의부, 선언부\n",
    "    - 정의부 = 붕어빵 틀\n",
    "    - 선언부 = 붕어빵"
   ]
  },
  {
   "cell_type": "code",
   "execution_count": 1,
   "id": "a23eeb66",
   "metadata": {},
   "outputs": [
    {
     "data": {
      "text/plain": [
       "<__main__.Car at 0x7fb6683a9250>"
      ]
     },
     "execution_count": 1,
     "metadata": {},
     "output_type": "execute_result"
    }
   ],
   "source": [
    "# 정의부\n",
    "class Car: \n",
    "    pass # 아무 설정하지 않을 시 pass\n",
    "\n",
    "# 선언부\n",
    "my_car = Car()\n",
    "my_car #instance -> 붕어빵"
   ]
  },
  {
   "cell_type": "code",
   "execution_count": 2,
   "id": "e7d6a333",
   "metadata": {},
   "outputs": [],
   "source": [
    "#name, color 설정 가능\n",
    "\n",
    "my_car.name = 'bmw' \n",
    "my_car.color = 'white'"
   ]
  },
  {
   "cell_type": "code",
   "execution_count": 4,
   "id": "738e002a",
   "metadata": {},
   "outputs": [
    {
     "data": {
      "text/plain": [
       "'bmw'"
      ]
     },
     "execution_count": 4,
     "metadata": {},
     "output_type": "execute_result"
    }
   ],
   "source": [
    "# 다음과 같은 방법으로 확인할 수 있음\n",
    "\n",
    "my_car.name"
   ]
  },
  {
   "cell_type": "code",
   "execution_count": 5,
   "id": "f02f3c5a",
   "metadata": {},
   "outputs": [],
   "source": [
    "#이 방법은 수정이 어렵다는 단점이 있음\n",
    "\n",
    "class Car:\n",
    "    name = 'BMW'"
   ]
  },
  {
   "cell_type": "code",
   "execution_count": 6,
   "id": "9ed114e2",
   "metadata": {},
   "outputs": [],
   "source": [
    "#your_car의 name 이 'BMW'로 설정됨\n",
    "\n",
    "your_car = Car()"
   ]
  },
  {
   "cell_type": "code",
   "execution_count": 7,
   "id": "2e50cb92",
   "metadata": {},
   "outputs": [
    {
     "data": {
      "text/plain": [
       "'BMW'"
      ]
     },
     "execution_count": 7,
     "metadata": {},
     "output_type": "execute_result"
    }
   ],
   "source": [
    "your_car.name"
   ]
  },
  {
   "cell_type": "code",
   "execution_count": 9,
   "id": "ee019656",
   "metadata": {},
   "outputs": [
    {
     "data": {
      "text/plain": [
       "'Kia'"
      ]
     },
     "execution_count": 9,
     "metadata": {},
     "output_type": "execute_result"
    }
   ],
   "source": [
    "#변경이 귀찮다\n",
    "\n",
    "your_car.name = 'Kia'\n",
    "your_car.name"
   ]
  },
  {
   "cell_type": "code",
   "execution_count": 9,
   "id": "1a940727",
   "metadata": {},
   "outputs": [],
   "source": [
    "#2. 좀 더 편하게 바꾸기\n",
    "# __init__ 이용하기\n",
    "class Car:\n",
    "    def __init__(self, name): #속성 초기화 함수 self 먼저 쓰기\n",
    "        # 객체 만들 때 들어온 값으로 이름을 설정하고 싶다.\n",
    "        self.name = name\n",
    "        #self = instance : 나 자신 (인스턴스 자신)"
   ]
  },
  {
   "cell_type": "code",
   "execution_count": 10,
   "id": "50b8b1de",
   "metadata": {},
   "outputs": [],
   "source": [
    "# name = '' 이런 식으로 가능 \n",
    "her_car = Car(name = 'Hyundai')"
   ]
  },
  {
   "cell_type": "code",
   "execution_count": 11,
   "id": "08fb6afa",
   "metadata": {},
   "outputs": [
    {
     "data": {
      "text/plain": [
       "'Hyundai'"
      ]
     },
     "execution_count": 11,
     "metadata": {},
     "output_type": "execute_result"
    }
   ],
   "source": [
    "#확인해보기\n",
    "her_car.name"
   ]
  },
  {
   "cell_type": "code",
   "execution_count": 13,
   "id": "8fb48657",
   "metadata": {},
   "outputs": [
    {
     "data": {
      "text/plain": [
       "'Toyota'"
      ]
     },
     "execution_count": 13,
     "metadata": {},
     "output_type": "execute_result"
    }
   ],
   "source": [
    "# 순서 지키면 그냥 쭉 써도 됨\n",
    "car2 = Car('Toyota')\n",
    "car2.name"
   ]
  },
  {
   "cell_type": "code",
   "execution_count": 18,
   "id": "b21a400c",
   "metadata": {},
   "outputs": [],
   "source": [
    "class Car:\n",
    "    def __init__(self, name, model, color): # 이름, 모델, 색 추가\n",
    "        self.name = name\n",
    "        self.model = model\n",
    "        self.color = color\n",
    "    \n",
    "    def drive(self): #차 출발하는 행동 추가 \n",
    "        # {차 이름}가 출발합니다\n",
    "        print(f'{self.name}가 출발합니다')\n",
    "    \n",
    "    def stop(self): #차 멈추는 행동 추가\n",
    "        print('차가 섭니다')\n",
    "        \n",
    "    def change_color(self): #색 바꾸는 행동 추가 \n",
    "        # gray로 바꾼다\n",
    "        self.color = 'gray'\n",
    "car3 = Car('Kia', 'K3', 'White') #순서 지켰으므로 name, model, color 순서대로 들어감"
   ]
  },
  {
   "cell_type": "code",
   "execution_count": 19,
   "id": "85bbc017",
   "metadata": {},
   "outputs": [
    {
     "name": "stdout",
     "output_type": "stream",
     "text": [
      "Kia가 출발합니다\n"
     ]
    }
   ],
   "source": [
    "car3.drive() #출발"
   ]
  },
  {
   "cell_type": "code",
   "execution_count": 21,
   "id": "c99bab98",
   "metadata": {},
   "outputs": [
    {
     "data": {
      "text/plain": [
       "'gray'"
      ]
     },
     "execution_count": 21,
     "metadata": {},
     "output_type": "execute_result"
    }
   ],
   "source": [
    "car3.change_color() #gray 로 바뀜\n",
    "car3.color"
   ]
  },
  {
   "cell_type": "code",
   "execution_count": 38,
   "id": "296a3726",
   "metadata": {},
   "outputs": [],
   "source": [
    "class Car:\n",
    "    def __init__(self, name, model = None, color = 'black'):\n",
    "        #color가 들어오면 그 값으로 설정하고 들어오지 않으면 black으로 설정하기\n",
    "        # model 값이 들어오면 그 값, 아니라면 none값\n",
    "        self.name = name\n",
    "        self.model = model\n",
    "        self.color = color\n",
    "    \n",
    "    def drive(self):\n",
    "        # {차 이름}가 출발합니다\n",
    "        print(f'{self.name}가 출발합니다')\n",
    "    \n",
    "    def stop(self):\n",
    "        print('차가 섭니다')\n",
    "        \n",
    "    def change_color(self,color):\n",
    "        #color 값 받아서 그 색으로 변경하기 \n",
    "        self.color = color"
   ]
  },
  {
   "cell_type": "code",
   "execution_count": 36,
   "id": "bf8a9bae",
   "metadata": {},
   "outputs": [],
   "source": [
    "car4 = Car('Samsung','SM6', 'white')\n",
    "car4.change_color('gray')"
   ]
  },
  {
   "cell_type": "code",
   "execution_count": 41,
   "id": "ae961809",
   "metadata": {},
   "outputs": [
    {
     "data": {
      "text/plain": [
       "'~~'"
      ]
     },
     "execution_count": 41,
     "metadata": {},
     "output_type": "execute_result"
    }
   ],
   "source": [
    "car = Car('Porche')\n",
    "car.model = '~~'\n",
    "car.model"
   ]
  },
  {
   "cell_type": "markdown",
   "id": "71639927",
   "metadata": {},
   "source": [
    "### 캡슐화, 정보 은닉\n",
    "- public -> private \n",
    "- getter, setter"
   ]
  },
  {
   "cell_type": "code",
   "execution_count": 42,
   "id": "91c92a3a",
   "metadata": {},
   "outputs": [
    {
     "data": {
      "text/plain": [
       "'red'"
      ]
     },
     "execution_count": 42,
     "metadata": {},
     "output_type": "execute_result"
    }
   ],
   "source": [
    "class Fruit:\n",
    "    color = 'red'\n",
    "\n",
    "kiwi = Fruit()\n",
    "kiwi.color"
   ]
  },
  {
   "cell_type": "code",
   "execution_count": 43,
   "id": "5fbea160",
   "metadata": {},
   "outputs": [],
   "source": [
    "Fruit.color = 'black' #값을 변경할 수 있음 -> public"
   ]
  },
  {
   "cell_type": "code",
   "execution_count": 44,
   "id": "6fde7c8c",
   "metadata": {},
   "outputs": [
    {
     "data": {
      "text/plain": [
       "'black'"
      ]
     },
     "execution_count": 44,
     "metadata": {},
     "output_type": "execute_result"
    }
   ],
   "source": [
    "apple = Fruit()\n",
    "apple.color"
   ]
  },
  {
   "cell_type": "markdown",
   "id": "7905dbd9",
   "metadata": {},
   "source": [
    "#### get, set\n",
    "- getter: 클래스 내 객체 변수 반환\n",
    "- setter: 클래스 내 객체 변수 설정"
   ]
  },
  {
   "cell_type": "code",
   "execution_count": 14,
   "id": "74b11f36",
   "metadata": {},
   "outputs": [],
   "source": [
    "#get_name, set_name\n",
    "class Car:\n",
    "    def __init__(self, input_name):\n",
    "        self.name = input_name\n",
    "    \n",
    "    def get_name(self):\n",
    "        #변수 반환\n",
    "        return self.name\n",
    "    \n",
    "    def set_name(self, input_name):\n",
    "        self.name = input_name\n",
    "\n",
    "c = Car('name1')"
   ]
  },
  {
   "cell_type": "code",
   "execution_count": 15,
   "id": "c98dfdd9",
   "metadata": {},
   "outputs": [
    {
     "data": {
      "text/plain": [
       "'name1'"
      ]
     },
     "execution_count": 15,
     "metadata": {},
     "output_type": "execute_result"
    }
   ],
   "source": [
    "c.get_name()"
   ]
  },
  {
   "cell_type": "code",
   "execution_count": 16,
   "id": "59ccef62",
   "metadata": {},
   "outputs": [
    {
     "data": {
      "text/plain": [
       "'name2'"
      ]
     },
     "execution_count": 16,
     "metadata": {},
     "output_type": "execute_result"
    }
   ],
   "source": [
    "c.set_name('name2')\n",
    "c.name"
   ]
  },
  {
   "cell_type": "code",
   "execution_count": 17,
   "id": "cabe0736",
   "metadata": {},
   "outputs": [
    {
     "data": {
      "text/plain": [
       "'name3'"
      ]
     },
     "execution_count": 17,
     "metadata": {},
     "output_type": "execute_result"
    }
   ],
   "source": [
    "c.name = 'name3'\n",
    "c.name"
   ]
  },
  {
   "cell_type": "markdown",
   "id": "3d673bb0",
   "metadata": {},
   "source": [
    "#### 2. property() 이용하기!"
   ]
  },
  {
   "cell_type": "code",
   "execution_count": 18,
   "id": "49aa989f",
   "metadata": {},
   "outputs": [
    {
     "data": {
      "text/plain": [
       "'name_1'"
      ]
     },
     "execution_count": 18,
     "metadata": {},
     "output_type": "execute_result"
    }
   ],
   "source": [
    "class Car:\n",
    "    def __init__(self, input_name):\n",
    "        self.hidden_name = input_name\n",
    "    \n",
    "    def get_name(self):\n",
    "        #변수 반환\n",
    "        return self.hidden_name\n",
    "    \n",
    "    def set_name(self, input_name):\n",
    "        self.hidden_name = input_name\n",
    "    \n",
    "    name = property(get_name, set_name)\n",
    "    \n",
    "d = Car('name_1')\n",
    "d.name"
   ]
  },
  {
   "cell_type": "markdown",
   "id": "d4e37625",
   "metadata": {},
   "source": [
    "#### 3.  @property, @.setter (decorater)"
   ]
  },
  {
   "cell_type": "code",
   "execution_count": 19,
   "id": "adf87222",
   "metadata": {},
   "outputs": [],
   "source": [
    "class Car:\n",
    "    def __init__(self, input_name):\n",
    "        self.hidden_name = input_name\n",
    "    @property\n",
    "    def name(self):\n",
    "        #변수 반환\n",
    "        return self.hidden_name\n",
    "   \n",
    "    @name.setter\n",
    "    def name(self, input_name):\n",
    "        self.hidden_name = input_name"
   ]
  },
  {
   "cell_type": "code",
   "execution_count": 20,
   "id": "d3026a2f",
   "metadata": {},
   "outputs": [
    {
     "data": {
      "text/plain": [
       "'name a'"
      ]
     },
     "execution_count": 20,
     "metadata": {},
     "output_type": "execute_result"
    }
   ],
   "source": [
    "e = Car('name a')\n",
    "e.name"
   ]
  },
  {
   "cell_type": "code",
   "execution_count": 21,
   "id": "6dcaf74d",
   "metadata": {},
   "outputs": [
    {
     "data": {
      "text/plain": [
       "'name a'"
      ]
     },
     "execution_count": 21,
     "metadata": {},
     "output_type": "execute_result"
    }
   ],
   "source": [
    "e.hidden_name"
   ]
  },
  {
   "cell_type": "markdown",
   "id": "141c3ddd",
   "metadata": {},
   "source": [
    "#### 4.  __~~~ 이용하면 접근 아예 막을수 있음"
   ]
  },
  {
   "cell_type": "code",
   "execution_count": 22,
   "id": "dd777a85",
   "metadata": {},
   "outputs": [],
   "source": [
    "class Car:\n",
    "    def __init__(self, input_name):\n",
    "        self.__name = input_name\n",
    "    @property\n",
    "    def name(self):\n",
    "        #변수 반환\n",
    "        return self.__name\n",
    "   \n",
    "    @name.setter\n",
    "    def name(self, input_name):\n",
    "        self.__name = input_name"
   ]
  },
  {
   "cell_type": "code",
   "execution_count": 23,
   "id": "35c0cf6e",
   "metadata": {},
   "outputs": [
    {
     "ename": "AttributeError",
     "evalue": "'Car' object has no attribute '__name'",
     "output_type": "error",
     "traceback": [
      "\u001b[0;31m---------------------------------------------------------------------------\u001b[0m",
      "\u001b[0;31mAttributeError\u001b[0m                            Traceback (most recent call last)",
      "\u001b[0;32m/var/folders/qx/y52kw8zx5ll231l0nftlfwm80000gn/T/ipykernel_88712/229484777.py\u001b[0m in \u001b[0;36m<module>\u001b[0;34m\u001b[0m\n\u001b[1;32m      1\u001b[0m \u001b[0mf\u001b[0m \u001b[0;34m=\u001b[0m \u001b[0mCar\u001b[0m\u001b[0;34m(\u001b[0m\u001b[0;34m'name b'\u001b[0m\u001b[0;34m)\u001b[0m\u001b[0;34m\u001b[0m\u001b[0;34m\u001b[0m\u001b[0m\n\u001b[0;32m----> 2\u001b[0;31m \u001b[0mf\u001b[0m\u001b[0;34m.\u001b[0m\u001b[0m__name\u001b[0m\u001b[0;34m\u001b[0m\u001b[0;34m\u001b[0m\u001b[0m\n\u001b[0m",
      "\u001b[0;31mAttributeError\u001b[0m: 'Car' object has no attribute '__name'"
     ]
    }
   ],
   "source": [
    "f = Car('name b')\n",
    "f.__name"
   ]
  },
  {
   "cell_type": "code",
   "execution_count": 57,
   "id": "ce56aeae",
   "metadata": {},
   "outputs": [
    {
     "data": {
      "text/plain": [
       "10"
      ]
     },
     "execution_count": 57,
     "metadata": {},
     "output_type": "execute_result"
    }
   ],
   "source": [
    "class Circle:\n",
    "    def __init__(self, radius):\n",
    "        self.radius = radius\n",
    "        \n",
    "    @property    \n",
    "    def parameter(self):\n",
    "        return self.radius * 2\n",
    "    \n",
    "ex = Circle(5)\n",
    "ex.parameter"
   ]
  },
  {
   "cell_type": "code",
   "execution_count": 58,
   "id": "677a186c",
   "metadata": {},
   "outputs": [
    {
     "data": {
      "text/plain": [
       "38"
      ]
     },
     "execution_count": 58,
     "metadata": {},
     "output_type": "execute_result"
    }
   ],
   "source": [
    "ex.radius = 19\n",
    "ex.parameter"
   ]
  },
  {
   "cell_type": "markdown",
   "id": "7474f71e",
   "metadata": {},
   "source": [
    "### 실습\n",
    "- 메모장, 메모 구현하기\n",
    "- 메모장\n",
    "    - 속성: 제목, 페이지번호, 메모\n",
    "    - 메모 추가하다, 메모 삭제하다, 페이지번호 확인하다\n",
    "- 메모\n",
    "    - 속성: 글귀\n",
    "    - 행동: 쓰다, 지우다\n",
    "    \n",
    "- 사용:\n",
    "    - 메모 쓰다\n",
    "    - 메모장에 추가\n",
    "    - 페이지 번호가 늘어나다\n",
    "    - 메모 삭제\n",
    "    - 페이지 번호 줄어든다\n",
    "    - 메모장 > 제목만 은닉"
   ]
  },
  {
   "cell_type": "code",
   "execution_count": 30,
   "id": "ab5d6f57",
   "metadata": {},
   "outputs": [],
   "source": [
    "# 실습 ... 잘 모르겠습니다.. ㅠㅠ\n",
    "\n",
    "class Notepad:\n",
    "    def __init__(self, title, page = 0, memo = []):\n",
    "        self.__title = title\n",
    "        self.page = page\n",
    "        self.memo = memo\n",
    "    \n",
    "    def title(self):\n",
    "        return self.__title\n",
    "    \n",
    "    def add_note(self, note):\n",
    "        self.memo.append(note)\n",
    "        self.page += 1\n",
    "        \n",
    "    def del_note(self, note):\n",
    "        self.memo.remove(note)\n",
    "        self.page -= 1\n",
    "        \n",
    "    def get_page(self):\n",
    "        return self.page\n",
    "    \n",
    "class Note:\n",
    "    def __init__(self, memos = []):\n",
    "        self.memos = memos\n",
    "    \n",
    "    def write_text(self, text):\n",
    "        self.memos.append(text)\n",
    "    \n",
    "    def erase_text(self, text):\n",
    "        self.memos.remove(text)"
   ]
  },
  {
   "cell_type": "code",
   "execution_count": null,
   "id": "9dc8b967",
   "metadata": {},
   "outputs": [],
   "source": []
  }
 ],
 "metadata": {
  "kernelspec": {
   "display_name": "Python 3 (ipykernel)",
   "language": "python",
   "name": "python3"
  },
  "language_info": {
   "codemirror_mode": {
    "name": "ipython",
    "version": 3
   },
   "file_extension": ".py",
   "mimetype": "text/x-python",
   "name": "python",
   "nbconvert_exporter": "python",
   "pygments_lexer": "ipython3",
   "version": "3.9.7"
  }
 },
 "nbformat": 4,
 "nbformat_minor": 5
}
