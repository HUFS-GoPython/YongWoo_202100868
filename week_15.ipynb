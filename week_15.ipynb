{
 "cells": [
  {
   "cell_type": "markdown",
   "id": "d26b609d",
   "metadata": {},
   "source": [
    "### 파일과 디렉터리\n",
    "- 디렉터리: 폴더의 다른 말. 파일이 논리적으로 묶인 단위\n",
    "- 파일: 컴퓨터를 실행하는 기본 단위.\n",
    "    - 파일명 + 확장자\n",
    "    - 확장자: 파일의 쓰임을 구분하는 글자\n",
    "        - .pdf, .xlsx, .txt, ..\n",
    "    - 종류: 바이너리 파일, 텍스트 파일\n",
    "        - 바이너리: 이진정보로 저장됨\n",
    "            - 내용을 확인 못함.\n",
    "            - 해당 확장자를 열 수 있는 프로그램이 필요함.\n",
    "        - 텍스트: 사람이 이해할 수 있는 문자열로 저장됨\n",
    "            - 메모장, html, py\n",
    "            - 변경 기준: 아스키코드, 유니코드\n",
    "            - 인코딩(encoding)\n",
    "            - utf-8\n",
    "            - cp494"
   ]
  },
  {
   "cell_type": "markdown",
   "id": "1fc3af3b",
   "metadata": {},
   "source": [
    "#### 파일 열기\n",
    "- open(파일명, 모드)\n",
    "- 모드\n",
    "    - r: read (default)\n",
    "    - w: write - 파일이 있으면 덮어쓰고, 없으면 생성\n",
    "    - x: 파일이 없을 때만 생성\n",
    "    - a: 있을 때 마지막 라인에 추가\n",
    "    \n",
    "    추가 모드\n",
    "    - b: binary\n",
    "    - t: text (default)\n",
    "    \n",
    "    'rb', 'rt'"
   ]
  },
  {
   "cell_type": "code",
   "execution_count": 22,
   "id": "4695603d",
   "metadata": {},
   "outputs": [],
   "source": [
    "file = 'test.txt'\n",
    "f = open(file, 'r')"
   ]
  },
  {
   "cell_type": "code",
   "execution_count": 12,
   "id": "bec8f159",
   "metadata": {},
   "outputs": [
    {
     "data": {
      "text/plain": [
       "<_io.TextIOWrapper name='test.txt' mode='r' encoding='UTF-8'>"
      ]
     },
     "execution_count": 12,
     "metadata": {},
     "output_type": "execute_result"
    }
   ],
   "source": [
    "f"
   ]
  },
  {
   "cell_type": "markdown",
   "id": "7ce4b051",
   "metadata": {},
   "source": [
    "#### 파일 읽기\n",
    "- read(): 전체를 하나의 str\n",
    "- readline(): 한줄만 str\n",
    "- readlines(): 전체를 list, 각 줄이 한 str"
   ]
  },
  {
   "cell_type": "code",
   "execution_count": 14,
   "id": "3f087903",
   "metadata": {},
   "outputs": [
    {
     "data": {
      "text/plain": [
       "' worl'"
      ]
     },
     "execution_count": 14,
     "metadata": {},
     "output_type": "execute_result"
    }
   ],
   "source": [
    "#파일 읽기\n",
    "f.read(5)"
   ]
  },
  {
   "cell_type": "code",
   "execution_count": 15,
   "id": "39e7b47f",
   "metadata": {},
   "outputs": [],
   "source": [
    "f.close()"
   ]
  },
  {
   "cell_type": "code",
   "execution_count": 20,
   "id": "51b78b0f",
   "metadata": {},
   "outputs": [
    {
     "data": {
      "text/plain": [
       "'hello world\\n'"
      ]
     },
     "execution_count": 20,
     "metadata": {},
     "output_type": "execute_result"
    }
   ],
   "source": [
    "f.readline()"
   ]
  },
  {
   "cell_type": "code",
   "execution_count": 24,
   "id": "d17909a2",
   "metadata": {},
   "outputs": [],
   "source": [
    "f = open(file, 'r')\n",
    "sents = f.readlines()\n",
    "sents = [s.strip() for s in sents]\n",
    "f.close()"
   ]
  },
  {
   "cell_type": "code",
   "execution_count": 25,
   "id": "79d4ad68",
   "metadata": {},
   "outputs": [
    {
     "data": {
      "text/plain": [
       "['hello world', 'new book']"
      ]
     },
     "execution_count": 25,
     "metadata": {},
     "output_type": "execute_result"
    }
   ],
   "source": [
    "sents"
   ]
  },
  {
   "cell_type": "markdown",
   "id": "4a764a3c",
   "metadata": {},
   "source": [
    "#### 파일 닫기\n",
    "- 파일 여는 즉시 닫기\n",
    "- 자원 해제"
   ]
  },
  {
   "cell_type": "code",
   "execution_count": 26,
   "id": "dba8d154",
   "metadata": {},
   "outputs": [],
   "source": [
    "with open(file, 'r') as f: #file\n",
    "    # open() 적용되는 블럭\n",
    "    content = f.read()\n",
    "#파일 자동으로 닫힘"
   ]
  },
  {
   "cell_type": "code",
   "execution_count": 27,
   "id": "4e16bc6b",
   "metadata": {},
   "outputs": [
    {
     "data": {
      "text/plain": [
       "'hello world\\nnew book'"
      ]
     },
     "execution_count": 27,
     "metadata": {},
     "output_type": "execute_result"
    }
   ],
   "source": [
    "content"
   ]
  },
  {
   "cell_type": "code",
   "execution_count": 29,
   "id": "dc37ed30",
   "metadata": {},
   "outputs": [],
   "source": [
    "# readline 파일 읽는데, while 사용해서 한줄씩 읽고, strip()해서 리스트에 반환\n",
    "file = 'test.txt'\n",
    "sents = []\n",
    "with open(file, 'r') as f:\n",
    "    while True:\n",
    "        line = f.readline()\n",
    "        if not line:\n",
    "            break\n",
    "        sent = line.strip()\n",
    "        sents.append(sent)"
   ]
  },
  {
   "cell_type": "markdown",
   "id": "35a21130",
   "metadata": {},
   "source": [
    "#### 경로가 달라질 때\n",
    "- . : 현재 경로\n",
    "- ..: 상위 경로"
   ]
  },
  {
   "cell_type": "code",
   "execution_count": 31,
   "id": "a1186340",
   "metadata": {},
   "outputs": [
    {
     "ename": "FileNotFoundError",
     "evalue": "[Errno 2] No such file or directory: './고급파이썬프로그래밍/test.txt'",
     "output_type": "error",
     "traceback": [
      "\u001b[0;31m---------------------------------------------------------------------------\u001b[0m",
      "\u001b[0;31mFileNotFoundError\u001b[0m                         Traceback (most recent call last)",
      "Input \u001b[0;32mIn [31]\u001b[0m, in \u001b[0;36m<cell line: 2>\u001b[0;34m()\u001b[0m\n\u001b[1;32m      1\u001b[0m file \u001b[38;5;241m=\u001b[39m \u001b[38;5;124m'\u001b[39m\u001b[38;5;124m./고급파이썬프로그래밍/test.txt\u001b[39m\u001b[38;5;124m'\u001b[39m\n\u001b[0;32m----> 2\u001b[0m \u001b[38;5;28;01mwith\u001b[39;00m \u001b[38;5;28;43mopen\u001b[39;49m\u001b[43m(\u001b[49m\u001b[43mfile\u001b[49m\u001b[43m)\u001b[49m \u001b[38;5;28;01mas\u001b[39;00m f:\n\u001b[1;32m      3\u001b[0m     \u001b[38;5;28mprint\u001b[39m(f\u001b[38;5;241m.\u001b[39mread())\n",
      "\u001b[0;31mFileNotFoundError\u001b[0m: [Errno 2] No such file or directory: './고급파이썬프로그래밍/test.txt'"
     ]
    }
   ],
   "source": [
    "file = './고급파이썬프로그래밍/test.txt'\n",
    "with open(file) as f:\n",
    "    print(f.read())"
   ]
  },
  {
   "cell_type": "markdown",
   "id": "e818a934",
   "metadata": {},
   "source": [
    "#### 쓰기\n",
    "- 인코딩 유의"
   ]
  },
  {
   "cell_type": "code",
   "execution_count": 34,
   "id": "0bb00d29",
   "metadata": {},
   "outputs": [],
   "source": [
    "data = list(range(10))\n",
    "with open('test2.txt', 'w', encoding = 'utf-8') as f:\n",
    "    for i in range(10):\n",
    "        data = f'{i}번째 줄입니다.\\n'\n",
    "        f.write(data)"
   ]
  },
  {
   "cell_type": "code",
   "execution_count": 36,
   "id": "57ce0051",
   "metadata": {},
   "outputs": [],
   "source": [
    "#print\n",
    "file_out = open('test', 'a', encoding = 'utf-8')\n",
    "print('한 줄 추가했습니다.', file = file_out)\n",
    "file_out.close()"
   ]
  },
  {
   "cell_type": "markdown",
   "id": "a244c75f",
   "metadata": {},
   "source": [
    "#### folder 만들어서 추가하는 방법\n",
    "    - 폴더 만들어야 함\n",
    "    - 접근"
   ]
  },
  {
   "cell_type": "code",
   "execution_count": 37,
   "id": "4eb98ed9",
   "metadata": {},
   "outputs": [],
   "source": [
    "import os"
   ]
  },
  {
   "cell_type": "code",
   "execution_count": 38,
   "id": "5fc974fc",
   "metadata": {},
   "outputs": [],
   "source": [
    "os.mkdir('abc')"
   ]
  },
  {
   "cell_type": "code",
   "execution_count": null,
   "id": "5734ff63",
   "metadata": {},
   "outputs": [],
   "source": [
    "#있는지 확인하기\n",
    "path = abc\n",
    "if not os.isdir(path):\n",
    "    os.mkdir(path)\n",
    "dir_name = os.path.join(path, 'test2.txt')\n",
    "#재확인\n",
    "if not os.path.exists(dir_name):\n",
    "    with open(dir_name, 'w') as f: #덮어쓸 가능성 배제\n",
    "        #..."
   ]
  },
  {
   "cell_type": "code",
   "execution_count": null,
   "id": "32da91eb",
   "metadata": {},
   "outputs": [],
   "source": [
    "os.remove(file_name)\n",
    "os.rmdir(dir_name) #폴더 안에 파일 있으면 삭제 못함"
   ]
  },
  {
   "cell_type": "code",
   "execution_count": null,
   "id": "a0ee0deb",
   "metadata": {},
   "outputs": [],
   "source": [
    "import shutil\n",
    "shutil.rmtree(dir_name) #강제로 전부 삭제"
   ]
  },
  {
   "cell_type": "code",
   "execution_count": null,
   "id": "9aab85db",
   "metadata": {},
   "outputs": [],
   "source": [
    "#folder 새로 만들어서\n",
    "# 파일에 내용 쓰기\n",
    "# 파일 열기"
   ]
  },
  {
   "cell_type": "code",
   "execution_count": 39,
   "id": "70b252c2",
   "metadata": {},
   "outputs": [
    {
     "data": {
      "text/plain": [
       "'/Users/gim-yong-u/Desktop/고급파이썬프로그래밍'"
      ]
     },
     "execution_count": 39,
     "metadata": {},
     "output_type": "execute_result"
    }
   ],
   "source": [
    "os.getcwd()"
   ]
  },
  {
   "cell_type": "code",
   "execution_count": 40,
   "id": "6a313ca0",
   "metadata": {},
   "outputs": [],
   "source": [
    "os.chdir('..')"
   ]
  },
  {
   "cell_type": "code",
   "execution_count": 41,
   "id": "3f830365",
   "metadata": {},
   "outputs": [
    {
     "data": {
      "text/plain": [
       "'/Users/gim-yong-u/Desktop'"
      ]
     },
     "execution_count": 41,
     "metadata": {},
     "output_type": "execute_result"
    }
   ],
   "source": [
    "os.getcwd()"
   ]
  },
  {
   "cell_type": "markdown",
   "id": "59e40895",
   "metadata": {},
   "source": [
    "#### pickle\n",
    "- 객체를 파일로 저장하는 기능 제공\n",
    "- "
   ]
  },
  {
   "cell_type": "code",
   "execution_count": 42,
   "id": "bc8263da",
   "metadata": {},
   "outputs": [],
   "source": [
    "import pickle"
   ]
  },
  {
   "cell_type": "code",
   "execution_count": 45,
   "id": "3a76158c",
   "metadata": {},
   "outputs": [],
   "source": [
    "with open('test.pickle', 'wb') as f:\n",
    "    pickle.dump(nums, f)"
   ]
  },
  {
   "cell_type": "code",
   "execution_count": 44,
   "id": "2d830a59",
   "metadata": {},
   "outputs": [],
   "source": [
    "nums = list(range(10))"
   ]
  },
  {
   "cell_type": "code",
   "execution_count": 46,
   "id": "db6827bf",
   "metadata": {},
   "outputs": [],
   "source": [
    "with open('test.pickle','rb') as f:\n",
    "    number = pickle.load(f)"
   ]
  },
  {
   "cell_type": "code",
   "execution_count": 47,
   "id": "fd0264bf",
   "metadata": {},
   "outputs": [
    {
     "data": {
      "text/plain": [
       "[0, 1, 2, 3, 4, 5, 6, 7, 8, 9]"
      ]
     },
     "execution_count": 47,
     "metadata": {},
     "output_type": "execute_result"
    }
   ],
   "source": [
    "number"
   ]
  },
  {
   "cell_type": "code",
   "execution_count": null,
   "id": "3b3e6b9e",
   "metadata": {},
   "outputs": [],
   "source": []
  }
 ],
 "metadata": {
  "kernelspec": {
   "display_name": "Python 3 (ipykernel)",
   "language": "python",
   "name": "python3"
  },
  "language_info": {
   "codemirror_mode": {
    "name": "ipython",
    "version": 3
   },
   "file_extension": ".py",
   "mimetype": "text/x-python",
   "name": "python",
   "nbconvert_exporter": "python",
   "pygments_lexer": "ipython3",
   "version": "3.9.5"
  }
 },
 "nbformat": 4,
 "nbformat_minor": 5
}
