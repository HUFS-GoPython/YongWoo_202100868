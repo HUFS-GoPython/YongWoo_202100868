{
 "cells": [
  {
   "cell_type": "markdown",
   "id": "93baca2a",
   "metadata": {},
   "source": [
    "### 함수\n",
    "1. 정의 \n",
    "2. 인수\n",
    "3. 호출 방식"
   ]
  },
  {
   "cell_type": "markdown",
   "id": "15af86ae",
   "metadata": {},
   "source": [
    "#### 1. 정의\n",
    "- 코드의 덩어리, 코드의 묶음\n",
    "- 간편한 재사용을 위해, 한 줄로 재사용 가능하다.\n",
    "- 정의(define) 부분 + 호출(call) 부분\n",
    "    - 정의하기\n",
    "    - def 함수이름(매개변수1, 2, 3, ...):\n",
    "    - 수행문1\n",
    "    - 수행문2\n",
    "    - return 반환값\n",
    "    - 호출하기\n",
    "    - 함수이름(인수1, 2, 3, ...)\n",
    "- 2 X 2 = 4\n",
    "    - 1. 둘 다 없는\n",
    "    - 2. 둘 다 있는\n",
    "    - 3. 매개변수만 있는\n",
    "    - 4. 반환값만 있는"
   ]
  },
  {
   "cell_type": "code",
   "execution_count": 1,
   "id": "f93f108e",
   "metadata": {},
   "outputs": [],
   "source": [
    "#y = x + 1 # x = 매개변수, y = 반환값, x + 1 = 수행문"
   ]
  },
  {
   "cell_type": "code",
   "execution_count": 2,
   "id": "6620554e",
   "metadata": {},
   "outputs": [
    {
     "name": "stdout",
     "output_type": "stream",
     "text": [
      "quack\n"
     ]
    }
   ],
   "source": [
    "#1. 둘 다 없는 \n",
    "def make_a_sound():\n",
    "    print('quack')\n",
    "    #return None이 생략 \n",
    "\n",
    "make_a_sound()"
   ]
  },
  {
   "cell_type": "code",
   "execution_count": 3,
   "id": "cff477af",
   "metadata": {},
   "outputs": [],
   "source": [
    "# 2. 둘 다 있는\n",
    "def ex(x): \n",
    "    y = x + 1\n",
    "    return y\n",
    "# return 시 괄효 필요 x return x + 1 같이 간단하게 할 수 있음\n",
    "# 매개변수 설정할 것"
   ]
  },
  {
   "cell_type": "code",
   "execution_count": 9,
   "id": "b42476ca",
   "metadata": {},
   "outputs": [
    {
     "name": "stdout",
     "output_type": "stream",
     "text": [
      "word\n",
      "hallow\n"
     ]
    }
   ],
   "source": [
    "#3.\n",
    "def make_a_sound(sound):\n",
    "    print(sound)\n",
    "def make_a_sound2(sound): #return값 있도록 만듬\n",
    "    return sound\n",
    "word = make_a_sound('word')\n",
    "\n",
    "hallow = 'hallow'\n",
    "make_a_sound('hallow')\n"
   ]
  },
  {
   "cell_type": "code",
   "execution_count": 6,
   "id": "0d0b8a6c",
   "metadata": {},
   "outputs": [
    {
     "name": "stdout",
     "output_type": "stream",
     "text": [
      "splendid\n"
     ]
    }
   ],
   "source": [
    "#4. \n",
    "def agree():\n",
    "    return True\n",
    "if agree():\n",
    "    print('splendid')\n",
    "else:\n",
    "    print('unexpected')"
   ]
  },
  {
   "cell_type": "markdown",
   "id": "5a3695e0",
   "metadata": {},
   "source": [
    "- 이름 짓기\n",
    "    - 소문자만 사용한다!\n",
    "        - camel 비선호\n",
    "        - 띄어쓰기는 언더바\n",
    "    - 동작과 관련되어 있기 때문에 \"동사+명사\"의 형태 주로 씀\n",
    "    - i.e., 클래스는 명사 def word(): (x) def split_word(): (o)\n",
    "    - 줄임말 쓰지 않을 것, 명료할 것\n",
    "        - splt_word(x), calculate -> calc(가능)"
   ]
  },
  {
   "cell_type": "markdown",
   "id": "c00bc2ed",
   "metadata": {},
   "source": [
    "#### 2. 인수\n",
    "- 매개변수 vs. 인수\n",
    "    - 매개변수: 함수 내(\"인터페이스\")에서 유효한 함수\n",
    "    - 인수: 실제 매개변수에 대입하는 변수\n",
    "    - \"호출 시에 인수가 매개변수에 복제된다\" hallow -> sound\n",
    "- 위치 인수\n",
    "    - positional argument\n",
    "    - 매개변수를 값에 순서에 따라 복제한다\n",
    "- 키워드 인수\n",
    "    - keyword argument\n",
    "    - 매개변수 키워드에 맞는 인수로 지정, => 위치 달라도 됨\n",
    "- 디폴트 인수\n",
    "    - default argument\n",
    "    - 매개변수를 정의할 때 값을 미리 지정해주는 것\n",
    "    - 호출 시에 값이 입력되지 않으면 디폴트값을 사용\n",
    "    - 디폴트 값이 맨 뒤로 오도록"
   ]
  },
  {
   "cell_type": "code",
   "execution_count": 12,
   "id": "d9ebc277-fdde-4987-ae57-00e4bd319302",
   "metadata": {},
   "outputs": [
    {
     "name": "stdout",
     "output_type": "stream",
     "text": [
      "quack\n"
     ]
    }
   ],
   "source": [
    "def make_a_noise(sound):\n",
    "    print('quack')\n",
    "\n",
    "hallow = 'hallow'\n",
    "make_a_noise(hallow)"
   ]
  },
  {
   "cell_type": "code",
   "execution_count": 10,
   "id": "af257a4d",
   "metadata": {},
   "outputs": [
    {
     "ename": "NameError",
     "evalue": "name 'sound' is not defined",
     "output_type": "error",
     "traceback": [
      "\u001b[0;31m---------------------------------------------------------------------------\u001b[0m",
      "\u001b[0;31mNameError\u001b[0m                                 Traceback (most recent call last)",
      "\u001b[0;32m/var/folders/qx/y52kw8zx5ll231l0nftlfwm80000gn/T/ipykernel_4165/3312133639.py\u001b[0m in \u001b[0;36m<module>\u001b[0;34m\u001b[0m\n\u001b[0;32m----> 1\u001b[0;31m \u001b[0msound\u001b[0m \u001b[0;31m#매개변수\u001b[0m\u001b[0;34m\u001b[0m\u001b[0;34m\u001b[0m\u001b[0m\n\u001b[0m",
      "\u001b[0;31mNameError\u001b[0m: name 'sound' is not defined"
     ]
    }
   ],
   "source": [
    "sound #매개변수"
   ]
  },
  {
   "cell_type": "code",
   "execution_count": 11,
   "id": "edbe49a9",
   "metadata": {},
   "outputs": [
    {
     "data": {
      "text/plain": [
       "'hallow'"
      ]
     },
     "execution_count": 11,
     "metadata": {},
     "output_type": "execute_result"
    }
   ],
   "source": [
    "hallow #인수"
   ]
  },
  {
   "cell_type": "code",
   "execution_count": 13,
   "id": "f0c770a6",
   "metadata": {},
   "outputs": [
    {
     "data": {
      "text/plain": [
       "'black'"
      ]
     },
     "execution_count": 13,
     "metadata": {},
     "output_type": "execute_result"
    }
   ],
   "source": [
    "# 함수 안에 if 문 가능 들여쓰기 주의할 것!\n",
    "def commentary(color): \n",
    "    if color == 'g':\n",
    "        return 'green'\n",
    "    else:\n",
    "        return 'black'\n",
    "\n",
    "color = 'white'    \n",
    "commentary(color)"
   ]
  },
  {
   "cell_type": "code",
   "execution_count": 14,
   "id": "b9e73350",
   "metadata": {},
   "outputs": [
    {
     "name": "stdout",
     "output_type": "stream",
     "text": [
      "green\n",
      "black\n",
      "black\n"
     ]
    }
   ],
   "source": [
    "colors = ['g','b','t']\n",
    "for color in colors:\n",
    "    print(commentary(color))"
   ]
  },
  {
   "cell_type": "code",
   "execution_count": 15,
   "id": "5f8be85c",
   "metadata": {},
   "outputs": [
    {
     "data": {
      "text/plain": [
       "{'wine': 'a', 'entree': 'b', 'dessert': 'c'}"
      ]
     },
     "execution_count": 15,
     "metadata": {},
     "output_type": "execute_result"
    }
   ],
   "source": [
    "# 위치 인수 위치 순서에 맞게 들어감\n",
    "def menu(wine,entree,dessert):\n",
    "    return {'wine':wine, 'entree':entree, 'dessert':dessert}\n",
    "\n",
    "menu('a','b','c')"
   ]
  },
  {
   "cell_type": "code",
   "execution_count": 23,
   "id": "0911ba44",
   "metadata": {},
   "outputs": [
    {
     "data": {
      "text/plain": [
       "{'wine': 'c', 'entree': 'a', 'dessert': 'b'}"
      ]
     },
     "execution_count": 23,
     "metadata": {},
     "output_type": "execute_result"
    }
   ],
   "source": [
    "# 키워드 인수\n",
    "menu(entree='a',dessert='b',wine='c') #섞어도 됨"
   ]
  },
  {
   "cell_type": "code",
   "execution_count": 16,
   "id": "4f97c3eb",
   "metadata": {},
   "outputs": [
    {
     "data": {
      "text/plain": [
       "{'wine': 'rioja', 'entree': 'egg', 'dessert': 'strawberry'}"
      ]
     },
     "execution_count": 16,
     "metadata": {},
     "output_type": "execute_result"
    }
   ],
   "source": [
    "# 디폴트 인수\n",
    "#값이 정해진게 뒤로 가야함\n",
    "def menu2(entree,dessert,wine='rioja'):\n",
    "    return {'wine':wine, 'entree':entree, 'dessert':dessert}\n",
    "menu2('egg','strawberry')"
   ]
  },
  {
   "cell_type": "code",
   "execution_count": 17,
   "id": "c22ec22b",
   "metadata": {},
   "outputs": [
    {
     "data": {
      "text/plain": [
       "{'wine': 'soju', 'entree': 'egg', 'dessert': 'strawberry'}"
      ]
     },
     "execution_count": 17,
     "metadata": {},
     "output_type": "execute_result"
    }
   ],
   "source": [
    "menu2('egg','strawberry', 'soju')"
   ]
  },
  {
   "cell_type": "markdown",
   "id": "f1aaef69",
   "metadata": {},
   "source": [
    "#### 3. 호출방식\n",
    "- 정의 부분은 호출 시 실행\n",
    "- 메모리에 저장되어 있다가 호출 시에 사용됨\n",
    "- 매개변수 vs. 인수\n",
    "    - 참조에 의한 호출 (call by reference)\n",
    "    - 매개변수 = 인수 copy되기 때문에 나타나는 문제점\n",
    "        - list처럼 가변 객체일 때 주소값을 공유하므로 값이 변함"
   ]
  },
  {
   "cell_type": "code",
   "execution_count": 27,
   "id": "4ed15503",
   "metadata": {},
   "outputs": [
    {
     "name": "stdout",
     "output_type": "stream",
     "text": [
      "2\n",
      "3\n",
      "1\n",
      "4\n"
     ]
    }
   ],
   "source": [
    "def multiply(x,y):\n",
    "    print('1')\n",
    "    return x * y\n",
    "\n",
    "print('2')\n",
    "i = 2\n",
    "j = 4\n",
    "\n",
    "print('3')\n",
    "multiply(i,j) ### i = 2, j = 4 -> x=i, y=j \n",
    "print('4')"
   ]
  },
  {
   "cell_type": "code",
   "execution_count": 19,
   "id": "f7d34666",
   "metadata": {},
   "outputs": [
    {
     "name": "stdout",
     "output_type": "stream",
     "text": [
      "['a']\n",
      "['a', 'b']\n"
     ]
    }
   ],
   "source": [
    "def buggy(arg, result=[]):\n",
    "    result.append(arg)\n",
    "    print(result)\n",
    "\n",
    "a, b = 'a', 'b'    \n",
    "buggy(a) #['a']\n",
    "buggy(b) #['b'] 를 예상했으나 ['a','b']가 들어감\n"
   ]
  },
  {
   "cell_type": "code",
   "execution_count": 20,
   "id": "9ebdf389-d018-45de-8c0c-1775f5fe15df",
   "metadata": {},
   "outputs": [
    {
     "name": "stdout",
     "output_type": "stream",
     "text": [
      "['a']\n",
      "['b']\n"
     ]
    }
   ],
   "source": [
    "# 이 상황 피하기 위해서 리스트 리셋되도록\n",
    "def nonbuggy(arg):\n",
    "    result = []\n",
    "    result.append(arg)\n",
    "    print(result)\n",
    "\n",
    "nonbuggy(a)\n",
    "nonbuggy(b)"
   ]
  },
  {
   "cell_type": "code",
   "execution_count": 21,
   "id": "140df983",
   "metadata": {},
   "outputs": [
    {
     "name": "stdout",
     "output_type": "stream",
     "text": [
      "['c', 'a']\n",
      "['c', 'a', 'b']\n"
     ]
    }
   ],
   "source": [
    "# 둘다 조건식으로 포함하는 함수료 변경하기\n",
    "\n",
    "#def nonbuggy(arg, result=[]):\n",
    "    #리스트 없으면 빈 리스트 생성, 있으면 그걸 써라\n",
    "#    if result == None:(x) ==은 값만 비교, is 는 주소도 비교\n",
    "#        result = []\n",
    "#    result.append(arg)\n",
    "#    print(result)\n",
    "    \n",
    "def nonbuggy(arg, result=[]):\n",
    "    if result is None:\n",
    "        result = []\n",
    "    result.append(arg)\n",
    "    print(result)\n",
    "empty = ['c']\n",
    "nonbuggy(a,empty)\n",
    "nonbuggy(b,empty)"
   ]
  },
  {
   "cell_type": "code",
   "execution_count": 30,
   "id": "c11c4bb9",
   "metadata": {},
   "outputs": [
    {
     "name": "stdout",
     "output_type": "stream",
     "text": [
      "None\n"
     ]
    }
   ],
   "source": [
    "thing = None\n",
    "if thing:\n",
    "    print('True')\n",
    "elif thing == False:\n",
    "    print('False')\n",
    "else:\n",
    "    print('None')\n"
   ]
  },
  {
   "cell_type": "code",
   "execution_count": 38,
   "id": "2c52d33c",
   "metadata": {},
   "outputs": [
    {
     "name": "stdout",
     "output_type": "stream",
     "text": [
      "london\n",
      "london == london?\n"
     ]
    }
   ],
   "source": [
    "def fx():\n",
    "    global city # 전역변수\n",
    "    city = 'london' #지역변수\n",
    "    print(city)\n",
    "    \n",
    "city = 'paris'\n",
    "fx()\n",
    "print(city, '== london?')"
   ]
  },
  {
   "cell_type": "code",
   "execution_count": 40,
   "id": "ccc23ae1",
   "metadata": {},
   "outputs": [
    {
     "data": {
      "text/plain": [
       "'seoul'"
      ]
     },
     "execution_count": 40,
     "metadata": {},
     "output_type": "execute_result"
    }
   ],
   "source": [
    "city = 'seoul'\n",
    "city"
   ]
  },
  {
   "cell_type": "markdown",
   "id": "c58f5031",
   "metadata": {},
   "source": [
    "#### doc string\n",
    "- 함수 설명\n",
    "- 매개변수 타입, 의미, 함수 기능\n",
    "- \"\"\"\n",
    "- 독스트링\n",
    "- \"\"\""
   ]
  },
  {
   "cell_type": "code",
   "execution_count": 44,
   "id": "28728840",
   "metadata": {},
   "outputs": [],
   "source": [
    "def nonbuggy(arg, result=[]):\n",
    "    \"\"\"\n",
    "    arg: str, 꽃 이름\n",
    "    result: list, xxxx\n",
    "    꽃 이름을 리스트에 추가한다.\n",
    "    \"\"\"\n",
    "    if result is None:\n",
    "        result = []\n",
    "    result.append(arg)\n",
    "    print(result)"
   ]
  },
  {
   "cell_type": "code",
   "execution_count": 45,
   "id": "1cb060a8",
   "metadata": {},
   "outputs": [
    {
     "name": "stdout",
     "output_type": "stream",
     "text": [
      "Help on function nonbuggy in module __main__:\n",
      "\n",
      "nonbuggy(arg, result=[])\n",
      "    arg: str, 꽃 이름\n",
      "    result: list, xxxx\n",
      "    꽃 이름을 리스트에 추가한다.\n",
      "\n"
     ]
    }
   ],
   "source": [
    "help(nonbuggy)"
   ]
  },
  {
   "cell_type": "code",
   "execution_count": 46,
   "id": "939bf5fe",
   "metadata": {},
   "outputs": [
    {
     "data": {
      "text/plain": [
       "'\\n    arg: str, 꽃 이름\\n    result: list, xxxx\\n    꽃 이름을 리스트에 추가한다.\\n    '"
      ]
     },
     "execution_count": 46,
     "metadata": {},
     "output_type": "execute_result"
    }
   ],
   "source": [
    "nonbuggy.__doc__"
   ]
  },
  {
   "cell_type": "code",
   "execution_count": 47,
   "id": "6066377d",
   "metadata": {},
   "outputs": [
    {
     "name": "stdout",
     "output_type": "stream",
     "text": [
      "나이를 입력하세요: 21\n"
     ]
    },
    {
     "data": {
      "text/plain": [
       "2002"
      ]
     },
     "execution_count": 47,
     "metadata": {},
     "output_type": "execute_result"
    }
   ],
   "source": [
    "# 나이 -> 연도\n",
    "#함수: 입력값 = 나이, 반환값 = 연도\n",
    "#호출 시 나이는 input받기\n",
    "# 변수명 설정: good -> age_to_year, convert_year, get_year\n",
    "\n",
    "def calc_birthyear(age):\n",
    "    year = 2022 - age +1\n",
    "    return year\n",
    "\n",
    "your_age = int(input(\"나이를 입력하세요: \"))\n",
    "calc_birthyear(your_age)"
   ]
  },
  {
   "cell_type": "markdown",
   "id": "08f3ecac",
   "metadata": {},
   "source": [
    "### 브라운 정제하기\n",
    "1. 문장 분절\n",
    "2. 단어 분절\n",
    "    3. 문장부호 제거\n",
    "    4. 하이픈, 's, 'nt, 'd\n",
    "5. 위의 것을 함수로"
   ]
  },
  {
   "cell_type": "code",
   "execution_count": 22,
   "id": "4c230e3c",
   "metadata": {},
   "outputs": [
    {
     "name": "stderr",
     "output_type": "stream",
     "text": [
      "[nltk_data] Downloading package brown to /Users/gim-\n",
      "[nltk_data]     yong-u/nltk_data...\n",
      "[nltk_data]   Package brown is already up-to-date!\n"
     ]
    }
   ],
   "source": [
    "import string\n",
    "import nltk\n",
    "\n",
    "nltk.download('brown')\n",
    "brown = nltk.corpus.brown\n",
    "romance = brown.raw(categories='romance')[:5000]\n"
   ]
  },
  {
   "cell_type": "code",
   "execution_count": 23,
   "id": "bd128217",
   "metadata": {},
   "outputs": [
    {
     "data": {
      "text/plain": [
       "'They/ppss neither/cc liked/vbd nor/cc disliked/vbd the/at Old/jj-tl Man/nn-tl .'"
      ]
     },
     "execution_count": 23,
     "metadata": {},
     "output_type": "execute_result"
    }
   ],
   "source": [
    "#/. 해야 !처리 가능 ! -> replace -> . 하고 ./.로 처리 가능\n",
    "sentences = [sent.strip() for sent in romance.split('/.')]\n",
    "sentences = [s for s in sentences if s != '!']\n",
    "sentences[0]"
   ]
  },
  {
   "cell_type": "markdown",
   "id": "9775fde4",
   "metadata": {},
   "source": [
    "#### 단어 분절\n",
    "sentences -> pos 제거, 단어분절"
   ]
  },
  {
   "cell_type": "code",
   "execution_count": 24,
   "id": "ef2ec006",
   "metadata": {},
   "outputs": [],
   "source": [
    "#전체에서 계속 쓰이는 거는 대문자로\n",
    "SLASH = '/'"
   ]
  },
  {
   "cell_type": "code",
   "execution_count": 25,
   "id": "887741d3",
   "metadata": {},
   "outputs": [
    {
     "data": {
      "text/plain": [
       "['They', 'neither', 'liked', 'nor', 'disliked', 'the', 'Old', 'Man', '.']"
      ]
     },
     "execution_count": 25,
     "metadata": {},
     "output_type": "execute_result"
    }
   ],
   "source": [
    "example = sentences[0]\n",
    "[word[:word.find(SLASH)] if word[:word.find(SLASH)] else word for word in example.split()]"
   ]
  },
  {
   "cell_type": "code",
   "execution_count": 27,
   "id": "84b0d2cb",
   "metadata": {},
   "outputs": [
    {
     "name": "stdout",
     "output_type": "stream",
     "text": [
      "[['They', 'neither', 'liked', 'nor', 'disliked', 'the', 'Old', 'Man', '.'], ['To', 'them', 'he', 'could', 'have', 'been', 'the', 'broken', 'bell', 'in', 'the', 'church', 'tower', 'which', 'rang', 'before', 'and', 'after', 'Mass', ',', 'and', 'at', 'noon', ',', 'and', 'at', 'six', 'each', 'evening', '--', 'its', 'tone', ',', 'repetitive', ',', 'monotonous', ',', 'never', 'breaking', 'the', 'boredom', 'of', 'the', 'streets', '.'], ['The', 'Old', 'Man', 'was', 'unimportant', '.'], ['Yet', 'if', 'he', 'were', 'not', 'there', ',', 'they', 'would', 'have', 'missed', 'him', ',', 'as', 'they', 'would', 'have', 'missed', 'the', 'sounds', 'of', 'bees', 'buzzing', 'against', 'the', 'screen', 'door', 'in', 'early', 'June', ';'], [';']]\n"
     ]
    }
   ],
   "source": [
    "sentence_tokens = [[word[:word.find(SLASH)] if word[:word.find(SLASH)] else word\n",
    " for word in example.split()] for example in sentences]\n",
    "print(sentence_tokens[:5])"
   ]
  },
  {
   "cell_type": "markdown",
   "id": "396c9d34",
   "metadata": {},
   "source": [
    "#### punctuations"
   ]
  },
  {
   "cell_type": "code",
   "execution_count": 29,
   "id": "1014736f",
   "metadata": {
    "tags": []
   },
   "outputs": [
    {
     "data": {
      "text/plain": [
       "['!',\n",
       " '\"',\n",
       " '#',\n",
       " '$',\n",
       " '%',\n",
       " '&',\n",
       " \"'\",\n",
       " '(',\n",
       " ')',\n",
       " '*',\n",
       " '+',\n",
       " ',',\n",
       " '-',\n",
       " '.',\n",
       " '/',\n",
       " ':',\n",
       " ';',\n",
       " '<',\n",
       " '=',\n",
       " '>',\n",
       " '?',\n",
       " '@',\n",
       " '[',\n",
       " '\\\\',\n",
       " ']',\n",
       " '^',\n",
       " '_',\n",
       " '`',\n",
       " '{',\n",
       " '|',\n",
       " '}',\n",
       " '~']"
      ]
     },
     "execution_count": 29,
     "metadata": {},
     "output_type": "execute_result"
    }
   ],
   "source": [
    "punct = list(string.punctuation) #디폴트가 str이기 때문에 list로 변환\n",
    "punct"
   ]
  },
  {
   "cell_type": "code",
   "execution_count": 30,
   "id": "d3a02525",
   "metadata": {
    "tags": []
   },
   "outputs": [
    {
     "data": {
      "text/plain": [
       "['They', 'neither', 'liked', 'nor', 'disliked', 'the', 'Old', 'Man']"
      ]
     },
     "execution_count": 30,
     "metadata": {},
     "output_type": "execute_result"
    }
   ],
   "source": [
    "# 제거하기\n",
    "[[word for word in sent if word not in punct] for sent in sentence_tokens][0]"
   ]
  },
  {
   "cell_type": "code",
   "execution_count": 32,
   "id": "f3809803",
   "metadata": {},
   "outputs": [
    {
     "name": "stdout",
     "output_type": "stream",
     "text": [
      "set()\n"
     ]
    },
    {
     "data": {
      "text/plain": [
       "['They', 'neither', 'liked', 'nor', 'disliked', 'the', 'Old', 'Man']"
      ]
     },
     "execution_count": 32,
     "metadata": {},
     "output_type": "execute_result"
    }
   ],
   "source": [
    "my_punct = set([word for sent in sentence_tokens for word in sent \n",
    "                if not word[0].isalnum() and word not in punct])\n",
    "print(my_punct)\n",
    "punct.extend(list(my_punct))\n",
    "\n",
    "clean_sent_tokens = [[word for word in sent if word not in punct] for sent in sentence_tokens]\n",
    "clean_sent_tokens[0]"
   ]
  },
  {
   "cell_type": "code",
   "execution_count": 33,
   "id": "2cc6a341",
   "metadata": {},
   "outputs": [],
   "source": [
    "#하이픈 = 스플릿 하고 extend\n",
    "#fur-piece -> fur, piece\n",
    "#apostrophe index 찾고 extend\n",
    "#'s n't 또한 마찬가지"
   ]
  },
  {
   "cell_type": "code",
   "execution_count": 36,
   "id": "7be804ab-5a8f-4418-a1fe-a4316b780db9",
   "metadata": {},
   "outputs": [
    {
     "name": "stdout",
     "output_type": "stream",
     "text": [
      "['or', 'the', 'smell', 'of', 'thick', 'tomato', 'paste', 'the', 'ripe', 'smell', 'that', 'was', 'both', 'sweet', 'and', 'sour', 'rising', 'up', 'from', 'aluminum', 'trays', 'wrapped', 'in', 'fly-dotted', 'cheesecloth']\n"
     ]
    }
   ],
   "source": [
    "#함수로 만들기\n",
    "def word_tokenize(sent):\n",
    "    token_list = [word[:word.find(SLASH)] for word in sent.split() if word[0].isalnum() and word not in punct]\n",
    "    return token_list\n",
    "\n",
    "print(word_tokenize(sentences[5]))"
   ]
  },
  {
   "cell_type": "code",
   "execution_count": null,
   "id": "3d3e6dd0-2bc3-42ed-8ddf-c9d368952060",
   "metadata": {},
   "outputs": [],
   "source": []
  }
 ],
 "metadata": {
  "kernelspec": {
   "display_name": "Python 3 (ipykernel)",
   "language": "python",
   "name": "python3"
  },
  "language_info": {
   "codemirror_mode": {
    "name": "ipython",
    "version": 3
   },
   "file_extension": ".py",
   "mimetype": "text/x-python",
   "name": "python",
   "nbconvert_exporter": "python",
   "pygments_lexer": "ipython3",
   "version": "3.9.7"
  }
 },
 "nbformat": 4,
 "nbformat_minor": 5
}
