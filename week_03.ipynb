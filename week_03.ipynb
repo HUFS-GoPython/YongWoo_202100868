{
 "cells": [
  {
   "cell_type": "markdown",
   "id": "0303e7b9-610a-41fa-acbf-7bc13df83956",
   "metadata": {},
   "source": [
    "## 중첩조건문 | neted conditional\n",
    "- if 블록 안에 또 if 블록이 만들어지는 경우\n",
    "    - 예:  \n",
    "            if... \n",
    "                if...\n",
    "                    if...\n",
    "    - 구분은 들여쓰기로 한다.\n",
    "    - 조건이 여러개일 경우 사용한다.\n",
    "    - 지양. 더 예쁜 방법을 찾아본다."
   ]
  },
  {
   "cell_type": "code",
   "execution_count": 24,
   "id": "f5af8364-f232-45a1-b35b-91af3277c9e7",
   "metadata": {},
   "outputs": [
    {
     "name": "stdout",
     "output_type": "stream",
     "text": [
      "Block 2\n"
     ]
    }
   ],
   "source": [
    "# 중첩조건문 1. (예뻐보이지 않음)\n",
    "\n",
    "x = 10\n",
    "y = 20\n",
    "\n",
    "if x == y:\n",
    "    print(\"Block 1\")\n",
    "else:\n",
    "    if x < y:\n",
    "        print(\"Block 2\")\n",
    "    else:\n",
    "        print(\"Block 3\")"
   ]
  },
  {
   "cell_type": "code",
   "execution_count": 25,
   "id": "c127782c-ee73-40bb-b72a-0695e132d376",
   "metadata": {},
   "outputs": [
    {
     "name": "stdout",
     "output_type": "stream",
     "text": [
      "2\n"
     ]
    }
   ],
   "source": [
    "# 중첩조건문을 수정한 예시 (깔끔함)\n",
    "\n",
    "if x == y:\n",
    "    print('1')\n",
    "elif x < y:\n",
    "    print('2')\n",
    "else:\n",
    "    print('3')"
   ]
  },
  {
   "cell_type": "code",
   "execution_count": 26,
   "id": "7a5e6e88-70e4-4af7-bc45-9fb61b2f7eff",
   "metadata": {},
   "outputs": [
    {
     "name": "stdout",
     "output_type": "stream",
     "text": [
      "1\n",
      "3\n"
     ]
    }
   ],
   "source": [
    "# 중첩조건문 2. (깔끔하지 않다)\n",
    "if x > 0:\n",
    "    print('1')\n",
    "    if x < 10:\n",
    "        print(\"2\")\n",
    "    else:\n",
    "        print(\"3\")\n",
    "else:\n",
    "    print(\"4\")"
   ]
  },
  {
   "cell_type": "code",
   "execution_count": 27,
   "id": "2ccad034-9ff8-48ab-af4e-76dde0c4074c",
   "metadata": {},
   "outputs": [
    {
     "name": "stdout",
     "output_type": "stream",
     "text": [
      "2\n",
      "4\n"
     ]
    }
   ],
   "source": [
    "#예시를 깔끔하게 수정\n",
    "if x > 0 and x < 10: # 논리 연산자 사용하는 방법\n",
    "    print('1')\n",
    "else:\n",
    "    print('2')\n",
    "\n",
    "#방법 2 파이썬에서만 가능하니 주의\n",
    "if 0 < x < 10:\n",
    "    print('3')\n",
    "else:\n",
    "    print('4')"
   ]
  },
  {
   "cell_type": "markdown",
   "id": "6f8e2ecd-da52-4fe0-8271-6fdcedf505ed",
   "metadata": {},
   "source": [
    "### 논리연산자\n",
    "- 비교연산 조건을 여러 번 사용하는 경우\n",
    "    - x > 0, x < 10\n",
    "- and, or, not\n",
    "    - A and B: A 그리고 B, A,B 둘다 참일때 True(&)\n",
    "    - A or B: A 혹은 B, 둘 중 하나만 참이면 True(|)\n",
    "    - not A: A 참이면 False, 거짓이면 True(~)"
   ]
  },
  {
   "cell_type": "markdown",
   "id": "be0c4077-2480-42cb-8682-11af239fac2d",
   "metadata": {},
   "source": [
    "### True/False\n",
    "- A = True\n",
    "- \"만약 A가 참이면...\""
   ]
  },
  {
   "cell_type": "code",
   "execution_count": 12,
   "id": "c33f8850-fa25-49da-b27c-1d2544fde7f2",
   "metadata": {},
   "outputs": [
    {
     "name": "stdout",
     "output_type": "stream",
     "text": [
      "true\n",
      "true\n"
     ]
    }
   ],
   "source": [
    "a = 1\n",
    "if a == True: #아님(밑에 방법으로 사용할것)\n",
    "    print('true')\n",
    "if a: #위와 뜻은 동일\n",
    "    print('true')"
   ]
  },
  {
   "cell_type": "markdown",
   "id": "b15e5877-98e8-4e23-9995-5a195e50192a",
   "metadata": {
    "tags": []
   },
   "source": [
    "### in\n",
    "- membership operator\n",
    "- 요소가 안에 포함되어 있는가 확인 or 비슷한 조건문이 여럿일 때\n",
    "- A in B = A가 B에 포함되어 있는지 확인"
   ]
  },
  {
   "cell_type": "code",
   "execution_count": 11,
   "id": "0fa4322e-3e1c-4819-8bbf-2d2ef05b3bee",
   "metadata": {},
   "outputs": [
    {
     "name": "stdout",
     "output_type": "stream",
     "text": [
      "자음\n"
     ]
    }
   ],
   "source": [
    "# ex1. 모음인지 아닌지 판별 (a, e, i, o, u)\n",
    "\n",
    "letter = 'k'\n",
    "\n",
    "#if letter == 'a' or .... 이건 너무 복잡해지니까 다음과 같이 한다\n",
    "\n",
    "if letter in ['a','e','i','o','u']:\n",
    "    print(\"모음\")\n",
    "else: print(\"자음\")"
   ]
  },
  {
   "cell_type": "code",
   "execution_count": 13,
   "id": "f3a7bab6-c2a8-422e-a7a6-0833574161ce",
   "metadata": {},
   "outputs": [
    {
     "name": "stdout",
     "output_type": "stream",
     "text": [
      "YES\n"
     ]
    }
   ],
   "source": [
    "# 단어에 모음이 있나 없나\n",
    "word = 'apple'\n",
    "\n",
    "if 'a' or 'e' or 'i' or 'o' or 'u' in word:\n",
    "    print(\"YES\")"
   ]
  },
  {
   "cell_type": "markdown",
   "id": "e07e1b3f-0b04-4ce8-948c-24bfe540a5fe",
   "metadata": {},
   "source": [
    "### 코끼리 연산자\n",
    "- walrus operator\n",
    "- :=\n",
    "- 할당 + 테스트 동시에 하는 기능\n",
    "- 파이썬 3.8의 새로운 기능\n",
    "- 조건문 등에서 사용\n",
    "- (처음 배우는 연산자이므로 잘 숙지하자!)"
   ]
  },
  {
   "cell_type": "code",
   "execution_count": 28,
   "id": "ec3f9ed3-aa01-4f40-a13d-65d774ecf0ad",
   "metadata": {},
   "outputs": [
    {
     "data": {
      "text/plain": [
       "'twinstwinstwinstwinstwinstwinstwinstwinstwinstwinstwinstwinstwinstwinstwinstwinstwinstwinstwinstwinstwinstwinstwinstwinstwinstwinstwinstwinstwinstwins'"
      ]
     },
     "execution_count": 28,
     "metadata": {},
     "output_type": "execute_result"
    }
   ],
   "source": [
    "tweet_limit = 150\n",
    "tweet_string = 'twins' * 30 # 5 * 30 = 150\n",
    "tweet_string\n"
   ]
  },
  {
   "cell_type": "code",
   "execution_count": 29,
   "id": "e67a6db6-2b76-4348-81e3-d096064fd2f2",
   "metadata": {},
   "outputs": [
    {
     "name": "stdout",
     "output_type": "stream",
     "text": [
      "불가능하다\n"
     ]
    }
   ],
   "source": [
    "# 리밋과 트윗스트링의 차이를 세고 그 차이가 0을 넘으면 가능하다를 출력\n",
    "\n",
    "diff = tweet_limit - len(tweet_string) #len() = 개수 세는 함수\n",
    "if diff > 0:\n",
    "    print(\"가능하다\")\n",
    "else:\n",
    "    print(\"불가능하다\")"
   ]
  },
  {
   "cell_type": "code",
   "execution_count": 30,
   "id": "baceda0c-5434-4232-9f5c-7364f72231f2",
   "metadata": {},
   "outputs": [
    {
     "name": "stdout",
     "output_type": "stream",
     "text": [
      "no\n"
     ]
    }
   ],
   "source": [
    "# 코끼리 연산자 사용 버전\n",
    "\n",
    "if diff := tweet_limit - len(tweet_string) > 0:\n",
    "    print(\"yes\")\n",
    "else: print(\"no\")"
   ]
  },
  {
   "cell_type": "markdown",
   "id": "3ca2e0a4-c9c3-48de-b204-26301281c430",
   "metadata": {},
   "source": [
    "### 퀴즈 1\n",
    "- 윤년을 구해봅시다.\n",
    "    - 연도를 입력받는다.\n",
    "    - 해당 연도가 4로 나눠지면 윤년\n",
    "    - 100으로 나눠지면 윤년 x\n",
    "    - 400으로 나눠지면 윤년\n",
    "- 출력: '()년은 윤년입니다.'/'~아닙니다.'"
   ]
  },
  {
   "cell_type": "code",
   "execution_count": 12,
   "id": "b2efb3c6-25b2-4463-ad8d-50269f81ed94",
   "metadata": {},
   "outputs": [
    {
     "name": "stdin",
     "output_type": "stream",
     "text": [
      "연도를 입력하세요:  2000\n"
     ]
    },
    {
     "name": "stdout",
     "output_type": "stream",
     "text": [
      "2000년은 윤년입니다.\n"
     ]
    }
   ],
   "source": [
    "year = int(input(\"연도를 입력하세요: \"))\n",
    "\n",
    "if (year % 4 == 0) and (year % 100 != 0) or (year % 400 == 0):\n",
    "    print(f'{year}년은 윤년입니다.')\n",
    "else:\n",
    "    print(f'{year}년은 윤년이 아닙니다.')"
   ]
  },
  {
   "cell_type": "markdown",
   "id": "4e9109ce-7ab2-48af-9509-210f781ff29d",
   "metadata": {},
   "source": [
    "## String | 문자열\n",
    "- 시스템에서 가장 작은 단위 (byte가 가장 작다)\n",
    "- 불변적인 성격을 가진다. immutable(<==>mutable)\n",
    "    - 예: jack -> jeck (x)\n",
    "- ',\"으로 선언한다.\n",
    "    - 예: '25.5'\n",
    "    - ''',\"\"\" 주석이다\n",
    "- 형 변환은 str()\n",
    "\n",
    "### escape character | 이스케이프문자\n",
    "- 특수한 형태의 문자열, 눈에 보이는 대로 인식되지 않는 문자\n",
    "- \\ + ch\n",
    "- 예: \\n,\\t,\\b,\\',\\\", ....\n",
    "    - \\n: 줄바꿈, \\t: 탭, \\b: 백스페이스, \\\\',\\\\\": 따옴표 출력\n",
    "    - 백슬래시 입력하려면 \\한번더 입력\n",
    "    - \\n 출력하고 싶다? -> 한번 더 입력 \\\n",
    "    - r' ' 이용할 수 있음 (처음 배우는 것)"
   ]
  },
  {
   "cell_type": "code",
   "execution_count": null,
   "id": "b72c375f-43c9-41c2-93ec-304777161e56",
   "metadata": {},
   "outputs": [],
   "source": [
    "'I\\'m a student.'"
   ]
  },
  {
   "cell_type": "code",
   "execution_count": 22,
   "id": "acf3dc35-141b-4883-b704-0a896a50ede9",
   "metadata": {},
   "outputs": [
    {
     "name": "stdout",
     "output_type": "stream",
     "text": [
      "hello\n",
      "world\n"
     ]
    },
    {
     "data": {
      "text/plain": [
       "'hello\\nworld'"
      ]
     },
     "execution_count": 22,
     "metadata": {},
     "output_type": "execute_result"
    }
   ],
   "source": [
    "sent = 'hello\\nworld'\n",
    "\n",
    "print(sent)\n",
    "sent\n",
    "# 프린트로 해야 의도한대로 나옴"
   ]
  },
  {
   "cell_type": "code",
   "execution_count": 23,
   "id": "5f0e4f40-902d-437b-befc-edf32e5e10c6",
   "metadata": {},
   "outputs": [
    {
     "name": "stdout",
     "output_type": "stream",
     "text": [
      "hello\\nworld\n"
     ]
    }
   ],
   "source": [
    "sent = r'hello\\nworld' #\\t, \\b r사용\n",
    "print(sent)"
   ]
  },
  {
   "cell_type": "markdown",
   "id": "1c447c5d-53c0-4a9f-b554-fb665a703ba6",
   "metadata": {},
   "source": [
    "### 연산\n",
    "- concatentation\n",
    "    -'' + '' -> 공백없이 결합\n",
    "- 곱하기\n",
    "    - '' * 5 -> 복제"
   ]
  },
  {
   "cell_type": "code",
   "execution_count": 31,
   "id": "0617ab34-f392-477c-b53e-e80b287b6bd8",
   "metadata": {},
   "outputs": [
    {
     "data": {
      "text/plain": [
       "'yongyong'"
      ]
     },
     "execution_count": 31,
     "metadata": {},
     "output_type": "execute_result"
    }
   ],
   "source": [
    "name = 'yong'\n",
    "name + name"
   ]
  },
  {
   "cell_type": "code",
   "execution_count": 32,
   "id": "40c2b2d2-cddb-4b6b-8f8c-9c17961fdf1d",
   "metadata": {},
   "outputs": [
    {
     "data": {
      "text/plain": [
       "'yongyongyongyongyongyongyong'"
      ]
     },
     "execution_count": 32,
     "metadata": {},
     "output_type": "execute_result"
    }
   ],
   "source": [
    "name * 7"
   ]
  },
  {
   "cell_type": "code",
   "execution_count": 34,
   "id": "b59f5026-20de-4cb2-96da-42483894dca5",
   "metadata": {},
   "outputs": [
    {
     "ename": "TypeError",
     "evalue": "'str' object does not support item assignment",
     "output_type": "error",
     "traceback": [
      "\u001b[0;31m---------------------------------------------------------------------------\u001b[0m",
      "\u001b[0;31mTypeError\u001b[0m                                 Traceback (most recent call last)",
      "\u001b[0;32m/var/folders/qx/y52kw8zx5ll231l0nftlfwm80000gn/T/ipykernel_60537/1241409379.py\u001b[0m in \u001b[0;36m<module>\u001b[0;34m\u001b[0m\n\u001b[1;32m      1\u001b[0m \u001b[0;31m# immutable\u001b[0m\u001b[0;34m\u001b[0m\u001b[0;34m\u001b[0m\u001b[0m\n\u001b[1;32m      2\u001b[0m \u001b[0;31m#index 참조는 가능 내용물 변경 불가능\u001b[0m\u001b[0;34m\u001b[0m\u001b[0;34m\u001b[0m\u001b[0m\n\u001b[0;32m----> 3\u001b[0;31m \u001b[0mname\u001b[0m\u001b[0;34m[\u001b[0m\u001b[0;36m1\u001b[0m\u001b[0;34m]\u001b[0m \u001b[0;34m=\u001b[0m \u001b[0;34m'e'\u001b[0m\u001b[0;34m\u001b[0m\u001b[0;34m\u001b[0m\u001b[0m\n\u001b[0m",
      "\u001b[0;31mTypeError\u001b[0m: 'str' object does not support item assignment"
     ]
    }
   ],
   "source": [
    "# immutable\n",
    "#index 참조는 가능 내용물 변경 불가능\n",
    "name[1] = 'e'"
   ]
  },
  {
   "cell_type": "markdown",
   "id": "56aa52b6-4680-45a6-bd9a-e1e7fd603565",
   "metadata": {},
   "source": [
    "### 슬라이싱: 추출\n",
    "- 문자열의 일부분을 떼어내는 작업\n",
    "- 대괄호 사용, 그 안에 오프셋을 지정(ex.~[0])\n",
    "- 오프셋은 0부터 시작\n",
    "      0123\n",
    "      jack\n",
    "     -4   -1\n",
    "- 음수도 가능함 -1부터 시작\n",
    "- 오프셋은 [시작:끝:스텝] #default step=1\n",
    "- 오프셋의 시작은 포함, 끝은 포함하지 않음 (이상 ~ 미만)"
   ]
  },
  {
   "cell_type": "code",
   "execution_count": 35,
   "id": "bd946297-fb7f-4c90-8f89-ac047dcab4dd",
   "metadata": {},
   "outputs": [
    {
     "data": {
      "text/plain": [
       "'y'"
      ]
     },
     "execution_count": 35,
     "metadata": {},
     "output_type": "execute_result"
    }
   ],
   "source": [
    "name = 'yong'\n",
    "name[0] #첫 번째 출력"
   ]
  },
  {
   "cell_type": "code",
   "execution_count": 30,
   "id": "a3e2a1bf-cafa-4d3c-a5cf-a89a2415e0ea",
   "metadata": {},
   "outputs": [
    {
     "data": {
      "text/plain": [
       "'hello\\nworld'"
      ]
     },
     "execution_count": 30,
     "metadata": {},
     "output_type": "execute_result"
    }
   ],
   "source": [
    "sent"
   ]
  },
  {
   "cell_type": "code",
   "execution_count": 29,
   "id": "f0b162a2-0b4d-460f-b311-70c1ee759951",
   "metadata": {},
   "outputs": [
    {
     "data": {
      "text/plain": [
       "'l'"
      ]
     },
     "execution_count": 29,
     "metadata": {},
     "output_type": "execute_result"
    }
   ],
   "source": [
    "sent[3:4]"
   ]
  },
  {
   "cell_type": "code",
   "execution_count": 31,
   "id": "a178f688-3fbd-454c-a933-4011ab00ed55",
   "metadata": {},
   "outputs": [
    {
     "data": {
      "text/plain": [
       "'hello\\n'"
      ]
     },
     "execution_count": 31,
     "metadata": {},
     "output_type": "execute_result"
    }
   ],
   "source": [
    "# 처음부터 5까지 출력 ([0:6] 이렇게 쓰지 않는다!)\n",
    "sent[:6]"
   ]
  },
  {
   "cell_type": "code",
   "execution_count": 33,
   "id": "35dbf3c6-aaff-4334-90c1-1817356dc652",
   "metadata": {},
   "outputs": [
    {
     "data": {
      "text/plain": [
       "'hlowrd'"
      ]
     },
     "execution_count": 33,
     "metadata": {},
     "output_type": "execute_result"
    }
   ],
   "source": [
    "# 처음부터 끝까지 2스텝씩 출력\n",
    "sent[::2]"
   ]
  },
  {
   "cell_type": "code",
   "execution_count": 34,
   "id": "ab4bffff-24c9-4715-8355-f5e2db7f9492",
   "metadata": {},
   "outputs": [
    {
     "data": {
      "text/plain": [
       "'dlrow\\nolleh'"
      ]
     },
     "execution_count": 34,
     "metadata": {},
     "output_type": "execute_result"
    }
   ],
   "source": [
    "# 모든 글자 거꾸로 출력\n",
    "sent[::-1]"
   ]
  },
  {
   "cell_type": "code",
   "execution_count": 36,
   "id": "5a941ef4-3128-4ef8-8897-1645237f65dd",
   "metadata": {},
   "outputs": [
    {
     "data": {
      "text/plain": [
       "'b'"
      ]
     },
     "execution_count": 36,
     "metadata": {},
     "output_type": "execute_result"
    }
   ],
   "source": [
    "english=['a','b','c']\n",
    "english[1] # 리스트에서도 사용가능"
   ]
  },
  {
   "cell_type": "markdown",
   "id": "1cc962ee-7dac-4e0f-bc6e-44ffeb123955",
   "metadata": {},
   "source": [
    "## NLTK"
   ]
  },
  {
   "cell_type": "markdown",
   "id": "b89b6fbb-83af-4161-9ba3-36120a914a2c",
   "metadata": {},
   "source": [
    "- natural language toolkit\n",
    "- 자연어 분석을 위해 교육용으로 배포된 패키지\n",
    "- 내장함수, 기능 들이 추가되어 있음\n",
    "    - 토크나이즈, 파싱, 태깅, ..."
   ]
  },
  {
   "cell_type": "code",
   "execution_count": 36,
   "id": "482912e3-2d0c-4a55-b93a-65d67665a907",
   "metadata": {},
   "outputs": [],
   "source": [
    "#!pip install nltk (nltk 설치!, 설치후 해시를 이용해서 주석화시킬것)"
   ]
  },
  {
   "cell_type": "code",
   "execution_count": 40,
   "id": "5581fb2f-2584-45fd-b238-9345303d1c94",
   "metadata": {},
   "outputs": [
    {
     "data": {
      "text/plain": [
       "True"
      ]
     },
     "execution_count": 40,
     "metadata": {},
     "output_type": "execute_result"
    }
   ],
   "source": [
    "import nltk #nltk 가져오기\n",
    "nltk.download('book',quiet = True) #부분적으로 다운받기"
   ]
  },
  {
   "cell_type": "code",
   "execution_count": 38,
   "id": "25fc638b-24d7-418e-ab08-899259686b7b",
   "metadata": {},
   "outputs": [
    {
     "name": "stdout",
     "output_type": "stream",
     "text": [
      "*** Introductory Examples for the NLTK Book ***\n",
      "Loading text1, ..., text9 and sent1, ..., sent9\n",
      "Type the name of the text or sentence to view it.\n",
      "Type: 'texts()' or 'sents()' to list the materials.\n",
      "text1: Moby Dick by Herman Melville 1851\n",
      "text2: Sense and Sensibility by Jane Austen 1811\n",
      "text3: The Book of Genesis\n",
      "text4: Inaugural Address Corpus\n",
      "text5: Chat Corpus\n",
      "text6: Monty Python and the Holy Grail\n",
      "text7: Wall Street Journal\n",
      "text8: Personals Corpus\n",
      "text9: The Man Who Was Thursday by G . K . Chesterton 1908\n"
     ]
    }
   ],
   "source": [
    "from nltk import book"
   ]
  },
  {
   "cell_type": "code",
   "execution_count": 39,
   "id": "d793821f-0042-4207-bdda-c7bd7b2873c9",
   "metadata": {},
   "outputs": [
    {
     "data": {
      "text/plain": [
       "['[',\n",
       " 'Moby',\n",
       " 'Dick',\n",
       " 'by',\n",
       " 'Herman',\n",
       " 'Melville',\n",
       " '1851',\n",
       " ']',\n",
       " 'ETYMOLOGY',\n",
       " '.']"
      ]
     },
     "execution_count": 39,
     "metadata": {},
     "output_type": "execute_result"
    }
   ],
   "source": [
    "moby = book.text1\n",
    "moby.tokens[:10] # 토큰에 접근하는 방법 (너무 양이 많으니 10개만)\n",
    "#토큰: 프로그래밍의 단어 단위 hello world, I'm not a coward.\n",
    "    # I'm / I, 'm / I, am"
   ]
  },
  {
   "cell_type": "code",
   "execution_count": 40,
   "id": "2f4e9cbe-5f2a-4e72-a5b3-c004c5cad2ae",
   "metadata": {},
   "outputs": [
    {
     "data": {
      "text/plain": [
       "260819"
      ]
     },
     "execution_count": 40,
     "metadata": {},
     "output_type": "execute_result"
    }
   ],
   "source": [
    "#1. 길이 세기\n",
    "len(moby)"
   ]
  },
  {
   "cell_type": "code",
   "execution_count": 41,
   "id": "ff11e9ee-8bf1-4253-905d-e6c8a83cae56",
   "metadata": {},
   "outputs": [
    {
     "data": {
      "text/plain": [
       "19317"
      ]
     },
     "execution_count": 41,
     "metadata": {},
     "output_type": "execute_result"
    }
   ],
   "source": [
    "#2. 중복 없이 단어 몇 개?\n",
    "len(set(moby)) #1.9만 list -> set (set는 중복 허용 X)"
   ]
  },
  {
   "cell_type": "markdown",
   "id": "e0992482-895d-44b5-9faa-3c90929628d4",
   "metadata": {},
   "source": [
    "- list\n",
    "    - ['a', 1, True]\n",
    "    - 순서가 있고\n",
    "    - 중복 허용\n",
    "    - list()\n",
    "- set\n",
    "    - {'a', 2, True}\n",
    "    - 순서 없고\n",
    "    - 중복 허용 안됨\n",
    "    - set()\n",
    "    - 수학의 집합개념\n",
    "    - 인덱싱불가"
   ]
  },
  {
   "cell_type": "code",
   "execution_count": 42,
   "id": "469b7ee4-44c6-4e4b-aefa-680449068b53",
   "metadata": {},
   "outputs": [
    {
     "data": {
      "text/plain": [
       "['kia', 'hyundai', 'renault', 'benz', 'benz', 'kia']"
      ]
     },
     "execution_count": 42,
     "metadata": {},
     "output_type": "execute_result"
    }
   ],
   "source": [
    "cars = ['kia', 'hyundai', 'renault', 'benz', 'benz', 'kia'] #리스트라서 중복 허용 가능\n",
    "cars"
   ]
  },
  {
   "cell_type": "code",
   "execution_count": 43,
   "id": "73c6dc07-07d4-4f72-9c11-b28107f3fea8",
   "metadata": {},
   "outputs": [
    {
     "data": {
      "text/plain": [
       "{'benz', 'hyundai', 'kia', 'renault'}"
      ]
     },
     "execution_count": 43,
     "metadata": {},
     "output_type": "execute_result"
    }
   ],
   "source": [
    "set(cars) #중복 불가"
   ]
  },
  {
   "cell_type": "code",
   "execution_count": 44,
   "id": "fc8aa876-3f9b-4cd3-ad97-e3584a7b0933",
   "metadata": {},
   "outputs": [
    {
     "data": {
      "text/plain": [
       "0.07406285585022564"
      ]
     },
     "execution_count": 44,
     "metadata": {},
     "output_type": "execute_result"
    }
   ],
   "source": [
    "# lexical diversity (어휘 다양성) 말그대로 어휘적으로 얼마나 다양한지 나타내줌!\n",
    "# set를 이용해 중복되지 않은 어휘의 개수를 셀수 있음\n",
    "len(set(moby)) / len(moby)"
   ]
  },
  {
   "cell_type": "code",
   "execution_count": 52,
   "id": "d3812f26-f9fe-43a5-a77f-2e1adbbd4d39",
   "metadata": {},
   "outputs": [
    {
     "data": {
      "text/plain": [
       "['benz', 'benz', 'hyundai', 'kia', 'kia', 'renault']"
      ]
     },
     "execution_count": 52,
     "metadata": {},
     "output_type": "execute_result"
    }
   ],
   "source": [
    "# 정렬\n",
    "sorted(cars)\n",
    "# 반대 sorted(cars, reverse = True)"
   ]
  },
  {
   "cell_type": "code",
   "execution_count": 45,
   "id": "fa450951-3fbc-41ef-954c-893a9cc588d3",
   "metadata": {},
   "outputs": [
    {
     "data": {
      "text/plain": [
       "['.',\n",
       " '1851',\n",
       " 'Dick',\n",
       " 'ETYMOLOGY',\n",
       " 'Herman',\n",
       " 'Melville',\n",
       " 'Moby',\n",
       " '[',\n",
       " ']',\n",
       " 'by']"
      ]
     },
     "execution_count": 45,
     "metadata": {},
     "output_type": "execute_result"
    }
   ],
   "source": [
    "sorted(moby[:10]) #moby에서 10개를 가져온 뒤 정렬"
   ]
  },
  {
   "cell_type": "code",
   "execution_count": 46,
   "id": "3c739518-fc5d-44b7-b0db-e44c3424df3b",
   "metadata": {},
   "outputs": [
    {
     "data": {
      "text/plain": [
       "['!', '!', '!', '!', '!', '!', '!', '!', '!', '!']"
      ]
     },
     "execution_count": 46,
     "metadata": {},
     "output_type": "execute_result"
    }
   ],
   "source": [
    "sorted(moby)[:10] #moby를 정렬후 10개 출력 (문장부호, 숫자, 대문자, 숫자 순으로 정렬됨)"
   ]
  },
  {
   "cell_type": "markdown",
   "id": "cb341b4d-61e1-42e7-83bc-fc919a85269a",
   "metadata": {},
   "source": [
    "#### quiz 1\n",
    "- text6 가져와서 토큰을 변수에 담고\n",
    "- 중복 없는 셋으로 저장하고 내림차순\n",
    "    - 앞에서 10개 단어 출력\n",
    "    - 단어에 z가 있으면 z를 대문자로 바꾸시오\n",
    "    - z가 없는데 4자 이상이면 끝 글자를 대문자로 바꿔라\n",
    "\n",
    "#### quiz 2\n",
    "- 주민번호, 휴대폰 번호, 이메일 주소 입력 받는다\n",
    "- 주민번호, 휴대폰 번호는 숫자만 입력받는다(- 없이)\n",
    "- 이메일주소는 아이디만 입력받는다(@~ 없이)\n",
    "    - 1. \"당신은 {}년 {}월 {}일 출생의 {남성/여성}입니다.\"\n",
    "    - 2. 휴대폰번호: 000-0000-0000\n",
    "    - 3. 이메일주소: xxxx@gmail.com"
   ]
  },
  {
   "cell_type": "code",
   "execution_count": 48,
   "id": "e901f25d-19d7-4477-ad8c-0a2e8a24a3b4",
   "metadata": {},
   "outputs": [
    {
     "name": "stdout",
     "output_type": "stream",
     "text": [
      "Zoosh Zoop Zoo Zone Zhiv yourselF yourS youR younG you "
     ]
    }
   ],
   "source": [
    "#quiz 1\n",
    "new_book = book.text6\n",
    "word_list = sorted(set(new_book),reverse = True)[:10] #문제조건에 맞는 단어 10개를 리스트에 저장\n",
    "\n",
    "for i in word_list:\n",
    "    if 'z' in i: #단어에 z가 있으면 리스트로 변환후 z를 Z로 바꿈\n",
    "        i = list(i)\n",
    "        i[i.index('z')] = 'Z'\n",
    "        i = ''.join(j for j in i)\n",
    "    elif len(i) >= 4:\n",
    "        i = i[:len(i)-1] + i[-1].upper() #그렇지 않으면서 길이가 4가 넘는 단어에 대해서 끝글자만 대문자화\n",
    "    print(i,end = ' ')"
   ]
  },
  {
   "cell_type": "code",
   "execution_count": 16,
   "id": "71387604-397c-40e3-a9b3-cbfdf5c3bf30",
   "metadata": {},
   "outputs": [
    {
     "name": "stdout",
     "output_type": "stream",
     "text": [
      "주민번호를 입력하세요:0202073331221\n",
      "전화번호를 입력하세요:01056822998\n",
      "이메일 아이디를 입력하세요:twinsomega\n",
      "==================================\n",
      "당신은 2002년 2월 7일 출생의 남성입니다.\n",
      "휴대폰번호:010-5682-2998\n",
      "이메일 주소:twinsomega@gmail.com\n"
     ]
    }
   ],
   "source": [
    "#quiz 2\n",
    "\n",
    "person_num = input(\"주민번호를 입력하세요:\") #주민번호 및 전화번호는 0으로 시작하므로 string형으로 받는다\n",
    "phone_num = input(\"전화번호를 입력하세요:\")\n",
    "email = input(\"이메일 아이디를 입력하세요:\")\n",
    "print('==================================')\n",
    "\n",
    "if person_num[6] == '1':               #주민번호 7번째 자리를 통해 1900년 or 2000년대생인지와 성별을 판정한다\n",
    "    age_year, gender = '19', '남성'\n",
    "elif person_num[6] == '2':\n",
    "    age_year, gender = '19', '여성'\n",
    "elif person_num[6] == '3':\n",
    "    age_year, gender = '20', '남성'\n",
    "else:\n",
    "    age_year, gender = '20', '여성'\n",
    "    \n",
    "if person_num[2] == '0':               #탄생월이 한 자리수일 경우 '0X월'로 나오는 것을 방지하기 위함\n",
    "    birth_month = person_num[3]\n",
    "else: birth_month = person_num[2:4]\n",
    "    \n",
    "if person_num[4] == '0':               #탄생일도 마찬가지\n",
    "    birth_day = person_num[5]\n",
    "else: birth_day = person_num[4:6]\n",
    "    \n",
    "print(f'당신은 {age_year + person_num[:2]}년 {birth_month}월 {birth_day}일 출생의 {gender}입니다.')\n",
    "print(f'휴대폰번호:{phone_num[:3]}-{phone_num[3:7]}-{phone_num[7:]}')\n",
    "print(f'이메일 주소:{email}@gmail.com')"
   ]
  },
  {
   "cell_type": "code",
   "execution_count": null,
   "id": "8a1e34d4",
   "metadata": {},
   "outputs": [],
   "source": []
  }
 ],
 "metadata": {
  "kernelspec": {
   "display_name": "Python 3 (ipykernel)",
   "language": "python",
   "name": "python3"
  },
  "language_info": {
   "codemirror_mode": {
    "name": "ipython",
    "version": 3
   },
   "file_extension": ".py",
   "mimetype": "text/x-python",
   "name": "python",
   "nbconvert_exporter": "python",
   "pygments_lexer": "ipython3",
   "version": "3.9.7"
  }
 },
 "nbformat": 4,
 "nbformat_minor": 5
}
