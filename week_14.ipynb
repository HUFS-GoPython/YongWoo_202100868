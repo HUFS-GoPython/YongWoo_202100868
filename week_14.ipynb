{
 "cells": [
  {
   "cell_type": "markdown",
   "id": "64ab2723",
   "metadata": {},
   "source": [
    "### 함수 II\n",
    "- 일급 객체\n",
    "- 중첩 함수\n",
    "- 익명 함수\n",
    "- 제너레이터\n",
    "- 재귀 함수\n"
   ]
  },
  {
   "cell_type": "markdown",
   "id": "edcef16e",
   "metadata": {},
   "source": [
    "#### 일급 객체\n",
    "- first class object, first class citizen\n",
    "- 파이썬에서는 함수도 일급 객체다. \n",
    "- 일급 객체의 조건\n",
    "    - 함수의 인자로 전달된다. \n",
    "        def fx(func):\n",
    "    - 함수의 반환값이 된다. \n",
    "        def fx(func):\n",
    "            return func\n",
    "    - 수정, 할당이 된다. \n",
    "        var = fx()"
   ]
  },
  {
   "cell_type": "code",
   "execution_count": 1,
   "id": "85387fff",
   "metadata": {},
   "outputs": [
    {
     "name": "stdout",
     "output_type": "stream",
     "text": [
      "207\n"
     ]
    }
   ],
   "source": [
    "def answer():\n",
    "    print(207)\n",
    "    \n",
    "def run_sth(func):\n",
    "    func() #func vs. func() 괄호 붙을 시 실행하라는 뜻\n",
    "    \n",
    "run_sth(answer)"
   ]
  },
  {
   "cell_type": "code",
   "execution_count": 2,
   "id": "04c88ba7",
   "metadata": {},
   "outputs": [
    {
     "name": "stdout",
     "output_type": "stream",
     "text": [
      "8\n"
     ]
    }
   ],
   "source": [
    "def add_args(arg1, arg2):\n",
    "    print(arg1 * arg2)\n",
    "    \n",
    "def run_sth2(func, *args): # *를 통해서 여러 값 받을 수 있음\n",
    "    func(*args)\n",
    "    \n",
    "run_sth2(add_args, 2, 4)"
   ]
  },
  {
   "cell_type": "markdown",
   "id": "f31070e8",
   "metadata": {},
   "source": [
    "#### 중첩함수\n",
    "- 함수 내에서 또 다른 함수를 정의하는 것\n",
    "- 내부함수 캡슐화 장점\n",
    "    - 메모리 절약\n",
    "    - 변수가 섞여서 불필요하게 충돌하는 것을 방지함\n",
    "    - 목적에 맞게 변수를 그룹화할 수 있음. 관리, 책임, 명확히할 것!"
   ]
  },
  {
   "cell_type": "code",
   "execution_count": 3,
   "id": "79553e27",
   "metadata": {},
   "outputs": [
    {
     "data": {
      "text/plain": [
       "100"
      ]
     },
     "execution_count": 3,
     "metadata": {},
     "output_type": "execute_result"
    }
   ],
   "source": [
    "def outer(a, b):\n",
    "    def inner(c, d):\n",
    "        return c * d\n",
    "    return inner(a, b)\n",
    "\n",
    "outer(10, 10)"
   ]
  },
  {
   "cell_type": "code",
   "execution_count": 4,
   "id": "ebcb2611",
   "metadata": {},
   "outputs": [
    {
     "ename": "NameError",
     "evalue": "name 'inner' is not defined",
     "output_type": "error",
     "traceback": [
      "\u001b[0;31m---------------------------------------------------------------------------\u001b[0m",
      "\u001b[0;31mNameError\u001b[0m                                 Traceback (most recent call last)",
      "Input \u001b[0;32mIn [4]\u001b[0m, in \u001b[0;36m<cell line: 1>\u001b[0;34m()\u001b[0m\n\u001b[0;32m----> 1\u001b[0m \u001b[43minner\u001b[49m(\u001b[38;5;241m1\u001b[39m, \u001b[38;5;241m1\u001b[39m)\n",
      "\u001b[0;31mNameError\u001b[0m: name 'inner' is not defined"
     ]
    }
   ],
   "source": [
    "inner(10, 10) # 안에 있기 때문에 밖에서 실행하면 오류"
   ]
  },
  {
   "cell_type": "code",
   "execution_count": 5,
   "id": "2d3b05d3",
   "metadata": {},
   "outputs": [],
   "source": [
    "def food(saying):\n",
    "    def inner():\n",
    "        return f'My favorite food is {saying}'\n",
    "    return inner\n",
    "\n",
    "a = food('KFC')\n",
    "b = food('McDonalds')"
   ]
  },
  {
   "cell_type": "markdown",
   "id": "dbbdb9f1",
   "metadata": {},
   "source": [
    "- 외부함수의 인자를 참조할 수 있다. \n",
    "- 수정/활용은 안됨 like list.append()"
   ]
  },
  {
   "cell_type": "code",
   "execution_count": 6,
   "id": "9f015aed",
   "metadata": {},
   "outputs": [
    {
     "data": {
      "text/plain": [
       "<function __main__.food.<locals>.inner()>"
      ]
     },
     "execution_count": 6,
     "metadata": {},
     "output_type": "execute_result"
    }
   ],
   "source": [
    "a #실행하려면 괄호 붙이기"
   ]
  },
  {
   "cell_type": "code",
   "execution_count": 7,
   "id": "b93ad7a9",
   "metadata": {},
   "outputs": [
    {
     "data": {
      "text/plain": [
       "'My favorite food is McDonalds'"
      ]
     },
     "execution_count": 7,
     "metadata": {},
     "output_type": "execute_result"
    }
   ],
   "source": [
    "b()"
   ]
  },
  {
   "cell_type": "markdown",
   "id": "df1a9b8a",
   "metadata": {},
   "source": [
    "#### 클로저 | closure\n",
    "- 조건\n",
    "    1. 중첩함수일 것\n",
    "    2. 내부함수가 외부함수의 상태값을 참조할 것\n",
    "    3. 외부함수의 리턴값이 내부함수일 것\n",
    "- 외부함수의 상태값을 기억하는 함수(호출 시 사용 가능)"
   ]
  },
  {
   "cell_type": "code",
   "execution_count": 9,
   "id": "3cdf207e",
   "metadata": {},
   "outputs": [],
   "source": [
    "def multiply(x):\n",
    "    def inner(y): # 조건 1 \n",
    "        return x * y # 조건 2\n",
    "    return inner # 조건 3"
   ]
  },
  {
   "cell_type": "code",
   "execution_count": 10,
   "id": "b03c3cb8",
   "metadata": {},
   "outputs": [],
   "source": [
    "m = multiply(5)\n",
    "n = multiply(6)"
   ]
  },
  {
   "cell_type": "code",
   "execution_count": 11,
   "id": "9fe80e56",
   "metadata": {},
   "outputs": [
    {
     "data": {
      "text/plain": [
       "(<function __main__.multiply.<locals>.inner(y)>,\n",
       " <function __main__.multiply.<locals>.inner(y)>)"
      ]
     },
     "execution_count": 11,
     "metadata": {},
     "output_type": "execute_result"
    }
   ],
   "source": [
    "m, n"
   ]
  },
  {
   "cell_type": "code",
   "execution_count": 12,
   "id": "d883374b",
   "metadata": {},
   "outputs": [
    {
     "data": {
      "text/plain": [
       "50"
      ]
     },
     "execution_count": 12,
     "metadata": {},
     "output_type": "execute_result"
    }
   ],
   "source": [
    "m(10) #실행시키기"
   ]
  },
  {
   "cell_type": "code",
   "execution_count": 13,
   "id": "2774decb",
   "metadata": {},
   "outputs": [
    {
     "data": {
      "text/plain": [
       "60"
      ]
     },
     "execution_count": 13,
     "metadata": {},
     "output_type": "execute_result"
    }
   ],
   "source": [
    "n(10) #실행시키기"
   ]
  },
  {
   "cell_type": "code",
   "execution_count": 14,
   "id": "3f20f863",
   "metadata": {},
   "outputs": [],
   "source": [
    "del(multiply) #메모리에서 삭제 가능"
   ]
  },
  {
   "cell_type": "code",
   "execution_count": 15,
   "id": "335bd8fa",
   "metadata": {
    "scrolled": true
   },
   "outputs": [
    {
     "ename": "NameError",
     "evalue": "name 'multiply' is not defined",
     "output_type": "error",
     "traceback": [
      "\u001b[0;31m---------------------------------------------------------------------------\u001b[0m",
      "\u001b[0;31mNameError\u001b[0m                                 Traceback (most recent call last)",
      "Input \u001b[0;32mIn [15]\u001b[0m, in \u001b[0;36m<cell line: 1>\u001b[0;34m()\u001b[0m\n\u001b[0;32m----> 1\u001b[0m \u001b[43mmultiply\u001b[49m\n",
      "\u001b[0;31mNameError\u001b[0m: name 'multiply' is not defined"
     ]
    }
   ],
   "source": [
    "multiply #삭제하면 오류 그걸로 만든 객체는 따로 기억해줌. 메모리 효율적 사용"
   ]
  },
  {
   "cell_type": "code",
   "execution_count": 17,
   "id": "3f1637f4",
   "metadata": {},
   "outputs": [
    {
     "data": {
      "text/plain": [
       "126"
      ]
     },
     "execution_count": 17,
     "metadata": {},
     "output_type": "execute_result"
    }
   ],
   "source": [
    "n(21) #이미 생성된 객체들은 기억을 하고 있음"
   ]
  },
  {
   "cell_type": "code",
   "execution_count": 20,
   "id": "6563aeee",
   "metadata": {},
   "outputs": [],
   "source": [
    "#실습, 클로저를 이용해서 리턴값을 인자로 받아 제곱하는 함수 만들기(?)\n",
    "\n",
    "def add(a, b):\n",
    "    return a + b\n",
    "\n",
    "#리턴값 * 리턴값\n",
    "def square(func): # 함수는 일급객체이므로 함수의 인자로 전달 가능\n",
    "    def inner(a, b):\n",
    "        result = func(a, b)\n",
    "        return result * result\n",
    "    return inner"
   ]
  },
  {
   "cell_type": "code",
   "execution_count": 21,
   "id": "d17682db",
   "metadata": {},
   "outputs": [],
   "source": [
    "a = square(add) # 필요한 때에 따라 다르게 이용 가능"
   ]
  },
  {
   "cell_type": "code",
   "execution_count": 22,
   "id": "e76ba6a7",
   "metadata": {},
   "outputs": [
    {
     "name": "stdout",
     "output_type": "stream",
     "text": [
      "36\n",
      "100\n"
     ]
    }
   ],
   "source": [
    "print(a(4, 2))\n",
    "print(a(3, 7))"
   ]
  },
  {
   "cell_type": "markdown",
   "id": "1e0dc43b",
   "metadata": {},
   "source": [
    "#### 데코레이터\n",
    "- 클로저 데코레이터 이용하기\n",
    "- 메인함수에 또 다른 함수를 취해 반환할 수 있게 함\n",
    "- 재사용성 높음\n",
    "- 가독성, 직관성 좋다"
   ]
  },
  {
   "cell_type": "code",
   "execution_count": 23,
   "id": "fd511675",
   "metadata": {},
   "outputs": [
    {
     "data": {
      "text/plain": [
       "81"
      ]
     },
     "execution_count": 23,
     "metadata": {},
     "output_type": "execute_result"
    }
   ],
   "source": [
    "@square #위에서 있는 square 함수를 간단히 가져와서 사용 가능\n",
    "def plus(a, b):\n",
    "    return a + b\n",
    "\n",
    "plus(4, 5)"
   ]
  },
  {
   "cell_type": "markdown",
   "id": "8188b03f",
   "metadata": {},
   "source": [
    "#### scope | 범위\n",
    "- 전역: global\n",
    "- 지역: local\n",
    "- nonlocal"
   ]
  },
  {
   "cell_type": "code",
   "execution_count": 24,
   "id": "24bfbb9c",
   "metadata": {},
   "outputs": [],
   "source": [
    "a = 1 # global\n",
    "def add(a, b):\n",
    "    x = 2 # local\n",
    "    return a + b\n",
    "\n",
    "def square(func):\n",
    "    #local\n",
    "    def inner(a, b): #nonlocal\n",
    "        result = func(a, b)\n",
    "        return result * result\n",
    "    return inner"
   ]
  },
  {
   "cell_type": "code",
   "execution_count": 48,
   "id": "64c2123b",
   "metadata": {},
   "outputs": [
    {
     "data": {
      "text/plain": [
       "999"
      ]
     },
     "execution_count": 48,
     "metadata": {},
     "output_type": "execute_result"
    }
   ],
   "source": [
    "a = 3 #global\n",
    "def outer(c): # c = 9\n",
    "    b = 5 # local\n",
    "    def inner():\n",
    "        #c = 9\n",
    "        c = 999 #nonlocal\n",
    "        return c\n",
    "    return inner()\n",
    "\n",
    "outer(9)"
   ]
  },
  {
   "cell_type": "code",
   "execution_count": 26,
   "id": "0e1d73ef",
   "metadata": {},
   "outputs": [
    {
     "data": {
      "text/plain": [
       "10"
      ]
     },
     "execution_count": 26,
     "metadata": {},
     "output_type": "execute_result"
    }
   ],
   "source": [
    "a = 3 #global\n",
    "def outer(c): # c = 9\n",
    "    b = 5 # local\n",
    "    def inner():\n",
    "        #c = 9\n",
    "        #c = 999 #nonlocal\n",
    "        nonlocal c\n",
    "        c += 1 #이것만으론 안됨\n",
    "        return c\n",
    "    return inner()\n",
    "\n",
    "outer(9)"
   ]
  },
  {
   "cell_type": "markdown",
   "id": "a3032fbe",
   "metadata": {},
   "source": [
    "#### 실습\n",
    "- fx1: speed, limit 내 속도가 제한속도를 위반하는지 t/f\n",
    "- fx2: 클로저. 초과할 경우 얼마나 초과하는 지 프린트하는 함수\n",
    "- 실행은 데코레이터로"
   ]
  },
  {
   "cell_type": "code",
   "execution_count": 27,
   "id": "f7b39d58",
   "metadata": {},
   "outputs": [
    {
     "data": {
      "text/plain": [
       "'20만큼 위반하였습니다.'"
      ]
     },
     "execution_count": 27,
     "metadata": {},
     "output_type": "execute_result"
    }
   ],
   "source": [
    "#내가 쓴 답 : 변수명 옳지 않음, fx2를 먼저 만들고 데코레이터 설정하면 더 짧았을 것 같음\n",
    "\n",
    "def fx1(speed, limit):\n",
    "    return speed > limit\n",
    "\n",
    "def fx2(func):\n",
    "    def inner(speed, limit):\n",
    "        if func(speed, limit):\n",
    "            return f'{speed - limit}만큼 위반하였습니다.'\n",
    "    return inner\n",
    "@fx2\n",
    "def real_fx1(speed, limit):\n",
    "    return speed > limit\n",
    "real_fx1(80, 60)\n",
    "\n",
    "#변수명 체크할 것"
   ]
  },
  {
   "cell_type": "code",
   "execution_count": 28,
   "id": "b85a9b7a",
   "metadata": {},
   "outputs": [
    {
     "data": {
      "text/plain": [
       "'초과: 20 km/h'"
      ]
     },
     "execution_count": 28,
     "metadata": {},
     "output_type": "execute_result"
    }
   ],
   "source": [
    "#교슈님 닶\n",
    "\n",
    "def violate(func):\n",
    "    def inner(speed, limit):\n",
    "        if func(speed, limit): #True\n",
    "            return f'초과: {speed - limit} km/h'\n",
    "        else:\n",
    "            return '정상 속도'\n",
    "    return inner\n",
    "@violate\n",
    "def is_speeding(speed, limit):\n",
    "    return speed > limit\n",
    "is_speeding(100, 80)"
   ]
  },
  {
   "cell_type": "code",
   "execution_count": 29,
   "id": "dba01580",
   "metadata": {},
   "outputs": [
    {
     "data": {
      "text/plain": [
       "'정상 속도'"
      ]
     },
     "execution_count": 29,
     "metadata": {},
     "output_type": "execute_result"
    }
   ],
   "source": [
    "is_speeding(80, 100)"
   ]
  },
  {
   "cell_type": "markdown",
   "id": "64c5a231",
   "metadata": {},
   "source": [
    "### 익명함수 | lambda\n",
    "- 이름이 없다. \n",
    "def is_speeding():\n",
    "    return\n",
    "- def, return 안 씀\n",
    "- is_speeding 쓸 수도 있고 안쓸수도 있음\n",
    "- 단순한 용도의 함수가 필요할 경우 사용\n",
    "- 잦은 사용은 권하지 않음\n",
    "- lambda x: <x를 요리할 코드>"
   ]
  },
  {
   "cell_type": "code",
   "execution_count": 30,
   "id": "7474d931",
   "metadata": {},
   "outputs": [
    {
     "data": {
      "text/plain": [
       "102"
      ]
     },
     "execution_count": 30,
     "metadata": {},
     "output_type": "execute_result"
    }
   ],
   "source": [
    "(lambda x: x + 100)(2)"
   ]
  },
  {
   "cell_type": "code",
   "execution_count": 64,
   "id": "69a80609",
   "metadata": {},
   "outputs": [
    {
     "data": {
      "text/plain": [
       "3"
      ]
     },
     "execution_count": 64,
     "metadata": {},
     "output_type": "execute_result"
    }
   ],
   "source": [
    "#위의 익명함수를 일반 함수로 바꿀 시\n",
    "def add_hundred(x):\n",
    "    return x + 100\n",
    "add_one(2)"
   ]
  },
  {
   "cell_type": "code",
   "execution_count": 31,
   "id": "865a638c",
   "metadata": {},
   "outputs": [
    {
     "data": {
      "text/plain": [
       "8"
      ]
     },
     "execution_count": 31,
     "metadata": {},
     "output_type": "execute_result"
    }
   ],
   "source": [
    "#변수에 저장 가능\n",
    "f = lambda x, y: x + y\n",
    "f(3, 5)"
   ]
  },
  {
   "cell_type": "code",
   "execution_count": 32,
   "id": "48515b0d",
   "metadata": {},
   "outputs": [
    {
     "data": {
      "text/plain": [
       "'Hello!'"
      ]
     },
     "execution_count": 32,
     "metadata": {},
     "output_type": "execute_result"
    }
   ],
   "source": [
    "# 실습\n",
    "# - 단어가 들어왔을 때 첫글자 대문자로 바꾸고 단어 끝에 !를 붙이도록 람다 만들자\n",
    "\n",
    "(lambda x: x.capitalize() + '!')('hello')"
   ]
  },
  {
   "cell_type": "markdown",
   "id": "44910816",
   "metadata": {},
   "source": [
    "#### 제너레이터\n",
    "- return -> yeild\n",
    "- 시퀀스를 순회할 때 시퀀스를 생성하는 객체\n",
    "- 한 번 사용되고 사라짐 => 메모리 효율 좋음 "
   ]
  },
  {
   "cell_type": "code",
   "execution_count": 35,
   "id": "ccb33aac",
   "metadata": {},
   "outputs": [
    {
     "data": {
      "text/plain": [
       "<generator object print_number at 0x7fe8585bcd60>"
      ]
     },
     "execution_count": 35,
     "metadata": {},
     "output_type": "execute_result"
    }
   ],
   "source": [
    "def print_number(num):\n",
    "    for i in range(num):\n",
    "        yield i\n",
    "\n",
    "print_number(5)"
   ]
  },
  {
   "cell_type": "code",
   "execution_count": 48,
   "id": "f4bd5809",
   "metadata": {
    "scrolled": true
   },
   "outputs": [
    {
     "name": "stdout",
     "output_type": "stream",
     "text": [
      "0\n",
      "1\n",
      "2\n",
      "3\n",
      "4\n"
     ]
    }
   ],
   "source": [
    "fx = print_number(5) #한번 사용되고 사라짐\n",
    "for i in fx:\n",
    "    print(i)"
   ]
  },
  {
   "cell_type": "code",
   "execution_count": 49,
   "id": "ef26b625",
   "metadata": {},
   "outputs": [],
   "source": [
    "for i in fx:\n",
    "    print(i)"
   ]
  },
  {
   "cell_type": "code",
   "execution_count": 41,
   "id": "a8f84677",
   "metadata": {},
   "outputs": [
    {
     "ename": "StopIteration",
     "evalue": "",
     "output_type": "error",
     "traceback": [
      "\u001b[0;31m---------------------------------------------------------------------------\u001b[0m",
      "\u001b[0;31mStopIteration\u001b[0m                             Traceback (most recent call last)",
      "Input \u001b[0;32mIn [41]\u001b[0m, in \u001b[0;36m<cell line: 5>\u001b[0;34m()\u001b[0m\n\u001b[1;32m      3\u001b[0m \u001b[38;5;28mnext\u001b[39m(fx)\n\u001b[1;32m      4\u001b[0m \u001b[38;5;28mnext\u001b[39m(fx)\n\u001b[0;32m----> 5\u001b[0m \u001b[38;5;28;43mnext\u001b[39;49m\u001b[43m(\u001b[49m\u001b[43mfx\u001b[49m\u001b[43m)\u001b[49m\n",
      "\u001b[0;31mStopIteration\u001b[0m: "
     ]
    }
   ],
   "source": [
    "fx = print_number(3) #복습하던 중 제너레이터 관련해서 next()를 알게 됨\n",
    "next(fx)\n",
    "next(fx)\n",
    "next(fx)\n",
    "next(fx)"
   ]
  },
  {
   "cell_type": "markdown",
   "id": "f5ee3fbe",
   "metadata": {},
   "source": [
    "### 실습 \n",
    "range() 구현하기\n",
    "- 제너레이터 사용\n",
    "- def my_range(start, end, step)  \n",
    "\n",
    "ranger = my_range(a,b,c)"
   ]
  },
  {
   "cell_type": "code",
   "execution_count": 53,
   "id": "77d08c63",
   "metadata": {},
   "outputs": [],
   "source": [
    "def my_range(end, start = 0, step = 1):\n",
    "    i = start\n",
    "    while i < end:\n",
    "        yield i\n",
    "        i += step"
   ]
  },
  {
   "cell_type": "code",
   "execution_count": 54,
   "id": "f85fb650",
   "metadata": {},
   "outputs": [
    {
     "name": "stdout",
     "output_type": "stream",
     "text": [
      "0\n",
      "1\n",
      "2\n",
      "3\n",
      "4\n",
      "5\n",
      "6\n",
      "7\n",
      "8\n",
      "9\n"
     ]
    }
   ],
   "source": [
    "a = my_range(10)\n",
    "for i in a:\n",
    "    print(i)"
   ]
  },
  {
   "cell_type": "code",
   "execution_count": 55,
   "id": "556979fa",
   "metadata": {},
   "outputs": [],
   "source": [
    "for i in a:\n",
    "    print(i)"
   ]
  },
  {
   "cell_type": "code",
   "execution_count": 56,
   "id": "3192e84a",
   "metadata": {},
   "outputs": [],
   "source": [
    "ranger = (i for i in range(5)) #컴프리헨션으로도 쓸 수 있음"
   ]
  },
  {
   "cell_type": "code",
   "execution_count": 57,
   "id": "9b5a822c",
   "metadata": {},
   "outputs": [
    {
     "name": "stdout",
     "output_type": "stream",
     "text": [
      "0\n",
      "1\n",
      "2\n",
      "3\n",
      "4\n"
     ]
    }
   ],
   "source": [
    "for i in ranger:\n",
    "    print(i)"
   ]
  },
  {
   "cell_type": "code",
   "execution_count": 94,
   "id": "4ec07770",
   "metadata": {},
   "outputs": [],
   "source": [
    "for i in ranger:\n",
    "    print(i)"
   ]
  },
  {
   "cell_type": "markdown",
   "id": "27fbeeb8",
   "metadata": {},
   "source": [
    "#### 재귀함수\n",
    "- 너무 깊으면 예외 발생 => 주의\n",
    "- 자기 자신을 호출하는 함수\n",
    "- [[1, 2, 3], [[[1, 1]], 4, 5]] -> [1, 2, 3, 1, 1, 4, 5]"
   ]
  },
  {
   "cell_type": "code",
   "execution_count": 58,
   "id": "50390aa9",
   "metadata": {},
   "outputs": [],
   "source": [
    "def flatten(sent):\n",
    "    for word in sent:\n",
    "        if isinstance(word, list): #isinstance: 해당 객체인지 확인\n",
    "            #true\n",
    "            for sub_word in flatten(word):\n",
    "                yield sub_word\n",
    "            # yield from flatten(word)\n",
    "        else:\n",
    "            yield word"
   ]
  },
  {
   "cell_type": "code",
   "execution_count": 59,
   "id": "2e35dd7b",
   "metadata": {},
   "outputs": [
    {
     "data": {
      "text/plain": [
       "False"
      ]
     },
     "execution_count": 59,
     "metadata": {},
     "output_type": "execute_result"
    }
   ],
   "source": [
    "isinstance('h', int) #'h'는 정수형아니므로 false"
   ]
  },
  {
   "cell_type": "code",
   "execution_count": 60,
   "id": "92b549ab",
   "metadata": {},
   "outputs": [
    {
     "data": {
      "text/plain": [
       "<generator object flatten at 0x7fe849c19eb0>"
      ]
     },
     "execution_count": 60,
     "metadata": {},
     "output_type": "execute_result"
    }
   ],
   "source": [
    "a = [[1, 2, 3], [[[1, 1]], 4, 5]]\n",
    "flatten(a)"
   ]
  },
  {
   "cell_type": "code",
   "execution_count": 61,
   "id": "417f3360",
   "metadata": {},
   "outputs": [
    {
     "name": "stdout",
     "output_type": "stream",
     "text": [
      "1\n",
      "2\n",
      "3\n",
      "1\n",
      "1\n",
      "4\n",
      "5\n"
     ]
    }
   ],
   "source": [
    "for i in flatten(a):\n",
    "    print(i)"
   ]
  },
  {
   "cell_type": "markdown",
   "id": "cf679dde",
   "metadata": {},
   "source": [
    "### 예외 처리 | exception handling\n",
    "- 목적: 프로그램 정상 종료\n",
    "- 예외 발생 시, 사용자(우리)에게 알리고 조치 취함\n",
    "- 소프트랜딩"
   ]
  },
  {
   "cell_type": "code",
   "execution_count": 66,
   "id": "05a91b00",
   "metadata": {},
   "outputs": [
    {
     "ename": "ZeroDivisionError",
     "evalue": "division by zero",
     "output_type": "error",
     "traceback": [
      "\u001b[0;31m---------------------------------------------------------------------------\u001b[0m",
      "\u001b[0;31mZeroDivisionError\u001b[0m                         Traceback (most recent call last)",
      "Input \u001b[0;32mIn [66]\u001b[0m, in \u001b[0;36m<cell line: 1>\u001b[0;34m()\u001b[0m\n\u001b[0;32m----> 1\u001b[0m \u001b[38;5;241;43m100\u001b[39;49m\u001b[43m \u001b[49m\u001b[38;5;241;43m/\u001b[39;49m\u001b[43m \u001b[49m\u001b[38;5;241;43m0\u001b[39;49m\n",
      "\u001b[0;31mZeroDivisionError\u001b[0m: division by zero"
     ]
    }
   ],
   "source": [
    "100 / 0  #ZeroDivisionError"
   ]
  },
  {
   "cell_type": "code",
   "execution_count": 67,
   "id": "6efe942a",
   "metadata": {},
   "outputs": [
    {
     "ename": "ValueError",
     "evalue": "invalid literal for int() with base 10: 'sssssdsd1s'",
     "output_type": "error",
     "traceback": [
      "\u001b[0;31m---------------------------------------------------------------------------\u001b[0m",
      "\u001b[0;31mValueError\u001b[0m                                Traceback (most recent call last)",
      "Input \u001b[0;32mIn [67]\u001b[0m, in \u001b[0;36m<cell line: 1>\u001b[0;34m()\u001b[0m\n\u001b[0;32m----> 1\u001b[0m \u001b[38;5;28;43mint\u001b[39;49m\u001b[43m(\u001b[49m\u001b[38;5;124;43m'\u001b[39;49m\u001b[38;5;124;43msssssdsd1s\u001b[39;49m\u001b[38;5;124;43m'\u001b[39;49m\u001b[43m)\u001b[49m\n",
      "\u001b[0;31mValueError\u001b[0m: invalid literal for int() with base 10: 'sssssdsd1s'"
     ]
    }
   ],
   "source": [
    "int('sssssdsd1s') #ValueError"
   ]
  },
  {
   "cell_type": "code",
   "execution_count": 68,
   "id": "01c9b58f",
   "metadata": {},
   "outputs": [
    {
     "ename": "NameError",
     "evalue": "name 'hello' is not defined",
     "output_type": "error",
     "traceback": [
      "\u001b[0;31m---------------------------------------------------------------------------\u001b[0m",
      "\u001b[0;31mNameError\u001b[0m                                 Traceback (most recent call last)",
      "Input \u001b[0;32mIn [68]\u001b[0m, in \u001b[0;36m<cell line: 1>\u001b[0;34m()\u001b[0m\n\u001b[0;32m----> 1\u001b[0m hello \u001b[38;5;241m+\u001b[39m\u001b[38;5;241m=\u001b[39m \u001b[38;5;241m2\u001b[39m\n",
      "\u001b[0;31mNameError\u001b[0m: name 'hello' is not defined"
     ]
    }
   ],
   "source": [
    "hello += 2 #NameError"
   ]
  },
  {
   "cell_type": "code",
   "execution_count": 69,
   "id": "40ed62f2",
   "metadata": {},
   "outputs": [
    {
     "ename": "IndexError",
     "evalue": "string index out of range",
     "output_type": "error",
     "traceback": [
      "\u001b[0;31m---------------------------------------------------------------------------\u001b[0m",
      "\u001b[0;31mIndexError\u001b[0m                                Traceback (most recent call last)",
      "Input \u001b[0;32mIn [69]\u001b[0m, in \u001b[0;36m<cell line: 1>\u001b[0;34m()\u001b[0m\n\u001b[0;32m----> 1\u001b[0m \u001b[38;5;124;43m'\u001b[39;49m\u001b[38;5;124;43msssss\u001b[39;49m\u001b[38;5;124;43m'\u001b[39;49m\u001b[43m[\u001b[49m\u001b[38;5;241;43m10\u001b[39;49m\u001b[43m]\u001b[49m\n",
      "\u001b[0;31mIndexError\u001b[0m: string index out of range"
     ]
    }
   ],
   "source": [
    "'sssss'[10] #IndexError"
   ]
  },
  {
   "cell_type": "code",
   "execution_count": 70,
   "id": "5c83831d",
   "metadata": {},
   "outputs": [
    {
     "name": "stdout",
     "output_type": "stream",
     "text": [
      "0으로 나눌 수 없음\n"
     ]
    }
   ],
   "source": [
    "try:\n",
    "    #<에러 발생될 법한 코드 블럭>\n",
    "    10 / 0\n",
    "except ZeroDivisionError: #<에러타입>:\n",
    "    #<처리할 방법>\n",
    "    print('0으로 나눌 수 없음')"
   ]
  },
  {
   "cell_type": "code",
   "execution_count": 71,
   "id": "fc633ff8",
   "metadata": {},
   "outputs": [
    {
     "name": "stdout",
     "output_type": "stream",
     "text": [
      "error\n",
      "10.0\n",
      "5.0\n",
      "3.3333333333333335\n",
      "2.5\n",
      "2.0\n",
      "1.6666666666666667\n",
      "1.4285714285714286\n",
      "1.25\n",
      "1.1111111111111112\n"
     ]
    }
   ],
   "source": [
    "for i in range(10):\n",
    "    try:\n",
    "        print(10 / i)\n",
    "    except ZeroDivisionError:\n",
    "        print('error')"
   ]
  },
  {
   "cell_type": "code",
   "execution_count": 72,
   "id": "e840b82d",
   "metadata": {},
   "outputs": [
    {
     "name": "stdout",
     "output_type": "stream",
     "text": [
      "인덱스 입력하세요> 29\n",
      "index error\n",
      "string index out of range\n",
      "인덱스 입력하세요> q\n"
     ]
    }
   ],
   "source": [
    "word = 'hello'\n",
    "while True:\n",
    "    index = input('인덱스 입력하세요> ')\n",
    "    if index == 'q':\n",
    "        break\n",
    "    try:\n",
    "        print(word[int(index)])\n",
    "    except IndexError as e1:\n",
    "        print('index error')\n",
    "        print(e1)\n",
    "    except ValueError as e2:\n",
    "        print('type error')\n",
    "        print(e2)"
   ]
  },
  {
   "cell_type": "markdown",
   "id": "8ee045e6",
   "metadata": {},
   "source": [
    "#### 2. 예외 발생시키기\n",
    "프로그램을 강제 종료하고자 할 때 사용함\n",
    "- raise\n",
    "- assert"
   ]
  },
  {
   "cell_type": "code",
   "execution_count": 73,
   "id": "86cce6be",
   "metadata": {},
   "outputs": [
    {
     "ename": "ValueError",
     "evalue": "print ...",
     "output_type": "error",
     "traceback": [
      "\u001b[0;31m---------------------------------------------------------------------------\u001b[0m",
      "\u001b[0;31mValueError\u001b[0m                                Traceback (most recent call last)",
      "Input \u001b[0;32mIn [73]\u001b[0m, in \u001b[0;36m<cell line: 1>\u001b[0;34m()\u001b[0m\n\u001b[0;32m----> 1\u001b[0m \u001b[38;5;28;01mraise\u001b[39;00m \u001b[38;5;167;01mValueError\u001b[39;00m(\u001b[38;5;124m'\u001b[39m\u001b[38;5;124mprint ...\u001b[39m\u001b[38;5;124m'\u001b[39m)\n",
      "\u001b[0;31mValueError\u001b[0m: print ..."
     ]
    }
   ],
   "source": [
    "raise ValueError('print ...')"
   ]
  },
  {
   "cell_type": "code",
   "execution_count": 74,
   "id": "ed0627f5",
   "metadata": {},
   "outputs": [
    {
     "name": "stdout",
     "output_type": "stream",
     "text": [
      "number > \n"
     ]
    },
    {
     "ename": "ValueError",
     "evalue": "숫자가 아닙니다.",
     "output_type": "error",
     "traceback": [
      "\u001b[0;31m---------------------------------------------------------------------------\u001b[0m",
      "\u001b[0;31mValueError\u001b[0m                                Traceback (most recent call last)",
      "Input \u001b[0;32mIn [74]\u001b[0m, in \u001b[0;36m<cell line: 2>\u001b[0;34m()\u001b[0m\n\u001b[1;32m      2\u001b[0m num \u001b[38;5;241m=\u001b[39m \u001b[38;5;28minput\u001b[39m(\u001b[38;5;124m'\u001b[39m\u001b[38;5;124mnumber > \u001b[39m\u001b[38;5;124m'\u001b[39m)\n\u001b[1;32m      3\u001b[0m \u001b[38;5;28;01mif\u001b[39;00m \u001b[38;5;129;01mnot\u001b[39;00m num\u001b[38;5;241m.\u001b[39misdigit():\n\u001b[0;32m----> 4\u001b[0m     \u001b[38;5;28;01mraise\u001b[39;00m \u001b[38;5;167;01mValueError\u001b[39;00m(\u001b[38;5;124m'\u001b[39m\u001b[38;5;124m숫자가 아닙니다.\u001b[39m\u001b[38;5;124m'\u001b[39m)\n\u001b[1;32m      5\u001b[0m \u001b[38;5;28;01melse\u001b[39;00m:\n\u001b[1;32m      6\u001b[0m     \u001b[38;5;28mprint\u001b[39m(num)\n",
      "\u001b[0;31mValueError\u001b[0m: 숫자가 아닙니다."
     ]
    }
   ],
   "source": [
    "while True:\n",
    "    num = input('number > ')\n",
    "    if not num.isdigit():\n",
    "        raise ValueError('숫자가 아닙니다.')\n",
    "    else:\n",
    "        print(num)\n",
    "        break"
   ]
  },
  {
   "cell_type": "code",
   "execution_count": 75,
   "id": "3b3cbddd",
   "metadata": {},
   "outputs": [
    {
     "ename": "SyntaxError",
     "evalue": "invalid syntax (3410362688.py, line 1)",
     "output_type": "error",
     "traceback": [
      "\u001b[0;36m  Input \u001b[0;32mIn [75]\u001b[0;36m\u001b[0m\n\u001b[0;31m    assert <참인 조건> , '예외 메시지' #AssertionError\u001b[0m\n\u001b[0m           ^\u001b[0m\n\u001b[0;31mSyntaxError\u001b[0m\u001b[0;31m:\u001b[0m invalid syntax\n"
     ]
    }
   ],
   "source": [
    "assert <참인 조건> , '예외 메시지' #AssertionError"
   ]
  },
  {
   "cell_type": "code",
   "execution_count": 76,
   "id": "03fbb384",
   "metadata": {},
   "outputs": [
    {
     "ename": "AssertionError",
     "evalue": "정수 아님",
     "output_type": "error",
     "traceback": [
      "\u001b[0;31m---------------------------------------------------------------------------\u001b[0m",
      "\u001b[0;31mAssertionError\u001b[0m                            Traceback (most recent call last)",
      "Input \u001b[0;32mIn [76]\u001b[0m, in \u001b[0;36m<cell line: 4>\u001b[0;34m()\u001b[0m\n\u001b[1;32m      2\u001b[0m     \u001b[38;5;28;01massert\u001b[39;00m \u001b[38;5;28misinstance\u001b[39m(num, \u001b[38;5;28mint\u001b[39m), \u001b[38;5;124m'\u001b[39m\u001b[38;5;124m정수 아님\u001b[39m\u001b[38;5;124m'\u001b[39m\n\u001b[1;32m      3\u001b[0m     \u001b[38;5;28;01mreturn\u001b[39;00m \u001b[38;5;28mbin\u001b[39m(num)\n\u001b[0;32m----> 4\u001b[0m \u001b[43mget_binary\u001b[49m\u001b[43m(\u001b[49m\u001b[38;5;124;43m'\u001b[39;49m\u001b[38;5;124;43mee\u001b[39;49m\u001b[38;5;124;43m'\u001b[39;49m\u001b[43m)\u001b[49m\n",
      "Input \u001b[0;32mIn [76]\u001b[0m, in \u001b[0;36mget_binary\u001b[0;34m(num)\u001b[0m\n\u001b[1;32m      1\u001b[0m \u001b[38;5;28;01mdef\u001b[39;00m \u001b[38;5;21mget_binary\u001b[39m(num):\n\u001b[0;32m----> 2\u001b[0m     \u001b[38;5;28;01massert\u001b[39;00m \u001b[38;5;28misinstance\u001b[39m(num, \u001b[38;5;28mint\u001b[39m), \u001b[38;5;124m'\u001b[39m\u001b[38;5;124m정수 아님\u001b[39m\u001b[38;5;124m'\u001b[39m\n\u001b[1;32m      3\u001b[0m     \u001b[38;5;28;01mreturn\u001b[39;00m \u001b[38;5;28mbin\u001b[39m(num)\n",
      "\u001b[0;31mAssertionError\u001b[0m: 정수 아님"
     ]
    }
   ],
   "source": [
    "def get_binary(num):\n",
    "    assert isinstance(num, int), '정수 아님'\n",
    "    return bin(num)\n",
    "get_binary('ee')"
   ]
  },
  {
   "cell_type": "markdown",
   "id": "92a438f7",
   "metadata": {},
   "source": [
    "#### 예외 정의하기\n",
    "- 사용자 정의 예외\n",
    "- Exception이라는 부모 클래스를 상속받는다."
   ]
  },
  {
   "cell_type": "code",
   "execution_count": 77,
   "id": "bcb0cb7b",
   "metadata": {},
   "outputs": [],
   "source": [
    "class MyException(Exception):\n",
    "    pass"
   ]
  },
  {
   "cell_type": "code",
   "execution_count": 78,
   "id": "162d24eb",
   "metadata": {},
   "outputs": [
    {
     "name": "stdout",
     "output_type": "stream",
     "text": [
      "a\n",
      "b\n"
     ]
    },
    {
     "ename": "MyException",
     "evalue": "대문자 안 됨!",
     "output_type": "error",
     "traceback": [
      "\u001b[0;31m---------------------------------------------------------------------------\u001b[0m",
      "\u001b[0;31mMyException\u001b[0m                               Traceback (most recent call last)",
      "Input \u001b[0;32mIn [78]\u001b[0m, in \u001b[0;36m<cell line: 1>\u001b[0;34m()\u001b[0m\n\u001b[1;32m      1\u001b[0m \u001b[38;5;28;01mfor\u001b[39;00m word \u001b[38;5;129;01min\u001b[39;00m [\u001b[38;5;124m'\u001b[39m\u001b[38;5;124ma\u001b[39m\u001b[38;5;124m'\u001b[39m, \u001b[38;5;124m'\u001b[39m\u001b[38;5;124mb\u001b[39m\u001b[38;5;124m'\u001b[39m, \u001b[38;5;124m'\u001b[39m\u001b[38;5;124mC\u001b[39m\u001b[38;5;124m'\u001b[39m]:\n\u001b[1;32m      2\u001b[0m     \u001b[38;5;28;01mif\u001b[39;00m word\u001b[38;5;241m.\u001b[39misupper():\n\u001b[0;32m----> 3\u001b[0m         \u001b[38;5;28;01mraise\u001b[39;00m MyException(\u001b[38;5;124m'\u001b[39m\u001b[38;5;124m대문자 안 됨!\u001b[39m\u001b[38;5;124m'\u001b[39m)\n\u001b[1;32m      4\u001b[0m     \u001b[38;5;28;01melse\u001b[39;00m:\n\u001b[1;32m      5\u001b[0m         \u001b[38;5;28mprint\u001b[39m(word)\n",
      "\u001b[0;31mMyException\u001b[0m: 대문자 안 됨!"
     ]
    }
   ],
   "source": [
    "for word in ['a', 'b', 'C']:\n",
    "    if word.isupper():\n",
    "        raise MyException('대문자 안 됨!')\n",
    "    else:\n",
    "        print(word)"
   ]
  },
  {
   "cell_type": "code",
   "execution_count": 79,
   "id": "4c7df08f",
   "metadata": {},
   "outputs": [
    {
     "name": "stdout",
     "output_type": "stream",
     "text": [
      "a\n",
      "b\n"
     ]
    },
    {
     "ename": "UppercaseException",
     "evalue": "대문자 안된다구",
     "output_type": "error",
     "traceback": [
      "\u001b[0;31m---------------------------------------------------------------------------\u001b[0m",
      "\u001b[0;31mUppercaseException\u001b[0m                        Traceback (most recent call last)",
      "Input \u001b[0;32mIn [79]\u001b[0m, in \u001b[0;36m<cell line: 5>\u001b[0;34m()\u001b[0m\n\u001b[1;32m      5\u001b[0m \u001b[38;5;28;01mfor\u001b[39;00m word \u001b[38;5;129;01min\u001b[39;00m [\u001b[38;5;124m'\u001b[39m\u001b[38;5;124ma\u001b[39m\u001b[38;5;124m'\u001b[39m, \u001b[38;5;124m'\u001b[39m\u001b[38;5;124mb\u001b[39m\u001b[38;5;124m'\u001b[39m, \u001b[38;5;124m'\u001b[39m\u001b[38;5;124mC\u001b[39m\u001b[38;5;124m'\u001b[39m]:\n\u001b[1;32m      6\u001b[0m     \u001b[38;5;28;01mif\u001b[39;00m word\u001b[38;5;241m.\u001b[39misupper():\n\u001b[0;32m----> 7\u001b[0m         \u001b[38;5;28;01mraise\u001b[39;00m UppercaseException\n\u001b[1;32m      8\u001b[0m     \u001b[38;5;28;01melse\u001b[39;00m:\n\u001b[1;32m      9\u001b[0m         \u001b[38;5;28mprint\u001b[39m(word)\n",
      "\u001b[0;31mUppercaseException\u001b[0m: 대문자 안된다구"
     ]
    }
   ],
   "source": [
    "class UppercaseException(Exception):\n",
    "    def __init__(self):\n",
    "        super().__init__('대문자 안된다구')\n",
    "        \n",
    "for word in ['a', 'b', 'C']:\n",
    "    if word.isupper():\n",
    "        raise UppercaseException\n",
    "    else:\n",
    "        print(word)"
   ]
  }
 ],
 "metadata": {
  "kernelspec": {
   "display_name": "Python 3 (ipykernel)",
   "language": "python",
   "name": "python3"
  },
  "language_info": {
   "codemirror_mode": {
    "name": "ipython",
    "version": 3
   },
   "file_extension": ".py",
   "mimetype": "text/x-python",
   "name": "python",
   "nbconvert_exporter": "python",
   "pygments_lexer": "ipython3",
   "version": "3.9.5"
  }
 },
 "nbformat": 4,
 "nbformat_minor": 5
}
